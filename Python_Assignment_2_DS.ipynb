{
  "nbformat": 4,
  "nbformat_minor": 0,
  "metadata": {
    "colab": {
      "provenance": []
    },
    "kernelspec": {
      "name": "python3",
      "display_name": "Python 3"
    },
    "language_info": {
      "name": "python"
    }
  },
  "cells": [
    {
      "cell_type": "markdown",
      "source": [
        "\n",
        "### 1. Program to accept percentage from the user and display the grade\n"
      ],
      "metadata": {
        "id": "mX73tmIAZLSS"
      }
    },
    {
      "cell_type": "code",
      "source": [
        "# Input: Accept percentage from the user\n",
        "percentage = float(input(\"Enter your percentage: \"))\n",
        "\n",
        "# Condition to check the grade\n",
        "if percentage > 90:\n",
        "    print(\"Grade: A\")\n",
        "elif 80 < percentage <= 90:\n",
        "    print(\"Grade: B\")\n",
        "elif 60 <= percentage <= 80:\n",
        "    print(\"Grade: C\")\n",
        "else:\n",
        "    print(\"Grade: D\")"
      ],
      "metadata": {
        "colab": {
          "base_uri": "https://localhost:8080/"
        },
        "id": "MvET3Mj9ZQ-S",
        "outputId": "ce831b96-1d33-47db-b430-c1aa62f05eb1"
      },
      "execution_count": 1,
      "outputs": [
        {
          "output_type": "stream",
          "name": "stdout",
          "text": [
            "Enter your percentage: 69\n",
            "Grade: C\n"
          ]
        }
      ]
    },
    {
      "cell_type": "markdown",
      "source": [
        "2. Program to accept the cost price of a bike and display the road tax:"
      ],
      "metadata": {
        "id": "df1k3WEqZ471"
      }
    },
    {
      "cell_type": "code",
      "source": [
        "# Input: Accept the cost price of the bike\n",
        "cost_price = float(input(\"Enter the cost price of the bike: \"))\n",
        "\n",
        "# Determine the road tax based on cost price\n",
        "if cost_price > 100000:\n",
        "    tax = cost_price * 0.15\n",
        "elif 50000 < cost_price <= 100000:\n",
        "    tax = cost_price * 0.10\n",
        "else:\n",
        "    tax = cost_price * 0.05\n",
        "\n",
        "print(f\"The road tax to be paid is: {tax} Rs\")"
      ],
      "metadata": {
        "colab": {
          "base_uri": "https://localhost:8080/"
        },
        "id": "d0BSzfjqZeje",
        "outputId": "7944a80a-0b42-4215-881c-818c38c0fc89"
      },
      "execution_count": 5,
      "outputs": [
        {
          "output_type": "stream",
          "name": "stdout",
          "text": [
            "Enter the cost price of the bike: 90000\n",
            "The road tax to be paid is: 9000.0 Rs\n"
          ]
        }
      ]
    },
    {
      "cell_type": "markdown",
      "source": [
        "3. Accept any city from the user and display monuments of that city:"
      ],
      "metadata": {
        "id": "knV-YlC7cHK1"
      }
    },
    {
      "cell_type": "code",
      "source": [
        " #Input: Accept city from the user\n",
        "city = input(\"Enter the name of the city: \").lower()\n",
        "\n",
        "# Display monuments based on the city\n",
        "if city == \"delhi\":\n",
        "    print(\"Monument: Red Fort\")\n",
        "elif city == \"agra\":\n",
        "    print(\"Monument: Taj Mahal\")\n",
        "elif city == \"jaipur\":\n",
        "    print(\"Monument: Jal Mahal\")\n",
        "else:\n",
        "    print(\"No monument data available for this city.\")"
      ],
      "metadata": {
        "colab": {
          "base_uri": "https://localhost:8080/"
        },
        "id": "YJ8INJd6bBD5",
        "outputId": "bb486048-e241-4e98-bfa4-517bb036ad7c"
      },
      "execution_count": 7,
      "outputs": [
        {
          "output_type": "stream",
          "name": "stdout",
          "text": [
            "Enter the name of the city: delhi\n",
            "Monument: Red Fort\n"
          ]
        }
      ]
    },
    {
      "cell_type": "markdown",
      "source": [
        "4. Check how many times a given number can be divided by 3 before it is less than or equal to 10:"
      ],
      "metadata": {
        "id": "bdYyGY7UdvGN"
      }
    },
    {
      "cell_type": "code",
      "source": [
        "# Input: Accept a number from the user\n",
        "num = int(input(\"Enter a number: \"))\n",
        "\n",
        "# Initialize a counter for divisions\n",
        "count = 0\n",
        "\n",
        "# Keep dividing by 3 until the number is <= 10\n",
        "while num > 10:\n",
        "    num /= 3\n",
        "    count += 1\n",
        "\n",
        "print(f\"The number can be divided by 3 {count} times before it becomes less than or equal to 10.\")"
      ],
      "metadata": {
        "colab": {
          "base_uri": "https://localhost:8080/"
        },
        "id": "v_2Q8IpwcVBt",
        "outputId": "58cda6e3-64ca-4ce7-e5d4-ca5a5bc95032"
      },
      "execution_count": 9,
      "outputs": [
        {
          "output_type": "stream",
          "name": "stdout",
          "text": [
            "Enter a number: 2\n",
            "The number can be divided by 3 0 times before it becomes less than or equal to 10.\n"
          ]
        }
      ]
    },
    {
      "cell_type": "markdown",
      "source": [
        "5. Explanation of the while loop in Python:\n",
        "\n",
        "The while loop is used when you want to repeat a block of code an indefinite number of times, depending on a condition. The loop will continue to run as long as the condition evaluates to True. The while loop is particularly useful when you do not know beforehand how many times you need to repeat an operation"
      ],
      "metadata": {
        "id": "52vof8-_e2PI"
      }
    },
    {
      "cell_type": "code",
      "source": [
        "# Example: A simple while loop that prints numbers from 1 to 5\n",
        "\n",
        "count = 1\n",
        "while count <= 5:\n",
        "    print(count)\n",
        "    count += 1"
      ],
      "metadata": {
        "colab": {
          "base_uri": "https://localhost:8080/"
        },
        "id": "4IVATxxveDMu",
        "outputId": "6778366c-098f-45c2-cbba-6ac0fb697d66"
      },
      "execution_count": 10,
      "outputs": [
        {
          "output_type": "stream",
          "name": "stdout",
          "text": [
            "1\n",
            "2\n",
            "3\n",
            "4\n",
            "5\n"
          ]
        }
      ]
    },
    {
      "cell_type": "markdown",
      "source": [
        "In the above example, the while loop will run as long as count is less than or equal to 5. It prints the numbers from 1 to 5, incrementing the value of count with each iteration."
      ],
      "metadata": {
        "id": "dEVw2FXzfQXB"
      }
    },
    {
      "cell_type": "markdown",
      "source": [
        "6. Use nested while loop to print 3 different patterns:\n",
        "Pattern 1: Right angle triangle"
      ],
      "metadata": {
        "id": "4y7AVjr5fHLC"
      }
    },
    {
      "cell_type": "code",
      "source": [
        "# Pattern 1\n",
        "i = 1\n",
        "while i <= 5:\n",
        "    j = 1\n",
        "    while j <= i:\n",
        "        print(\"*\", end=\" \")\n",
        "        j += 1\n",
        "    print()\n",
        "    i += 1"
      ],
      "metadata": {
        "colab": {
          "base_uri": "https://localhost:8080/"
        },
        "id": "Ohd3sQgRfJ01",
        "outputId": "0f74787b-b4e7-40fe-cb7e-44e27838a91d"
      },
      "execution_count": 11,
      "outputs": [
        {
          "output_type": "stream",
          "name": "stdout",
          "text": [
            "* \n",
            "* * \n",
            "* * * \n",
            "* * * * \n",
            "* * * * * \n"
          ]
        }
      ]
    },
    {
      "cell_type": "markdown",
      "source": [
        "7. Reverse a while loop to display numbers from 10 to 1:"
      ],
      "metadata": {
        "id": "B0WMhHpPfhOf"
      }
    },
    {
      "cell_type": "code",
      "source": [
        "# Reverse numbers from 10 to 1\n",
        "num = 10\n",
        "while num >= 1:\n",
        "    print(num)\n",
        "    num -= 1"
      ],
      "metadata": {
        "colab": {
          "base_uri": "https://localhost:8080/"
        },
        "id": "xiTsYuuHfmxs",
        "outputId": "ce2994a2-e23b-40e2-a0fd-3569f4680123"
      },
      "execution_count": 12,
      "outputs": [
        {
          "output_type": "stream",
          "name": "stdout",
          "text": [
            "10\n",
            "9\n",
            "8\n",
            "7\n",
            "6\n",
            "5\n",
            "4\n",
            "3\n",
            "2\n",
            "1\n"
          ]
        }
      ]
    },
    {
      "cell_type": "markdown",
      "source": [
        "8. Reverse a while loop to display numbers from 10 to 1:"
      ],
      "metadata": {
        "id": "9NJp3Lw0f9dO"
      }
    },
    {
      "cell_type": "code",
      "source": [
        "# Reverse numbers from 10 to 1\n",
        "num = 10\n",
        "while num >= 1:\n",
        "    print(num)\n",
        "    num -= 1"
      ],
      "metadata": {
        "colab": {
          "base_uri": "https://localhost:8080/"
        },
        "id": "T5CnTt8xf8gH",
        "outputId": "155a90f7-ad37-4800-a86e-59672eb44b3a"
      },
      "execution_count": 13,
      "outputs": [
        {
          "output_type": "stream",
          "name": "stdout",
          "text": [
            "10\n",
            "9\n",
            "8\n",
            "7\n",
            "6\n",
            "5\n",
            "4\n",
            "3\n",
            "2\n",
            "1\n"
          ]
        }
      ]
    }
  ]
}