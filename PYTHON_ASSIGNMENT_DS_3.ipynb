{
  "nbformat": 4,
  "nbformat_minor": 0,
  "metadata": {
    "colab": {
      "provenance": []
    },
    "kernelspec": {
      "name": "python3",
      "display_name": "Python 3"
    },
    "language_info": {
      "name": "python"
    }
  },
  "cells": [
    {
      "cell_type": "markdown",
      "source": [
        "Q1. Create a python program to sort the given list of tuples based on integer value using alambda function. [('Sachin Tendulkar', 34357), ('Ricky Ponting', 27483), ('Jack Kallis', 25534), ('Virat Kohli', 24936)]"
      ],
      "metadata": {
        "id": "iYMTjIzyWDF-"
      }
    },
    {
      "cell_type": "code",
      "source": [
        "# List of tuples containing player name and their scores\n",
        "players = [('Sachin Tendulkar', 34357), ('Ricky Ponting', 27483),\n",
        "           ('Jack Kallis', 25534), ('Virat Kohli', 24936)]\n",
        "\n",
        "# Sorting the list of tuples based on the integer value (score) using lambda\n",
        "sorted_players = sorted(players, key=lambda x: x[1])\n",
        "\n",
        "# Print the sorted list\n",
        "print(\"Sorted list based on integer value (score):\")\n",
        "print(sorted_players)\n"
      ],
      "metadata": {
        "colab": {
          "base_uri": "https://localhost:8080/"
        },
        "id": "EFBoK211ZLj3",
        "outputId": "d8cfb56b-ff5d-4763-d41b-871bdacd4665"
      },
      "execution_count": 8,
      "outputs": [
        {
          "output_type": "stream",
          "name": "stdout",
          "text": [
            "Sorted list based on integer value (score):\n",
            "[('Virat Kohli', 24936), ('Jack Kallis', 25534), ('Ricky Ponting', 27483), ('Sachin Tendulkar', 34357)]\n"
          ]
        }
      ]
    },
    {
      "cell_type": "markdown",
      "source": [
        "Q2. Write a Python Program to find the squares of all the numbers in the given list of integers using lambda and map functions."
      ],
      "metadata": {
        "id": "xE_v-b9KWm-2"
      }
    },
    {
      "cell_type": "code",
      "source": [
        "# List of integers\n",
        "numbers = [1, 2, 3, 4, 5, 6, 7, 8, 9, 10]\n",
        "\n",
        "# Using map() and lambda to calculate the square of each number in the list\n",
        "squares = list(map(lambda x: x ** 2, numbers))\n",
        "\n",
        "# Print the list of squares\n",
        "print(\"Squares of the numbers:\", squares)\n"
      ],
      "metadata": {
        "colab": {
          "base_uri": "https://localhost:8080/"
        },
        "id": "lwEhEArYXRVL",
        "outputId": "8bcdc034-8e92-4e34-c699-a7726fc132ed"
      },
      "execution_count": 10,
      "outputs": [
        {
          "output_type": "stream",
          "name": "stdout",
          "text": [
            "Squares of the numbers: [1, 4, 9, 16, 25, 36, 49, 64, 81, 100]\n"
          ]
        }
      ]
    },
    {
      "cell_type": "markdown",
      "source": [
        "Q3. Write a python program to convert the given list of integers into a tuple of strings. Use map and lambda functions\n",
        "Given String: [1, 2, 3, 4, 5, 6, 7, 8, 9, 10]\n",
        "Expected output: ('1', '2', '3', '4', '5', '6', '7', '8', '9', '10')"
      ],
      "metadata": {
        "id": "oIPeZtY1W0k4"
      }
    },
    {
      "cell_type": "code",
      "source": [
        "# List of integers\n",
        "numbers = [1, 2, 3, 4, 5, 6, 7, 8, 9, 10]\n",
        "\n",
        "# Using map() and lambda to convert each integer to a string\n",
        "string_tuple = tuple(map(lambda x: str(x), numbers))\n",
        "\n",
        "# Print the tuple of strings\n",
        "print(\"Tuple of strings:\", string_tuple)\n"
      ],
      "metadata": {
        "colab": {
          "base_uri": "https://localhost:8080/"
        },
        "id": "ASTip-DGX9V2",
        "outputId": "3c49a51b-ef66-40b4-d1b2-1a8a788a11cf"
      },
      "execution_count": 9,
      "outputs": [
        {
          "output_type": "stream",
          "name": "stdout",
          "text": [
            "Tuple of strings: ('1', '2', '3', '4', '5', '6', '7', '8', '9', '10')\n"
          ]
        }
      ]
    },
    {
      "cell_type": "markdown",
      "source": [
        "Q4. Write a python program using reduce function to compute the product of a list containing numbers from 1 to 25."
      ],
      "metadata": {
        "id": "rQeADi6qYD1M"
      }
    },
    {
      "cell_type": "code",
      "source": [
        "from functools import reduce\n",
        "\n",
        "# List of numbers from 1 to 25\n",
        "numbers = list(range(1, 26))\n",
        "\n",
        "# Using reduce() to compute the product of the list\n",
        "product = reduce(lambda x, y: x * y, numbers)\n",
        "\n",
        "# Print the result\n",
        "print(\"The product of numbers from 1 to 25 is:\", product)\n"
      ],
      "metadata": {
        "colab": {
          "base_uri": "https://localhost:8080/"
        },
        "id": "EO7N5HxBYL7i",
        "outputId": "ebd35f5c-f2dd-4fc5-a654-2c7dcb97912d"
      },
      "execution_count": 11,
      "outputs": [
        {
          "output_type": "stream",
          "name": "stdout",
          "text": [
            "The product of numbers from 1 to 25 is: 15511210043330985984000000\n"
          ]
        }
      ]
    },
    {
      "cell_type": "markdown",
      "source": [
        "Q5. Write a python program to filter the numbers in a given list that are divisible by 2 and 3 using the filter function.[2, 3, 6, 9, 27, 60, 90, 120, 55, 46]"
      ],
      "metadata": {
        "id": "cDh4A5xkYTfx"
      }
    },
    {
      "cell_type": "code",
      "source": [
        "# Given list of numbers\n",
        "numbers = [2, 3, 6, 9, 27, 60, 90, 120, 55, 46]\n",
        "\n",
        "# Using filter() and lambda to filter numbers divisible by both 2 and 3\n",
        "divisible_by_2_and_3 = list(filter(lambda x: x % 2 == 0 and x % 3 == 0, numbers))\n",
        "\n",
        "# Print the filtered list\n",
        "print(\"Numbers divisible by both 2 and 3:\", divisible_by_2_and_3)\n"
      ],
      "metadata": {
        "colab": {
          "base_uri": "https://localhost:8080/"
        },
        "id": "xIDTCSQ6YZRX",
        "outputId": "e430d923-8623-4402-c65a-e577b55f1333"
      },
      "execution_count": 12,
      "outputs": [
        {
          "output_type": "stream",
          "name": "stdout",
          "text": [
            "Numbers divisible by both 2 and 3: [6, 60, 90, 120]\n"
          ]
        }
      ]
    },
    {
      "cell_type": "markdown",
      "source": [
        "Q6. Write a python program to find palindromes in the given list of strings using lambda and filter function."
      ],
      "metadata": {
        "id": "rxYDEEJCYmMn"
      }
    },
    {
      "cell_type": "code",
      "source": [
        "# List of strings\n",
        "strings = ['madam', 'hello', 'racecar', 'world', 'level', 'python']\n",
        "\n",
        "# Using filter() and lambda to filter palindromes\n",
        "palindromes = list(filter(lambda x: x == x[::-1], strings))\n",
        "\n",
        "# Print the list of palindromes\n",
        "print(\"Palindromes in the list:\", palindromes)\n"
      ],
      "metadata": {
        "colab": {
          "base_uri": "https://localhost:8080/"
        },
        "id": "312rTU9GYuLY",
        "outputId": "37c65af1-940b-4368-ada9-27e4b7fc9596"
      },
      "execution_count": 13,
      "outputs": [
        {
          "output_type": "stream",
          "name": "stdout",
          "text": [
            "Palindromes in the list: ['madam', 'racecar', 'level']\n"
          ]
        }
      ]
    }
  ]
}