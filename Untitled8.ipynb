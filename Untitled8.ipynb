{
  "nbformat": 4,
  "nbformat_minor": 0,
  "metadata": {
    "colab": {
      "provenance": []
    },
    "kernelspec": {
      "name": "python3",
      "display_name": "Python 3"
    },
    "language_info": {
      "name": "python"
    }
  },
  "cells": [
    {
      "cell_type": "markdown",
      "source": [
        "\n",
        "Q1. Explain Class and Object with respect to Object-Oriented Programming. Give a suitable example."
      ],
      "metadata": {
        "id": "0oMERLMcbhzb"
      }
    },
    {
      "cell_type": "code",
      "execution_count": 1,
      "metadata": {
        "colab": {
          "base_uri": "https://localhost:8080/"
        },
        "id": "2-ZS48embgkh",
        "outputId": "8316da94-7519-4147-aab3-d9b73da05584"
      },
      "outputs": [
        {
          "output_type": "stream",
          "name": "stdout",
          "text": [
            "2020 Toyota Corolla\n",
            "This car has 0 miles on it.\n",
            "This car has 15000 miles on it.\n",
            "This car has 15500 miles on it.\n"
          ]
        }
      ],
      "source": [
        "# Define the Car class\n",
        "class Car:\n",
        "    # Initializer / Constructor to set up the attributes\n",
        "    def __init__(self, make, model, year):\n",
        "        self.make = make  # Brand of the car\n",
        "        self.model = model  # Model of the car\n",
        "        self.year = year  # Year of manufacture\n",
        "        self.odometer_reading = 0  # Default initial mileage\n",
        "\n",
        "    # Method to describe the car\n",
        "    def describe_car(self):\n",
        "        return f\"{self.year} {self.make} {self.model}\"\n",
        "\n",
        "    # Method to read the odometer\n",
        "    def read_odometer(self):\n",
        "        return f\"This car has {self.odometer_reading} miles on it.\"\n",
        "\n",
        "    # Method to update the odometer reading\n",
        "    def update_odometer(self, miles):\n",
        "        if miles >= self.odometer_reading:\n",
        "            self.odometer_reading = miles\n",
        "        else:\n",
        "            print(\"You can't roll back an odometer!\")\n",
        "\n",
        "    # Method to increment the mileage\n",
        "    def increment_odometer(self, miles):\n",
        "        self.odometer_reading += miles\n",
        "\n",
        "# Create an object (instance) of the Car class\n",
        "my_car = Car(\"Toyota\", \"Corolla\", 2020)\n",
        "\n",
        "# Using methods of the Car class\n",
        "print(my_car.describe_car())  # Print car description\n",
        "print(my_car.read_odometer())  # Read odometer\n",
        "\n",
        "# Update odometer\n",
        "my_car.update_odometer(15000)\n",
        "print(my_car.read_odometer())  # Read updated odometer\n",
        "\n",
        "# Increment odometer\n",
        "my_car.increment_odometer(500)\n",
        "print(my_car.read_odometer())  # Read updated odometer\n"
      ]
    },
    {
      "cell_type": "markdown",
      "source": [
        "### Q2. Name the four pillars of OOPs.\n",
        "\n",
        "The **four pillars of Object-Oriented Programming (OOP)** are:\n",
        "\n",
        "1. **Encapsulation**:\n",
        "   - **Definition**: Encapsulation is the concept of bundling the data (attributes) and the methods (functions) that operate on the data into a single unit, i.e., a class. It also restricts direct access to some of the object's components, which is a means of preventing unintended interference and misuse of data.\n",
        "   - **Example**: By using private or protected access modifiers, we hide the internal state of an object and provide controlled access through public methods (getters and setters).\n",
        "   - **Benefit**: Helps in data hiding, improves modularity, and protects object integrity.\n",
        "\n",
        "2. **Abstraction**:\n",
        "   - **Definition**: Abstraction is the concept of hiding the complex implementation details and showing only the essential features or functionalities. It allows the user to interact with the object at a higher level without needing to understand the underlying complexity.\n",
        "   - **Example**: A car has a \"drive\" method that abstracts away the internal complexities of how the car moves (e.g., engine functions, transmission system). The user just needs to press the accelerator to drive.\n",
        "   - **Benefit**: Helps reduce complexity and allows focusing on high-level operations.\n",
        "\n",
        "3. **Inheritance**:\n",
        "   - **Definition**: Inheritance is the mechanism in OOP that allows a new class (child class) to acquire the properties and behaviors (methods) of an existing class (parent class). The child class can also extend or override methods to customize functionality.\n",
        "   - **Example**: A class `Car` may inherit from a class `Vehicle`. The `Car` class will inherit properties like `speed` and `fuel_capacity` and can have additional attributes like `model` and `year`.\n",
        "   - **Benefit**: Promotes code reusability and establishes a relationship between parent and child classes.\n",
        "\n",
        "4. **Polymorphism**:\n",
        "   - **Definition**: Polymorphism allows objects of different classes to be treated as objects of a common superclass. It also allows methods to have the same name but behave differently based on the object calling them.\n",
        "   - **Example**: A method `make_sound()` can be defined in a superclass `Animal`. However, subclasses like `Dog` and `Cat` can implement their own versions of `make_sound()`, making the method behave differently for different objects (e.g., a dog barks, and a cat meows).\n",
        "   - **Benefit**: Provides flexibility and allows methods to be used interchangeably across different types.\n",
        "\n"
      ],
      "metadata": {
        "id": "knMN6n_7cQr9"
      }
    },
    {
      "cell_type": "markdown",
      "source": [
        "Q3. Explain why the __init__() function is used. Give a suitable example."
      ],
      "metadata": {
        "id": "7Z0dUIpddhoc"
      }
    },
    {
      "cell_type": "code",
      "source": [
        "# Define a class with __init__ method\n",
        "class Car:\n",
        "    # Constructor to initialize the attributes\n",
        "    def __init__(self, make, model, year):\n",
        "        self.make = make     # Attribute for car make (e.g., Toyota)\n",
        "        self.model = model   # Attribute for car model (e.g., Corolla)\n",
        "        self.year = year     # Attribute for year of manufacture (e.g., 2020)\n",
        "        self.odometer_reading = 0  # Default initial mileage for a new car\n",
        "\n",
        "    # Method to describe the car\n",
        "    def describe_car(self):\n",
        "        return f\"{self.year} {self.make} {self.model}\"\n",
        "\n",
        "    # Method to read the odometer\n",
        "    def read_odometer(self):\n",
        "        return f\"This car has {self.odometer_reading} miles on it.\"\n",
        "\n",
        "# Create an instance (object) of the Car class\n",
        "my_car = Car(\"Toyota\", \"Corolla\", 2020)\n",
        "\n",
        "# Use methods of the Car class\n",
        "print(my_car.describe_car())  # Output: 2020 Toyota Corolla\n",
        "print(my_car.read_odometer())  # Output: This car has 0 miles on it.\n"
      ],
      "metadata": {
        "id": "rSuzO-aYcQGp"
      },
      "execution_count": null,
      "outputs": []
    },
    {
      "cell_type": "markdown",
      "source": [
        "Q4. Why self is used in OOPs?\n",
        "\n",
        "Ans...When we define methods in a class, the self keyword allows the method to be bound to the object. Without self, it would be unclear which object's data the method is referring to when it's called.\n",
        "In Python, methods inside the class need an explicit reference to the current instance, and self serves as that reference. It ensures that you can access instance-specific data, rather than global variables.\n"
      ],
      "metadata": {
        "id": "FB1381dWeGy9"
      }
    },
    {
      "cell_type": "markdown",
      "source": [
        "### Q5. What is inheritance? Give an example for each type of inheritance.\n",
        "\n",
        "Ans...Inheritance is one of the core concepts of Object-Oriented Programming (OOP). It allows a new class (called the child class or subclass) to inherit the attributes and methods from an existing class (called the parent class or superclass). This allows the child class to reuse the code of the parent class while also extending or modifying its functionality.\n",
        "\n",
        "- There are several types of inheritance in OOP. Below are the most commonly used types of inheritance:\n",
        "\n",
        "- Single Inheritance\n",
        "- Multilevel Inheritance\n",
        "- Multiple Inheritance\n",
        "- Hierarchical Inheritance\n",
        "- Hybrid Inheritance"
      ],
      "metadata": {
        "id": "Hzcfr7B_ewRb"
      }
    },
    {
      "cell_type": "code",
      "source": [
        "#Single Inheritance\n",
        "\n",
        "# Parent class\n",
        "class Animal:\n",
        "    def speak(self):\n",
        "        return \"Animal makes a sound\"\n",
        "\n",
        "# Child class inheriting from Animal\n",
        "class Dog(Animal):\n",
        "    def speak(self):\n",
        "        return \"Dog barks\"\n",
        "\n",
        "# Creating an object of the Dog class\n",
        "dog = Dog()\n",
        "print(dog.speak())\n"
      ],
      "metadata": {
        "colab": {
          "base_uri": "https://localhost:8080/"
        },
        "id": "B9v1wRgKeIWE",
        "outputId": "077df295-e7d5-4c08-9522-a4da6dbb781e"
      },
      "execution_count": 3,
      "outputs": [
        {
          "output_type": "stream",
          "name": "stdout",
          "text": [
            "Dog barks\n"
          ]
        }
      ]
    },
    {
      "cell_type": "code",
      "source": [
        "# Multilevel Inheritance\n",
        "\n",
        "# Grandparent class\n",
        "class Animal:\n",
        "    def speak(self):\n",
        "        return \"Animal makes a sound\"\n",
        "\n",
        "# Parent class\n",
        "class Dog(Animal):\n",
        "    def speak(self):\n",
        "        return \"Dog barks\"\n",
        "\n",
        "# Child class\n",
        "class Labrador(Dog):\n",
        "    def speak(self):\n",
        "        return \"Labrador barks loudly\"\n",
        "\n",
        "# Creating an object of the Labrador class\n",
        "labrador = Labrador()\n",
        "print(labrador.speak())\n"
      ],
      "metadata": {
        "colab": {
          "base_uri": "https://localhost:8080/"
        },
        "id": "7B5nFgoigjIt",
        "outputId": "3b78d618-0120-4483-b954-3a392c19737f"
      },
      "execution_count": 4,
      "outputs": [
        {
          "output_type": "stream",
          "name": "stdout",
          "text": [
            "Labrador barks loudly\n"
          ]
        }
      ]
    },
    {
      "cell_type": "code",
      "source": [
        "#Multiple Inheritance\n",
        "\n",
        "# Parent class 1\n",
        "class Animal:\n",
        "    def speak(self):\n",
        "        return \"Animal makes a sound\"\n",
        "\n",
        "# Parent class 2\n",
        "class Color:\n",
        "    def color(self):\n",
        "        return \"Color is brown\"\n",
        "\n",
        "# Child class inheriting from both Animal and Color\n",
        "class Dog(Animal, Color):\n",
        "    def speak(self):\n",
        "        return \"Dog barks\"\n",
        "\n",
        "# Creating an object of the Dog class\n",
        "dog = Dog()\n",
        "print(dog.speak())  # Output: Dog barks\n",
        "print(dog.color())  # Output: Color is brown\n"
      ],
      "metadata": {
        "colab": {
          "base_uri": "https://localhost:8080/"
        },
        "id": "JP7-Du-ygy_M",
        "outputId": "584e1c36-74a5-416a-e2f4-c5d035a2589e"
      },
      "execution_count": 5,
      "outputs": [
        {
          "output_type": "stream",
          "name": "stdout",
          "text": [
            "Dog barks\n",
            "Color is brown\n"
          ]
        }
      ]
    },
    {
      "cell_type": "code",
      "source": [
        "#Multiple Inheritance\n",
        "# Parent class\n",
        "class Animal:\n",
        "    def speak(self):\n",
        "        return \"Animal makes a sound\"\n",
        "\n",
        "# Child class 1\n",
        "class Dog(Animal):\n",
        "    def speak(self):\n",
        "        return \"Dog barks\"\n",
        "\n",
        "# Child class 2\n",
        "class Cat(Animal):\n",
        "    def speak(self):\n",
        "        return \"Cat meows\"\n",
        "\n",
        "# Creating objects of the child classes\n",
        "dog = Dog()\n",
        "cat = Cat()\n",
        "\n",
        "print(dog.speak())  # Output: Dog barks\n",
        "print(cat.speak())  # Output: Cat meows\n"
      ],
      "metadata": {
        "colab": {
          "base_uri": "https://localhost:8080/"
        },
        "id": "rz7AlAhQiEdM",
        "outputId": "58781d34-2f88-4abf-9239-f028be98c10b"
      },
      "execution_count": 6,
      "outputs": [
        {
          "output_type": "stream",
          "name": "stdout",
          "text": [
            "Dog barks\n",
            "Cat meows\n"
          ]
        }
      ]
    },
    {
      "cell_type": "code",
      "source": [
        "#Hierarchical Inheritance\n",
        "# Parent class\n",
        "class Animal:\n",
        "    def speak(self):\n",
        "        return \"Animal makes a sound\"\n",
        "\n",
        "# Child class 1\n",
        "class Dog(Animal):\n",
        "    def speak(self):\n",
        "        return \"Dog barks\"\n",
        "\n",
        "# Child class 2\n",
        "class Cat(Animal):\n",
        "    def speak(self):\n",
        "        return \"Cat meows\"\n",
        "\n",
        "# Creating objects of the child classes\n",
        "dog = Dog()\n",
        "cat = Cat()\n",
        "\n",
        "print(dog.speak())  # Output: Dog barks\n",
        "print(cat.speak())  # Output: Cat meows\n"
      ],
      "metadata": {
        "colab": {
          "base_uri": "https://localhost:8080/"
        },
        "id": "srNHYurhiQY6",
        "outputId": "dd3dee3c-6bb8-4fac-b555-cd3607c6e302"
      },
      "execution_count": 7,
      "outputs": [
        {
          "output_type": "stream",
          "name": "stdout",
          "text": [
            "Dog barks\n",
            "Cat meows\n"
          ]
        }
      ]
    },
    {
      "cell_type": "code",
      "source": [
        "#Hybrid Inheritance\n",
        "# Parent class 1\n",
        "class Animal:\n",
        "    def speak(self):\n",
        "        return \"Animal makes a sound\"\n",
        "\n",
        "# Parent class 2\n",
        "class Color:\n",
        "    def color(self):\n",
        "        return \"Color is brown\"\n",
        "\n",
        "# Child class 1 inheriting from Animal\n",
        "class Dog(Animal):\n",
        "    def speak(self):\n",
        "        return \"Dog barks\"\n",
        "\n",
        "# Child class 2 inheriting from both Animal and Color\n",
        "class Labrador(Dog, Color):\n",
        "    def speak(self):\n",
        "        return \"Labrador barks loudly\"\n",
        "\n",
        "# Creating an object of the Labrador class\n",
        "labrador = Labrador()\n",
        "print(labrador.speak())  # Output: Labrador barks loudly\n",
        "print(labrador.color())  # Output: Color is brown\n"
      ],
      "metadata": {
        "colab": {
          "base_uri": "https://localhost:8080/"
        },
        "id": "gP4WvkgDjILo",
        "outputId": "2873b4d7-c340-44d1-c7f6-fd17ff76352f"
      },
      "execution_count": 8,
      "outputs": [
        {
          "output_type": "stream",
          "name": "stdout",
          "text": [
            "Labrador barks loudly\n",
            "Color is brown\n"
          ]
        }
      ]
    }
  ]
}