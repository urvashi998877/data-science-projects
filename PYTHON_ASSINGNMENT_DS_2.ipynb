{
  "nbformat": 4,
  "nbformat_minor": 0,
  "metadata": {
    "colab": {
      "provenance": []
    },
    "kernelspec": {
      "name": "python3",
      "display_name": "Python 3"
    },
    "language_info": {
      "name": "python"
    }
  },
  "cells": [
    {
      "cell_type": "markdown",
      "source": [
        "### **PYTHON ASSIGNMENT**"
      ],
      "metadata": {
        "id": "pS6qoLrYO7SN"
      }
    },
    {
      "cell_type": "markdown",
      "source": [
        "Q1. Which keyword is used to create a function? Create a function to return a list of odd numbers in the range of 1 to 25."
      ],
      "metadata": {
        "id": "UbiT-V63Bkdd"
      }
    },
    {
      "cell_type": "code",
      "source": [
        "def get_odd_numbers():\n",
        "    \"\"\"\n",
        "    This function returns a list of odd numbers from 1 to 25.\n",
        "    \"\"\"\n",
        "    odd_numbers = [num for num in range(1, 26) if num % 2 != 0]\n",
        "    return odd_numbers\n",
        "\n",
        "# Call the function\n",
        "odd_numbers_list = get_odd_numbers()\n",
        "print(f\"Odd numbers from 1 to 25: {odd_numbers_list}\")\n",
        "\n"
      ],
      "metadata": {
        "colab": {
          "base_uri": "https://localhost:8080/"
        },
        "id": "NnaxUeO7C8D2",
        "outputId": "7fb24672-5264-4416-85a1-ac63e37ae3e6"
      },
      "execution_count": 4,
      "outputs": [
        {
          "output_type": "stream",
          "name": "stdout",
          "text": [
            "Odd numbers from 1 to 25: [1, 3, 5, 7, 9, 11, 13, 15, 17, 19, 21, 23, 25]\n"
          ]
        }
      ]
    },
    {
      "cell_type": "markdown",
      "source": [
        "Q2. Why *args and **kwargs is used in some functions? Create a function each for *args and **kwargs to demonstrate their use."
      ],
      "metadata": {
        "id": "hHAFUhF8DFLv"
      }
    },
    {
      "cell_type": "code",
      "source": [
        "def sum_numbers(*args):\n",
        "    \"\"\"\n",
        "    This function calculates the sum of all positional arguments passed to it.\n",
        "    \"\"\"\n",
        "    return sum(args)\n",
        "\n",
        "# Call the function\n",
        "result = sum_numbers(1, 2, 3, 4, 5)\n",
        "print(f\"The sum of numbers is: {result}\")\n",
        "\n"
      ],
      "metadata": {
        "colab": {
          "base_uri": "https://localhost:8080/"
        },
        "id": "0X0oWg8ODKSg",
        "outputId": "2bdfcd06-3179-4cb4-acde-e1a62194e01d"
      },
      "execution_count": 5,
      "outputs": [
        {
          "output_type": "stream",
          "name": "stdout",
          "text": [
            "The sum of numbers is: 15\n"
          ]
        }
      ]
    },
    {
      "cell_type": "markdown",
      "source": [
        "Q3. What is an iterator in python? Name the method used to initialise the iterator object and the method used for iteration. Use these methods to print the first five elements of the given list [2, 4, 6, 8, 10, 12, 14, 16, 18, 20]."
      ],
      "metadata": {
        "id": "LE1Co2YODcu9"
      }
    },
    {
      "cell_type": "code",
      "source": [
        "# Given list\n",
        "numbers = [2, 4, 6, 8, 10, 12, 14, 16, 18, 20]\n",
        "\n",
        "# Initialize the iterator object\n",
        "iterator = iter(numbers)\n",
        "\n",
        "# Print the first five elements using the __next__() method\n",
        "print(\"The first five elements of the list are:\")\n",
        "for _ in range(5):\n",
        "    print(next(iterator))\n"
      ],
      "metadata": {
        "colab": {
          "base_uri": "https://localhost:8080/"
        },
        "id": "DkRtM1WaDjgT",
        "outputId": "58264eb3-62b0-42f7-8672-a9098414de02"
      },
      "execution_count": 7,
      "outputs": [
        {
          "output_type": "stream",
          "name": "stdout",
          "text": [
            "The first five elements of the list are:\n",
            "2\n",
            "4\n",
            "6\n",
            "8\n",
            "10\n"
          ]
        }
      ]
    },
    {
      "cell_type": "markdown",
      "source": [
        "Q4. What is a generator function in python? Why yield keyword is used? Give an example of a generator function."
      ],
      "metadata": {
        "id": "2wzpQZblD0Pj"
      }
    },
    {
      "cell_type": "code",
      "source": [
        "def generate_squares(n):\n",
        "    \"\"\"\n",
        "    A generator function to yield the first n square numbers.\n",
        "    \"\"\"\n",
        "    for i in range(1, n + 1):\n",
        "        yield i ** 2\n",
        "\n",
        "# Using the generator function\n",
        "squares_generator = generate_squares(5)\n",
        "\n",
        "print(\"Squares generated one by one:\")\n",
        "for square in squares_generator:\n",
        "    print(square)\n"
      ],
      "metadata": {
        "colab": {
          "base_uri": "https://localhost:8080/"
        },
        "id": "QkpBeC8ND_fi",
        "outputId": "e3bc4202-627a-4b3a-be28-6455f0f9bfc2"
      },
      "execution_count": 8,
      "outputs": [
        {
          "output_type": "stream",
          "name": "stdout",
          "text": [
            "Squares generated one by one:\n",
            "1\n",
            "4\n",
            "9\n",
            "16\n",
            "25\n"
          ]
        }
      ]
    },
    {
      "cell_type": "markdown",
      "source": [
        "Q5. Create a generator function for prime numbers less than 1000. Use the next() method to print the first 20 prime numbers."
      ],
      "metadata": {
        "id": "wQeAzdOpEG2g"
      }
    },
    {
      "cell_type": "code",
      "source": [
        "def prime_numbers_less_than_1000():\n",
        "    \"\"\"\n",
        "    A generator function to yield prime numbers less than 1000.\n",
        "    \"\"\"\n",
        "    for num in range(2, 1000):  # Start checking from 2 to 999\n",
        "        is_prime = True\n",
        "        for divisor in range(2, int(num ** 0.5) + 1):  # Check divisors up to sqrt(num)\n",
        "            if num % divisor == 0:\n",
        "                is_prime = False\n",
        "                break\n",
        "        if is_prime:\n",
        "            yield num  # Yield the number if it's prime\n",
        "\n",
        "# Using the generator function\n",
        "prime_gen = prime_numbers_less_than_1000()\n",
        "\n",
        "print(\"The first 20 prime numbers are:\")\n",
        "for _ in range(20):\n",
        "    print(next(prime_gen))\n"
      ],
      "metadata": {
        "colab": {
          "base_uri": "https://localhost:8080/"
        },
        "id": "Q-PzzBtWEkyg",
        "outputId": "5723944e-c0c3-4621-9e66-688207aab218"
      },
      "execution_count": 9,
      "outputs": [
        {
          "output_type": "stream",
          "name": "stdout",
          "text": [
            "The first 20 prime numbers are:\n",
            "2\n",
            "3\n",
            "5\n",
            "7\n",
            "11\n",
            "13\n",
            "17\n",
            "19\n",
            "23\n",
            "29\n",
            "31\n",
            "37\n",
            "41\n",
            "43\n",
            "47\n",
            "53\n",
            "59\n",
            "61\n",
            "67\n",
            "71\n"
          ]
        }
      ]
    },
    {
      "cell_type": "markdown",
      "source": [
        "Q6. Write a python program to print the first 10 Fibonacci numbers using a while loop."
      ],
      "metadata": {
        "id": "cIptAeMpE73B"
      }
    },
    {
      "cell_type": "code",
      "source": [
        "# Initialize the first two Fibonacci numbers\n",
        "a, b = 0, 1\n",
        "\n",
        "# Counter for the first 10 numbers\n",
        "count = 0\n",
        "\n",
        "print(\"The first 10 Fibonacci numbers are:\")\n",
        "\n",
        "# While loop to generate Fibonacci numbers\n",
        "while count < 10:\n",
        "    print(a, end=\" \")  # Print the current Fibonacci number\n",
        "    a, b = b, a + b  # Update a and b to the next Fibonacci numbers\n",
        "    count += 1  # Increment the counter\n"
      ],
      "metadata": {
        "colab": {
          "base_uri": "https://localhost:8080/"
        },
        "id": "jnq0D_mvE9eG",
        "outputId": "872c8b10-f11e-470c-810d-ab6cf9a984b7"
      },
      "execution_count": 10,
      "outputs": [
        {
          "output_type": "stream",
          "name": "stdout",
          "text": [
            "The first 10 Fibonacci numbers are:\n",
            "0 1 1 2 3 5 8 13 21 34 "
          ]
        }
      ]
    },
    {
      "cell_type": "markdown",
      "source": [
        "Q7. Write a List Comprehension to iterate through the given string: ‘pwskills’.\n",
        "Expected output: ['p', 'w', 's', 'k', 'i', 'l', 'l', 's']"
      ],
      "metadata": {
        "id": "rbR0n7e2FFxy"
      }
    },
    {
      "cell_type": "code",
      "source": [
        "# Given string\n",
        "string = 'pwskills'\n",
        "\n",
        "# List comprehension to iterate through the string\n",
        "result = [char for char in string if char in 'pwskills']\n",
        "\n",
        "print(result)\n"
      ],
      "metadata": {
        "colab": {
          "base_uri": "https://localhost:8080/"
        },
        "id": "XunTYWQ8FHRO",
        "outputId": "47516af3-67c5-4559-f09b-12481716c626"
      },
      "execution_count": 11,
      "outputs": [
        {
          "output_type": "stream",
          "name": "stdout",
          "text": [
            "['p', 'w', 's', 'k', 'i', 'l', 'l', 's']\n"
          ]
        }
      ]
    },
    {
      "cell_type": "markdown",
      "source": [
        "Q8. Write a python program to check whether a given number is Palindrome or not using a while loop."
      ],
      "metadata": {
        "id": "1h8rZdXaFfkv"
      }
    },
    {
      "cell_type": "code",
      "source": [
        "def is_palindrome(num):\n",
        "    # Store the original number\n",
        "    original_num = num\n",
        "    reversed_num = 0\n",
        "\n",
        "    # Reverse the number using a while loop\n",
        "    while num > 0:\n",
        "        digit = num % 10  # Extract the last digit\n",
        "        reversed_num = reversed_num * 10 + digit  # Build the reversed number\n",
        "        num //= 10  # Remove the last digit from num\n",
        "\n",
        "    # Check if the reversed number is equal to the original number\n",
        "    if original_num == reversed_num:\n",
        "        return True\n",
        "    else:\n",
        "        return False\n",
        "\n",
        "# Input number\n",
        "num = int(input(\"Enter a number: \"))\n",
        "\n",
        "# Check and print whether the number is a palindrome\n",
        "if is_palindrome(num):\n",
        "    print(f\"{num} is a palindrome.\")\n",
        "else:\n",
        "    print(f\"{num} is not a palindrome.\")\n",
        "\n"
      ],
      "metadata": {
        "colab": {
          "base_uri": "https://localhost:8080/"
        },
        "id": "K8lV__aTFlNM",
        "outputId": "bcf27cfa-0a3f-4bea-bfb3-502ab954d29f"
      },
      "execution_count": 12,
      "outputs": [
        {
          "output_type": "stream",
          "name": "stdout",
          "text": [
            "Enter a number: 100\n",
            "100 is not a palindrome.\n"
          ]
        }
      ]
    },
    {
      "cell_type": "markdown",
      "source": [
        "Q9. Write a code to print odd numbers from 1 to 100 using list comprehension."
      ],
      "metadata": {
        "id": "DMbTyG_sLzJ4"
      }
    },
    {
      "cell_type": "code",
      "source": [
        "# List comprehension to get odd numbers from 1 to 100\n",
        "odd_numbers = [num for num in range(1, 101) if num % 2 != 0]\n",
        "\n",
        "# Print the list of odd numbers\n",
        "print(odd_numbers)\n"
      ],
      "metadata": {
        "colab": {
          "base_uri": "https://localhost:8080/"
        },
        "id": "Cfqg_LvQFmX_",
        "outputId": "97ebc10b-5cca-4549-838d-fd12f8abeef2"
      },
      "execution_count": 13,
      "outputs": [
        {
          "output_type": "stream",
          "name": "stdout",
          "text": [
            "[1, 3, 5, 7, 9, 11, 13, 15, 17, 19, 21, 23, 25, 27, 29, 31, 33, 35, 37, 39, 41, 43, 45, 47, 49, 51, 53, 55, 57, 59, 61, 63, 65, 67, 69, 71, 73, 75, 77, 79, 81, 83, 85, 87, 89, 91, 93, 95, 97, 99]\n"
          ]
        }
      ]
    }
  ]
}