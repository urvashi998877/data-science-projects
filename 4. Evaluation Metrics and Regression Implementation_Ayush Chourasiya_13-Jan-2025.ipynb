{
  "nbformat": 4,
  "nbformat_minor": 0,
  "metadata": {
    "colab": {
      "provenance": [],
      "toc_visible": true
    },
    "kernelspec": {
      "name": "python3",
      "display_name": "Python 3"
    },
    "language_info": {
      "name": "python"
    }
  },
  "cells": [
    {
      "cell_type": "markdown",
      "source": [
        "#**Theoretical**\n",
        "---"
      ],
      "metadata": {
        "id": "BJMCmnkO_KvR"
      }
    },
    {
      "cell_type": "markdown",
      "source": [
        "### Q1. **What does R-squared represent in a regression model?**\n",
        "\n",
        "ANS-> R-squared (R²) measures the goodness of fit for a regression model, indicating the proportion of variance in the dependent variable (y) explained by the independent variable(s) (x).\n",
        "\n",
        "Interpretation:\n",
        "\n",
        "1. 0 ≤ R² ≤ 1: Higher values indicate better fit.\n",
        "2. 0: Model explains none of the variance.\n",
        "3. 1: Model explains all variance (perfect fit).\n",
        "4. 0.7: Model explains 70% of variance.\n",
        "\n",
        "R-squared represents:\n",
        "\n",
        "1. Proportion of variance explained\n",
        "2. Goodness of fit\n",
        "3. Model accuracy\n",
        "4. Predictive power\n",
        "\n",
        "Types of R-squared:\n",
        "\n",
        "1. Simple R-squared: Measures linear regression fit.\n",
        "2. Adjusted R-squared: Penalizes for additional features.\n",
        "3. Cross-validated R-squared: Evaluates model performance on unseen data.\n",
        "\n",
        "Key considerations:\n",
        "\n",
        "1. High R-squared doesn't ensure causality.\n",
        "2. Overfitting can inflate R-squared.\n",
        "3. Compare R-squared across models.\n",
        "\n",
        "Example (Python):"
      ],
      "metadata": {
        "id": "jEDtwt5i_K6w"
      }
    },
    {
      "cell_type": "code",
      "source": [
        "import pandas as pd\n",
        "from sklearn.linear_model import LinearRegression\n",
        "from sklearn.metrics import r2_score\n",
        "\n",
        "# Sample data\n",
        "data = pd.DataFrame({'x': [1, 2, 3, 4, 5], 'y': [2, 3, 5, 7, 11]})\n",
        "\n",
        "# Linear regression\n",
        "model = LinearRegression()\n",
        "model.fit(data['x'].values.reshape(-1, 1), data['y'])\n",
        "\n",
        "# Predictions\n",
        "y_pred = model.predict(data['x'].values.reshape(-1, 1))\n",
        "\n",
        "# R-squared\n",
        "r2 = r2_score(data['y'], y_pred)\n",
        "print(f'R-squared: {r2:.2f}')"
      ],
      "metadata": {
        "colab": {
          "base_uri": "https://localhost:8080/"
        },
        "id": "s8SB44V9_pgp",
        "outputId": "b701afcf-3037-445e-a783-1d5f063d839e"
      },
      "execution_count": null,
      "outputs": [
        {
          "output_type": "stream",
          "name": "stdout",
          "text": [
            "R-squared: 0.95\n"
          ]
        }
      ]
    },
    {
      "cell_type": "markdown",
      "source": [
        "### **Q2. What are the assumptions of linear regression?**\n",
        "\n",
        "ANS-> Linear Regression Assumptions:\n",
        "\n",
        "1. Linearity: Relationship between independent variable(s) (X) and dependent variable (Y) is linear.\n",
        "2. Independence: Observations are independent and identically distributed (i.i.d.).\n",
        "3. Homoscedasticity: Constant variance of residuals across all levels of X.\n",
        "4. Normality: Residuals follow a normal distribution.\n",
        "5. No Multicollinearity: Independent variables are uncorrelated.\n",
        "6. No Autocorrelation: Residuals have no serial correlation.\n",
        "7. Outliers: No influential outliers.\n",
        "8. Constant Variance: Variance of residuals is constant across X.\n",
        "\n",
        "Diagnosing Assumption Violations:\n",
        "\n",
        "1. Plotting: Scatter plots, residual plots, Q-Q plots.\n",
        "2. Statistical Tests: Durbin-Watson, Breusch-Pagan, Shapiro-Wilk.\n",
        "\n",
        "Consequences of Violations:\n",
        "\n",
        "1. Biased Coefficients: Incorrect estimates.\n",
        "2. Inaccurate Predictions: Poor model performance.\n",
        "3. Invalid Inferences: Incorrect conclusions.\n",
        "\n",
        "Remedies:\n",
        "\n",
        "1. Data Transformation: Log, square root, or polynomial.\n",
        "2. Robust Regression: Least Absolute Deviation (LAD).\n",
        "3. Generalized Linear Models (GLM): Non-normal distributions.\n",
        "4. Feature Engineering: Address multicollinearity.\n",
        "5. Outlier Removal: Influential outlier removal.\n",
        "\n",
        "Code Example (Python):"
      ],
      "metadata": {
        "id": "ihu6eBSo_K-U"
      }
    },
    {
      "cell_type": "code",
      "source": [
        "import pandas as pd\n",
        "import numpy as np\n",
        "import matplotlib.pyplot as plt\n",
        "from sklearn.linear_model import LinearRegression\n",
        "from statsmodels.stats.outliers_influence import variance_inflation_factor\n",
        "\n",
        "# Sample data\n",
        "data = pd.DataFrame({'x': [1, 2, 3, 4, 5], 'y': [2, 3, 5, 7, 11]})\n",
        "\n",
        "# Add a second feature for VIF calculation\n",
        "# This is just an example; replace with your actual additional feature\n",
        "data['x2'] = data['x'] * 2\n",
        "\n",
        "# Linear regression\n",
        "model = LinearRegression()\n",
        "model.fit(data[['x', 'x2']], data['y']) # Fit using both features\n",
        "\n",
        "# Predictions\n",
        "y_pred = model.predict(data[['x', 'x2']])\n",
        "\n",
        "# Calculate residuals manually\n",
        "residuals = data['y'] - y_pred\n",
        "\n",
        "# Residual plot\n",
        "plt.scatter(data['x'], residuals)\n",
        "plt.xlabel('X')\n",
        "plt.ylabel('Residuals')\n",
        "plt.show()\n"
      ],
      "metadata": {
        "colab": {
          "base_uri": "https://localhost:8080/",
          "height": 449
        },
        "id": "8aYVdqOO_9XB",
        "outputId": "7dbde856-b111-47e2-e23d-4a35e17a56ad"
      },
      "execution_count": null,
      "outputs": [
        {
          "output_type": "display_data",
          "data": {
            "text/plain": [
              "<Figure size 640x480 with 1 Axes>"
            ],
            "image/png": "[encoded data removed]"
          },
          "metadata": {}
        }
      ]
    },
    {
      "cell_type": "markdown",
      "source": [
        "### **Q3. What is the difference between R-squared and Adjusted R-squared?**\n",
        "\n",
        "ANS-> R-squared (R²) and Adjusted R-squared (Adj R²) measure the goodness of fit for a regression model, but differ in their calculation and interpretation:\n",
        "\n",
        "R-squared (R²):\n",
        "\n",
        "1. Measures proportion of variance explained by independent variable(s).\n",
        "2. Increases with added features, even if insignificant.\n",
        "3. Does not penalize for model complexity.\n",
        "\n",
        "Adjusted R-squared (Adj R²):\n",
        "\n",
        "1. Measures proportion of variance explained, adjusting for model complexity.\n",
        "2. Penalizes for added features, especially insignificant ones.\n",
        "3. Provides more accurate estimate of model performance.\n",
        "\n",
        "Key differences:\n",
        "\n",
        "1. Penalty term: Adj R² includes a penalty for added features.\n",
        "2. Complexity adjustment: Adj R² considers model degrees of freedom.\n",
        "3. Interpretation: Adj R² provides a more realistic view of model performance.\n",
        "\n",
        "When to use:\n",
        "\n",
        "1. R²: Initial model evaluation, simple models.\n",
        "2. Adj R²: Model comparison, feature selection, complex models.\n",
        "\n",
        "Code example (Python):\n"
      ],
      "metadata": {
        "id": "QF_q_PMV_LBx"
      }
    },
    {
      "cell_type": "code",
      "source": [
        "import pandas as pd\n",
        "from sklearn.linear_model import LinearRegression\n",
        "from statsmodels.regression.linear_model import OLS\n",
        "\n",
        "# Sample data\n",
        "data = pd.DataFrame({'x1': [1, 2, 3, 4, 5], 'x2': [2, 3, 5, 7, 11], 'y': [2, 3, 5, 7, 11]})\n",
        "\n",
        "# Linear regression\n",
        "model = LinearRegression()\n",
        "model.fit(data[['x1', 'x2']], data['y'])\n",
        "\n",
        "# R-squared\n",
        "r2 = model.score(data[['x1', 'x2']], data['y'])\n",
        "print(f'R-squared: {r2:.2f}')\n",
        "\n",
        "# Adjusted R-squared\n",
        "ols_model = OLS(data['y'], data[['x1', 'x2']]).fit()\n",
        "adj_r2 = ols_model.rsquared_adj\n",
        "print(f'Adjusted R-squared: {adj_r2:.2f}')"
      ],
      "metadata": {
        "colab": {
          "base_uri": "https://localhost:8080/"
        },
        "id": "gXgKkY3XAqgr",
        "outputId": "bb5ad66f-3e56-4fbd-e6b8-4a3588838d90"
      },
      "execution_count": null,
      "outputs": [
        {
          "output_type": "stream",
          "name": "stdout",
          "text": [
            "R-squared: 1.00\n",
            "Adjusted R-squared: 1.00\n"
          ]
        }
      ]
    },
    {
      "cell_type": "markdown",
      "source": [
        "### **Q4. Why do we use Mean Squared Error (MSE)?**\n",
        "\n",
        "ANS-> Mean Squared Error (MSE) measures the average squared difference between predicted and actual values, evaluating model performance.\n",
        "\n",
        "Why use MSE:\n",
        "\n",
        "1. Quantifies error magnitude\n",
        "2. Penalizes large errors\n",
        "3. Easy to compute and interpret\n",
        "4. Differentiable, suitable for optimization\n",
        "5. Widely used, comparable across models\n",
        "\n",
        "MSE applications:\n",
        "\n",
        "1. Regression evaluation\n",
        "2. Model selection\n",
        "3. Hyperparameter tuning\n",
        "4. Time series forecasting\n",
        "5. Image and signal processing\n",
        "\n",
        "MSE formula:\n",
        "\n",
        "MSE = (1/n) * ∑(y_true - y_pred)^2\n",
        "\n",
        "Where:\n",
        "\n",
        "- y_true: Actual values\n",
        "- y_pred: Predicted values\n",
        "- n: Number of observations\n",
        "\n",
        "MSE interpretation:\n",
        "\n",
        "- Lower MSE: Better model fit\n",
        "- MSE = 0: Perfect predictions\n",
        "- High MSE: Large errors\n",
        "\n",
        "Common MSE-based metrics:\n",
        "\n",
        "1. Root Mean Squared Error (RMSE): √MSE\n",
        "2. Mean Absolute Error (MAE): average absolute difference\n",
        "3. Mean Absolute Percentage Error (MAPE): average absolute percentage difference\n",
        "\n",
        "Code example (Python):\n"
      ],
      "metadata": {
        "id": "l7_4iaxn_LFZ"
      }
    },
    {
      "cell_type": "code",
      "source": [
        "import numpy as np\n",
        "from sklearn.metrics import mean_squared_error\n",
        "\n",
        "# Actual values\n",
        "y_true = np.array([1, 2, 3, 4, 5])\n",
        "\n",
        "# Predicted values\n",
        "y_pred = np.array([1.1, 2.1, 3.2, 4.3, 5.4])\n",
        "\n",
        "# Mean Squared Error\n",
        "mse = mean_squared_error(y_true, y_pred)\n",
        "print(f'Mean Squared Error: {mse:.2f}')\n",
        "\n",
        "# Root Mean Squared Error\n",
        "rmse = np.sqrt(mse)\n",
        "print(f'Root Mean Squared Error: {rmse:.2f}')"
      ],
      "metadata": {
        "colab": {
          "base_uri": "https://localhost:8080/"
        },
        "id": "nfEdxOjmA5DW",
        "outputId": "2bd92e71-f4e1-44b8-ef3c-8a1ea64d4004"
      },
      "execution_count": null,
      "outputs": [
        {
          "output_type": "stream",
          "name": "stdout",
          "text": [
            "Mean Squared Error: 0.06\n",
            "Root Mean Squared Error: 0.25\n"
          ]
        }
      ]
    },
    {
      "cell_type": "markdown",
      "source": [
        "### **Q5. What does an Adjusted R-squared value of 0.85 indicate?**\n",
        "\n",
        "ANS->Adjusted R-squared (Adj R²) of 0.85 indicates:\n",
        "\n",
        "1. High goodness of fit: The model explains approximately 85% of the variance in the dependent variable.\n",
        "2. Strong predictive power: The model is effective in predicting the outcome variable.\n",
        "3. Minimal overfitting: The adjustment for model complexity penalizes for unnecessary features.\n",
        "\n",
        "Interpretation:\n",
        "\n",
        "1. 85% of variance explained: The model accounts for most of the variation in the data.\n",
        "2. 15% unexplained variance: Some factors may still influence the outcome, but are not captured by the model.\n",
        "3. Robust model: Adj R² considers model complexity, indicating the model is well-regularized.\n",
        "\n",
        "Implications:\n",
        "\n",
        "1. Trustworthy predictions: Use the model for accurate predictions.\n",
        "2. Identify remaining factors: Investigate remaining 15% unexplained variance.\n",
        "3. Model refinement: Consider additional features or alternative models.\n",
        "\n",
        "Comparison:\n",
        "\n",
        "1. R-squared (R²): Measures variance explained (may be inflated).\n",
        "2. Adjusted R-squared (Adj R²): Measures variance explained, adjusted for complexity.\n",
        "\n",
        "Example:\n",
        "\n",
        "Suppose a linear regression model predicts house prices based on features like size, location, and number of bedrooms. An Adj R² of 0.85 indicates:\n",
        "\n",
        "1. The model accurately predicts house prices (85% variance explained).\n",
        "2. Location and size are significant factors.\n",
        "3. Consider additional features (e.g., number of floors, age) to capture remaining variance.\n",
        "\n",
        "Code example (Python):"
      ],
      "metadata": {
        "id": "Kh8p_VtY_LIw"
      }
    },
    {
      "cell_type": "code",
      "source": [
        "\n",
        "\n",
        "import pandas as pd\n",
        "from statsmodels.regression.linear_model import OLS\n",
        "from sklearn.preprocessing import LabelEncoder  # Import LabelEncoder\n",
        "\n",
        "# Sample data\n",
        "data = pd.DataFrame({'size': [1000, 2000, 3000], 'location': ['city', 'suburb', 'city'], 'price': [200000, 300000, 400000]})\n",
        "\n",
        "# Create a LabelEncoder object\n",
        "label_encoder = LabelEncoder()\n",
        "\n",
        "# Fit and transform the 'location' column\n",
        "data['location_encoded'] = label_encoder.fit_transform(data['location'])\n",
        "\n",
        "# Linear regression, use the encoded column instead of 'location'\n",
        "model = OLS(data['price'], data[['size', 'location_encoded']]).fit()\n",
        "\n",
        "# Adjusted R-squared\n",
        "adj_r2 = model.rsquared_adj\n",
        "print(f'Adjusted R-squared: {adj_r2:.2f}')"
      ],
      "metadata": {
        "colab": {
          "base_uri": "https://localhost:8080/"
        },
        "id": "tcXOPl0VD6k6",
        "outputId": "099b83c3-0bd8-413f-b303-1694e1c07ad7"
      },
      "execution_count": 1,
      "outputs": [
        {
          "output_type": "stream",
          "name": "stdout",
          "text": [
            "Adjusted R-squared: 0.96\n"
          ]
        }
      ]
    },
    {
      "cell_type": "markdown",
      "source": [
        "### **Q6. How do we check for normality of residuals in linear regression?**\n",
        "\n",
        "ANS-> To check for normality of residuals in linear regression:\n",
        "\n",
        "1. Visual Methods:\n",
        "    1. Q-Q Plot (Quantile-Quantile Plot): Compare residual distribution to normal distribution.\n",
        "    2. Histogram: Check residual distribution shape.\n",
        "    3. Density Plot: Visualize residual density.\n",
        "2. Statistical Tests:\n",
        "    1. Shapiro-Wilk Test: Measures normality (p-value < 0.05 indicates non-normality).\n",
        "    2. Kolmogorov-Smirnov Test: Compares residual distribution to normal.\n",
        "3. Residual Plots:\n",
        "    1. Residual vs. Fitted Plot: Check for curvature or patterns.\n",
        "    2. Residual vs. Independent Variable Plot: Identify non-random patterns.\n",
        "\n",
        "Tools:\n",
        "\n",
        "1. Python:\n",
        "    1. statsmodels: qqplot(), hist(), density()\n",
        "    2. scipy: shapiro(), ks_2samp()\n",
        "    3. matplotlib and seaborn: Visualization\n",
        "2. R:\n",
        "    1. ggplot2: Visualization\n",
        "    2. stats: shapiro.test(), ks.test()\n",
        "\n",
        "Example (Python):\n"
      ],
      "metadata": {
        "id": "IvYOWv_W_LMJ"
      }
    },
    {
      "cell_type": "code",
      "source": [
        "import pandas as pd\n",
        "import numpy as np\n",
        "import matplotlib.pyplot as plt\n",
        "from scipy import stats\n",
        "from statsmodels.graphics.gofplots import qqplot\n",
        "\n",
        "# Sample data\n",
        "np.random.seed(0)\n",
        "data = pd.DataFrame({'x': [1, 2, 3, 4, 5], 'y': [2, 3, 5, 7, 11]})\n",
        "\n",
        "# Linear regression\n",
        "from sklearn.linear_model import LinearRegression\n",
        "model = LinearRegression()\n",
        "model.fit(data['x'].values.reshape(-1, 1), data['y'])\n",
        "\n",
        "# Predictions\n",
        "y_pred = model.predict(data['x'].values.reshape(-1, 1))\n",
        "\n",
        "# Calculate residuals manually\n",
        "residuals = data['y'] - y_pred  # Difference between actual and predicted\n",
        "\n",
        "# Q-Q Plot\n",
        "qqplot(residuals, line='s')\n",
        "plt.title('Q-Q Plot')\n",
        "plt.show()\n",
        "\n",
        "# Shapiro-Wilk Test\n",
        "stat, p = stats.shapiro(residuals)\n",
        "print(f'Shapiro-Wilk Test: p-value = {p:.4f}')"
      ],
      "metadata": {
        "colab": {
          "base_uri": "https://localhost:8080/",
          "height": 490
        },
        "id": "EmM6dU_EEW9A",
        "outputId": "91e1d79b-a3dc-427a-d74a-45bac9de2cf6"
      },
      "execution_count": null,
      "outputs": [
        {
          "output_type": "display_data",
          "data": {
            "text/plain": [
              "<Figure size 640x480 with 1 Axes>"
            ],
            "image/png": "[encoded data removed]"
          },
          "metadata": {}
        },
        {
          "output_type": "stream",
          "name": "stdout",
          "text": [
            "Shapiro-Wilk Test: p-value = 0.1668\n"
          ]
        }
      ]
    },
    {
      "cell_type": "markdown",
      "source": [
        "### **Q7. What is multicollinearity, and how does it impact regression?**\n",
        "\n",
        "ANS-> Multicollinearity occurs when two or more independent variables in a regression model are highly correlated, making it challenging to:\n",
        "\n",
        "1. Interpret coefficients\n",
        "2. Estimate model parameters\n",
        "3. Make predictions\n",
        "\n",
        "Effects of multicollinearity:\n",
        "\n",
        "1. Instability: Small changes in data lead to large changes in coefficients.\n",
        "2. Inflated variance: Standard errors increase, reducing precision.\n",
        "3. Biased coefficients: Estimates may be incorrect or misleading.\n",
        "4. Model instability: Coefficients sensitive to data transformations.\n",
        "\n",
        "Consequences:\n",
        "\n",
        "1. Overfitting: Model performs well on training data but poorly on new data.\n",
        "2. Incorrect conclusions: Misleading interpretations of coefficients.\n",
        "3. Model selection: Difficulty selecting relevant features.\n",
        "\n",
        "Detection methods:\n",
        "\n",
        "1. Correlation matrix: Visualize correlations between variables.\n",
        "2. Variance inflation factor (VIF): Measures inflation in variance.\n",
        "3. Tolerance: Measures proportion of variance not explained.\n",
        "\n",
        "Remedies:\n",
        "\n",
        "1. Feature selection: Remove highly correlated variables.\n",
        "2. Dimensionality reduction: PCA, factor analysis.\n",
        "3. Regularization: Ridge regression, Lasso.\n",
        "4. Data transformation: Standardize or normalize variables.\n",
        "\n",
        "Code example (Python):"
      ],
      "metadata": {
        "id": "f9ZB21PE_LPV"
      }
    },
    {
      "cell_type": "code",
      "source": [
        "import pandas as pd\n",
        "import numpy as np\n",
        "from statsmodels.stats.outliers_influence import variance_inflation_factor\n",
        "\n",
        "# Sample data\n",
        "data = pd.DataFrame({'x1': [1, 2, 3, 4, 5], 'x2': [2, 3, 5, 7, 11], 'y': [2, 3, 5, 7, 11]})\n",
        "\n",
        "# Correlation matrix\n",
        "corr_matrix = data.corr()\n",
        "print(corr_matrix)\n",
        "\n",
        "# Variance inflation factor (VIF)\n",
        "vif = variance_inflation_factor(data[['x1', 'x2']], 0)\n",
        "print(f'VIF: {vif:.2f}')"
      ],
      "metadata": {
        "colab": {
          "base_uri": "https://localhost:8080/"
        },
        "id": "rOtnb2-DE1va",
        "outputId": "3918b486-ec77-45e9-8c3e-e445efe2084d"
      },
      "execution_count": null,
      "outputs": [
        {
          "output_type": "stream",
          "name": "stdout",
          "text": [
            "          x1        x2         y\n",
            "x1  1.000000  0.972272  0.972272\n",
            "x2  0.972272  1.000000  1.000000\n",
            "y   0.972272  1.000000  1.000000\n",
            "VIF: 56.08\n"
          ]
        }
      ]
    },
    {
      "cell_type": "markdown",
      "source": [
        "### **8. What is Mean Absolute Error (MAE)?**\n",
        "\n",
        "ANS-> Mean Absolute Error (MAE) measures the average absolute difference between predicted and actual values.\n",
        "\n",
        "MAE Formula:\n",
        "\n",
        "MAE = (1/n) * ∑|y_true - y_pred|\n",
        "\n",
        "Where:\n",
        "\n",
        "1. y_true: Actual values\n",
        "2. y_pred: Predicted values\n",
        "3. n: Number of observations\n",
        "\n",
        "Interpretation:\n",
        "\n",
        "1. Lower MAE: Better model performance\n",
        "2. MAE = 0: Perfect predictions\n",
        "3. High MAE: Large errors\n",
        "\n",
        "Advantages:\n",
        "\n",
        "1. Easy to understand and calculate\n",
        "2. Robust to outliers (compared to MSE)\n",
        "3. Suitable for skewed distributions\n",
        "\n",
        "Disadvantages:\n",
        "\n",
        "1. Does not penalize large errors severely\n",
        "2. Not differentiable (limits optimization)\n",
        "\n",
        "Common applications:\n",
        "\n",
        "1. Regression evaluation\n",
        "2. Time series forecasting\n",
        "3. Image and signal processing\n",
        "\n",
        "Comparison to Mean Squared Error (MSE):\n",
        "\n",
        "1. MAE emphasizes absolute errors\n",
        "2. MSE emphasizes squared errors (penalizes large errors)\n",
        "\n",
        "Code example (Python):"
      ],
      "metadata": {
        "id": "Wb_c6IqOE9xa"
      }
    },
    {
      "cell_type": "code",
      "source": [
        "import numpy as np\n",
        "from sklearn.metrics import mean_absolute_error\n",
        "\n",
        "# Actual values\n",
        "y_true = np.array([1, 2, 3, 4, 5])\n",
        "\n",
        "# Predicted values\n",
        "y_pred = np.array([1.1, 2.1, 3.2, 4.3, 5.4])\n",
        "\n",
        "# Mean Absolute Error\n",
        "mae = mean_absolute_error(y_true, y_pred)\n",
        "print(f'Mean Absolute Error: {mae:.2f}')"
      ],
      "metadata": {
        "colab": {
          "base_uri": "https://localhost:8080/"
        },
        "id": "XSc1ZHXzE96n",
        "outputId": "7dc14c44-287d-4a60-e775-143b0be9dfc6"
      },
      "execution_count": null,
      "outputs": [
        {
          "output_type": "stream",
          "name": "stdout",
          "text": [
            "Mean Absolute Error: 0.22\n"
          ]
        }
      ]
    },
    {
      "cell_type": "markdown",
      "source": [
        "### **Q9. What are the benefits of using an ML pipeline?**\n",
        "\n",
        "ANS-> Benefits of using an ML pipeline:\n",
        "\n",
        "1. Streamlined workflow: Automates data preparation, model training, and deployment.\n",
        "2. Improved efficiency: Reduces manual effort and minimizes errors.\n",
        "3. Enhanced collaboration: Facilitates teamwork among data scientists and engineers.\n",
        "4. Version control: Tracks changes and maintains reproducibility.\n",
        "5. Model management: Organizes and deploys multiple models.\n",
        "6. Data governance: Ensures data quality, security, and compliance.\n",
        "7. Scalability: Supports large datasets and complex models.\n",
        "8. Portability: Allows model deployment across environments.\n",
        "9. Monitoring and logging: Tracks performance and identifies issues.\n",
        "10. Continuous integration and deployment (CI/CD): Automates testing and deployment.\n",
        "\n",
        "Key components:\n",
        "\n",
        "1. Data ingestion\n",
        "2. Data preprocessing\n",
        "3. Model training\n",
        "4. Model evaluation\n",
        "5. Model deployment\n",
        "6. Model monitoring\n",
        "7. Model updating\n",
        "\n",
        "Tools:\n",
        "\n",
        "1. TensorFlow Extended (TFX)\n",
        "2. Apache Airflow\n",
        "3. Apache NiFi\n",
        "4. Kubeflow\n",
        "5. AWS SageMaker\n",
        "6. Azure Machine Learning\n",
        "7. Google Cloud AI Platform\n",
        "\n",
        "Best practices:\n",
        "\n",
        "1. Modularize pipeline components\n",
        "2. Use containerization (Docker, Kubernetes)\n",
        "3. Implement data validation and testing\n",
        "4. Monitor performance metrics\n",
        "5. Document pipeline architecture and components\n",
        "\n",
        "Example pipeline:\n",
        "\n",
        "1. Data ingestion: Load dataset from CSV\n",
        "2. Data preprocessing: Handle missing values, normalize features\n",
        "3. Model training: Train random forest classifier\n",
        "4. Model evaluation: Calculate accuracy, F1 score\n",
        "5. Model deployment: Deploy to production environment\n",
        "6. Model monitoring: Track performance, retrain as needed\n",
        "\n"
      ],
      "metadata": {
        "id": "H0Z2W2eWE-ih"
      }
    },
    {
      "cell_type": "markdown",
      "source": [
        "### **Q10. Why is RMSE considered more interpretable than MSE?**\n",
        "\n",
        "Root Mean Squared Error (RMSE) is considered more interpretable than Mean Squared Error (MSE) for several reasons:\n",
        "\n",
        "1. Same units as data: RMSE has the same units as the original data, making it easier to understand and compare to actual values.\n",
        "2. Directly comparable: RMSE values can be directly compared across different models or datasets with the same units.\n",
        "3. Easy to interpret: RMSE represents the standard deviation of the errors, providing a clear understanding of the model's performance.\n",
        "4. Visualizable: RMSE can be visualized as the radius of a circle, making it intuitive to understand.\n",
        "5. Real-world implications: RMSE is often used in real-world applications, such as finance, engineering, and physics, where errors have direct consequences.\n",
        "\n",
        "In contrast, MSE:\n",
        "\n",
        "1. Squared units: MSE has squared units, making it difficult to interpret and compare to actual values.\n",
        "2. Abstract measure: MSE is an abstract measure, lacking direct connection to the original data.\n",
        "3. Not directly comparable: MSE values cannot be directly compared across different models or datasets with different units.\n",
        "\n",
        "Example:\n",
        "\n",
        "Suppose a regression model predicts house prices (in thousands of dollars).\n",
        "\n",
        "MSE: 100\n",
        "RMSE: 10\n",
        "\n",
        "Interpretation:\n",
        "\n",
        "- MSE (100) is difficult to understand without context.\n",
        "- RMSE (10) indicates the model's average error is approximately $10,000.\n",
        "\n",
        "Code example (Python):\n"
      ],
      "metadata": {
        "id": "ky9I8MtIE-45"
      }
    },
    {
      "cell_type": "code",
      "source": [
        "import numpy as np\n",
        "\n",
        "# Actual values\n",
        "y_true = np.array([100, 120, 110])\n",
        "\n",
        "# Predicted values\n",
        "y_pred = np.array([90, 130, 105])\n",
        "\n",
        "# MSE\n",
        "mse = np.mean((y_true - y_pred) ** 2)\n",
        "print(f'MSE: {mse:.2f}')\n",
        "\n",
        "# RMSE\n",
        "rmse = np.sqrt(mse)\n",
        "print(f'RMSE: {rmse:.2f}')"
      ],
      "metadata": {
        "colab": {
          "base_uri": "https://localhost:8080/"
        },
        "id": "TvoJ7j4ZUOfS",
        "outputId": "9fbf7137-ea87-49a8-8ea6-935ccdce0bb1"
      },
      "execution_count": null,
      "outputs": [
        {
          "output_type": "stream",
          "name": "stdout",
          "text": [
            "MSE: 75.00\n",
            "RMSE: 8.66\n"
          ]
        }
      ]
    },
    {
      "cell_type": "markdown",
      "source": [
        "### **Q11. What is pickling in Python, and how is it useful in ML?**\n",
        "\n",
        "ANS-> Pickling in Python:\n",
        "\n",
        "Pickling is a process to serialize and de-serialize Python objects, converting them into byte streams. This allows:\n",
        "\n",
        "1. Object persistence: Save objects to files or databases.\n",
        "2. Object sharing: Share objects between Python scripts or processes.\n",
        "3. Object caching: Store computed results for later use.\n",
        "\n",
        "pickle module:\n",
        "\n",
        "Python's built-in pickle module provides functions for pickling:\n",
        "\n",
        "1. pickle.dump(): Serialize object to file.\n",
        "2. pickle.load(): Deserialize object from file.\n",
        "\n",
        "Example:\n"
      ],
      "metadata": {
        "id": "0luq1CPIUVrB"
      }
    },
    {
      "cell_type": "code",
      "source": [
        "import pickle\n",
        "\n",
        "# Create object\n",
        "data = {'name': 'John', 'age': 30}\n",
        "\n",
        "# Pickle object\n",
        "with open('data.pkl', 'wb') as f:\n",
        "    pickle.dump(data, f)\n",
        "\n",
        "# Unpickle object\n",
        "with open('data.pkl', 'rb') as f:\n",
        "    loaded_data = pickle.load(f)\n",
        "print(loaded_data)  # {'name': 'John', 'age': 30}"
      ],
      "metadata": {
        "colab": {
          "base_uri": "https://localhost:8080/"
        },
        "id": "7EPwREMbUtpg",
        "outputId": "2629ab4d-7055-4964-b1a6-7ada7a5ab333"
      },
      "execution_count": null,
      "outputs": [
        {
          "output_type": "stream",
          "name": "stdout",
          "text": [
            "{'name': 'John', 'age': 30}\n"
          ]
        }
      ]
    },
    {
      "cell_type": "markdown",
      "source": [
        "Usefulness in Machine Learning (ML):\n",
        "\n",
        "1. Model persistence: Save trained models to files.\n",
        "2. Model sharing: Share trained models between scripts or team members.\n",
        "3. Model caching: Store computed model results for later use.\n",
        "4. Data preprocessing: Save preprocessed data for later use.\n",
        "5. Hyperparameter tuning: Save hyperparameter combinations for later evaluation.\n",
        "\n",
        "ML libraries supporting pickling:\n",
        "\n",
        "1. scikit-learn\n",
        "2. TensorFlow\n",
        "3. PyTorch\n",
        "\n",
        "Example (scikit-learn):"
      ],
      "metadata": {
        "id": "irTwiAh4Uxqb"
      }
    },
    {
      "cell_type": "code",
      "source": [
        "from sklearn.ensemble import RandomForestClassifier\n",
        "from sklearn.datasets import load_iris\n",
        "import pickle\n",
        "\n",
        "# Load dataset\n",
        "iris = load_iris()\n",
        "X, y = iris.data, iris.target\n",
        "\n",
        "# Train model\n",
        "model = RandomForestClassifier(n_estimators=100)\n",
        "model.fit(X, y)\n",
        "\n",
        "# Pickle model\n",
        "with open('model.pkl', 'wb') as f:\n",
        "    pickle.dump(model, f)\n",
        "\n",
        "# Unpickle model\n",
        "with open('model.pkl', 'rb') as f:\n",
        "    loaded_model = pickle.load(f)\n",
        "    print(loaded_model.predict(X))"
      ],
      "metadata": {
        "colab": {
          "base_uri": "https://localhost:8080/"
        },
        "id": "M3tqGx_WE_Cj",
        "outputId": "37be89b1-9feb-4888-91d0-44d65eefe160"
      },
      "execution_count": null,
      "outputs": [
        {
          "output_type": "stream",
          "name": "stdout",
          "text": [
            "[0 0 0 0 0 0 0 0 0 0 0 0 0 0 0 0 0 0 0 0 0 0 0 0 0 0 0 0 0 0 0 0 0 0 0 0 0\n",
            " 0 0 0 0 0 0 0 0 0 0 0 0 0 1 1 1 1 1 1 1 1 1 1 1 1 1 1 1 1 1 1 1 1 1 1 1 1\n",
            " 1 1 1 1 1 1 1 1 1 1 1 1 1 1 1 1 1 1 1 1 1 1 1 1 1 1 2 2 2 2 2 2 2 2 2 2 2\n",
            " 2 2 2 2 2 2 2 2 2 2 2 2 2 2 2 2 2 2 2 2 2 2 2 2 2 2 2 2 2 2 2 2 2 2 2 2 2\n",
            " 2 2]\n"
          ]
        }
      ]
    },
    {
      "cell_type": "markdown",
      "source": [
        "### **Q12. What does a high R-squared value mean?**\n",
        "\n",
        "ANS-> A high R-squared (R²) value indicates:\n",
        "\n",
        "1. Strong linear relationship: The independent variable(s) effectively explain the variation in the dependent variable.\n",
        "2. Good model fit: The model accurately predicts the data.\n",
        "3. High variance explanation: The model explains a large proportion of the data's variance.\n",
        "\n",
        "Interpretation:\n",
        "\n",
        "1. R² = 0.9: 90% of the data's variance is explained by the model.\n",
        "2. R² = 0.8: 80% of the data's variance is explained by the model.\n",
        "3. R² = 0.7: 70% of the data's variance is explained by the model.\n",
        "\n",
        "Guidelines:\n",
        "\n",
        "1. 0.9 ≤ R² ≤ 1: Excellent fit (90-100% variance explained)\n",
        "2. 0.7 ≤ R² < 0.9: Good fit (70-89% variance explained)\n",
        "3. 0.5 ≤ R² < 0.7: Fair fit (50-69% variance explained)\n",
        "4. 0.3 ≤ R² < 0.5: Poor fit (30-49% variance explained)\n",
        "5. R² < 0.3: Very poor fit (<30% variance explained)\n",
        "\n",
        "Limitations:\n",
        "\n",
        "1. Overfitting: High R² doesn't guarantee good predictions.\n",
        "2. Multicollinearity: High R² can mask multicollinearity issues.\n",
        "3. Non-linear relationships: R² measures linear relationships only.\n",
        "\n",
        "Example:\n",
        "\n",
        "Suppose a regression model predicts house prices based on square footage.\n",
        "\n",
        "R² = 0.85\n",
        "\n",
        "Interpretation: The model explains 85% of the variation in house prices, indicating a strong linear relationship between square footage and house prices.\n",
        "\n",
        "Code example (Python):\n"
      ],
      "metadata": {
        "id": "kXAAdw5NU5ZS"
      }
    },
    {
      "cell_type": "code",
      "source": [
        "import pandas as pd\n",
        "from sklearn.linear_model import LinearRegression\n",
        "\n",
        "# Sample data\n",
        "data = pd.DataFrame({'sqft': [1000, 2000, 3000], 'price': [200000, 300000, 400000]})\n",
        "\n",
        "# Linear regression\n",
        "model = LinearRegression()\n",
        "model.fit(data['sqft'].values.reshape(-1, 1), data['price'])\n",
        "\n",
        "# R-squared\n",
        "r2 = model.score(data['sqft'].values.reshape(-1, 1), data['price'])\n",
        "print(f'R-squared: {r2:.2f}')"
      ],
      "metadata": {
        "colab": {
          "base_uri": "https://localhost:8080/"
        },
        "id": "c_8iqTgEU5lk",
        "outputId": "50bd32b0-8249-4327-9e4d-3f68d40e1f39"
      },
      "execution_count": null,
      "outputs": [
        {
          "output_type": "stream",
          "name": "stdout",
          "text": [
            "R-squared: 1.00\n"
          ]
        }
      ]
    },
    {
      "cell_type": "markdown",
      "source": [
        "### **Q13.What happens if linear regression assumptions are violated?**\n",
        "\n",
        "ANS-> Consequences of violating linear regression assumptions:\n",
        "\n",
        "Assumptions and Consequences\n",
        "\n",
        "1. Linearity\n",
        "\n",
        "- Violation: Non-linear relationship between independent and dependent variables.\n",
        "- Consequences:\n",
        "    - Biased coefficients.\n",
        "    - Incorrect predictions.\n",
        "    - Over/underestimation of relationships.\n",
        "- Remedies:\n",
        "    - Transform variables (e.g., log, square).\n",
        "    - Use non-linear models (e.g., polynomial regression, generalized additive models).\n",
        "\n",
        "2. Independence\n",
        "\n",
        "- Violation: Observations not independent (e.g., time series, clustered data).\n",
        "- Consequences:\n",
        "    - Inflated variance.\n",
        "    - Incorrect standard errors.\n",
        "    - Biased coefficients.\n",
        "- Remedies:\n",
        "    - Use time series analysis or generalized least squares.\n",
        "    - Account for clustering (e.g., robust standard errors).\n",
        "\n",
        "3. Homoscedasticity\n",
        "\n",
        "- Violation: Non-constant variance across independent variable levels.\n",
        "- Consequences:\n",
        "    - Inefficient estimates.\n",
        "    - Incorrect standard errors.\n",
        "    - Biased coefficients.\n",
        "- Remedies:\n",
        "    - Transform variables (e.g., log, square).\n",
        "    - Use weighted least squares or robust regression.\n",
        "\n",
        "4. Normality\n",
        "\n",
        "- Violation: Non-normal residuals.\n",
        "- Consequences:\n",
        "    - Incorrect inference (t-tests, confidence intervals).\n",
        "    - Biased coefficients.\n",
        "- Remedies:\n",
        "    - Transform variables (e.g., log, square).\n",
        "    - Use robust regression or non-parametric tests.\n",
        "\n",
        "5. No Multicollinearity\n",
        "\n",
        "- Violation: High correlation between independent variables.\n",
        "- Consequences:\n",
        "    - Unstable estimates.\n",
        "    - Incorrect standard errors.\n",
        "    - Biased coefficients.\n",
        "- Remedies:\n",
        "    - Remove highly correlated variables.\n",
        "    - Use dimensionality reduction (e.g., PCA).\n",
        "\n",
        "6. No Outliers\n",
        "\n",
        "- Violation: Influential outliers.\n",
        "- Consequences:\n",
        "    - Biased coefficients.\n",
        "    - Incorrect predictions.\n",
        "    - Over/underestimation of relationships.\n",
        "- Remedies:\n",
        "    - Remove outliers.\n",
        "    - Use robust regression.\n",
        "\n",
        "Detection Methods\n",
        "\n",
        "1. Visual inspection (plots).\n",
        "2. Statistical tests (e.g., Shapiro-Wilk, Durbin-Watson).\n",
        "3. Diagnostic metrics (e.g., VIF, condition index).\n",
        "\n",
        "Remedies\n",
        "\n",
        "1. Data transformation.\n",
        "2. Model selection (e.g., generalized linear models).\n",
        "3. Robust regression techniques.\n",
        "4. Dimensionality reduction.\n",
        "5. Outlier removal.\n",
        "\n"
      ],
      "metadata": {
        "id": "Yr0ANiPkU5ug"
      }
    },
    {
      "cell_type": "markdown",
      "source": [
        "### **Q14. How can we address multicollinearity in regression?**\n",
        "\n",
        "ANS-> Addressing Multicollinearity in Regression:\n",
        "\n",
        "Detection Methods\n",
        "1. Variance Inflation Factor (VIF)\n",
        "2. Tolerance\n",
        "3. Correlation Matrix\n",
        "4. Condition Index\n",
        "Remedies\n",
        "5. Remove highly correlated variables\n",
        "6. Dimensionality reduction\n",
        "    1. Principal Component Analysis (PCA)\n",
        "    2. Factor Analysis\n",
        "7. Regularization techniques\n",
        "    1. Ridge Regression\n",
        "    2. Lasso Regression\n",
        "8. Data transformation\n",
        "    1. Standardize or normalize variables\n",
        "9. Model selection\n",
        "    1. Stepwise regression\n",
        "    2. Forward selection\n",
        "    3. Backward elimination\n",
        "10. Collect more data\n",
        "11. Use robust regression methods\n",
        "    1. Robust least squares\n",
        "VIF Calculation"
      ],
      "metadata": {
        "id": "AKKpM8uuE_SP"
      }
    },
    {
      "cell_type": "code",
      "source": [
        "import pandas as pd\n",
        "from statsmodels.stats.outliers_influence import variance_inflation_factor\n",
        "\n",
        "# Sample data\n",
        "data = pd.DataFrame({'x1': [1, 2, 3, 4, 5], 'x2': [2, 3, 5, 7, 11]})\n",
        "\n",
        "# Calculate VIF\n",
        "vif = variance_inflation_factor(data[['x1', 'x2']], 0)\n",
        "print(f'VIF: {vif:.2f}')\n",
        "\n",
        "\n",
        "# Ridge Regression Example\n",
        "\n",
        "\n",
        "from sklearn.linear_model import Ridge\n",
        "\n",
        "# Sample data\n",
        "data = pd.DataFrame({'x1': [1, 2, 3, 4, 5], 'x2': [2, 3, 5, 7, 11], 'y': [2, 3, 5, 7, 11]})\n",
        "\n",
        "# Ridge regression\n",
        "model = Ridge(alpha=0.5)\n",
        "model.fit(data[['x1', 'x2']], data['y'])\n",
        "\n",
        "print(model.coef_)\n",
        "\n",
        "\n",
        "# Lasso Regression Example\n",
        "\n",
        "\n",
        "from sklearn.linear_model import Lasso\n",
        "\n",
        "# Sample data\n",
        "data = pd.DataFrame({'x1': [1, 2, 3, 4, 5], 'x2': [2, 3, 5, 7, 11], 'y': [2, 3, 5, 7, 11]})\n",
        "\n",
        "# Lasso regression\n",
        "model = Lasso(alpha=0.5)\n",
        "model.fit(data[['x1', 'x2']], data['y'])\n",
        "\n",
        "print(model.coef_)\n"
      ],
      "metadata": {
        "colab": {
          "base_uri": "https://localhost:8080/"
        },
        "id": "-kX5cYq0E_ip",
        "outputId": "f030c460-1202-4e78-9c0f-a01ee27d3aaf"
      },
      "execution_count": null,
      "outputs": [
        {
          "output_type": "stream",
          "name": "stdout",
          "text": [
            "VIF: 56.08\n",
            "[0.18691589 0.91079014]\n",
            "[0.         0.95117187]\n"
          ]
        }
      ]
    },
    {
      "cell_type": "markdown",
      "source": [
        "### **Q15. Why do we use pipelines in machine learning?**\n",
        "\n",
        "ANS-> Pipelines in Machine Learning:\n",
        "\n",
        "Benefits:\n",
        "\n",
        "1. Streamlined workflow: Automate data preparation, model training, and evaluation.\n",
        "2. Improved efficiency: Reduce manual effort and minimize errors.\n",
        "3. Enhanced collaboration: Facilitate teamwork among data scientists and engineers.\n",
        "4. Version control: Track changes and maintain reproducibility.\n",
        "5. Model management: Organize and deploy multiple models.\n",
        "\n",
        "Key Components:\n",
        "\n",
        "1. Data ingestion: Load and preprocess data.\n",
        "2. Feature engineering: Transform and select relevant features.\n",
        "3. Model training: Train and tune machine learning models.\n",
        "4. Model evaluation: Assess performance metrics.\n",
        "5. Model deployment: Deploy models to production.\n",
        "\n",
        "Advantages:\n",
        "\n",
        "1. Simplified hyperparameter tuning: Optimize parameters across multiple stages.\n",
        "2. Efficient cross-validation: Evaluate models with reduced computational overhead.\n",
        "3. Better model selection: Compare performance across multiple models.\n",
        "4. Improved data quality: Detect and handle data issues early.\n",
        "5. Faster prototyping: Rapidly test and iterate on new ideas.\n",
        "\n",
        "Popular Pipeline Tools:\n",
        "\n",
        "1. Apache Airflow\n",
        "2. Kubeflow\n",
        "3. TensorFlow Extended (TFX)\n",
        "4. Scikit-learn Pipeline\n",
        "5. PySpark ML\n",
        "\n",
        "Example (Scikit-learn Pipeline):"
      ],
      "metadata": {
        "id": "kybGHulbWzFd"
      }
    },
    {
      "cell_type": "code",
      "source": [
        "from sklearn.pipeline import Pipeline\n",
        "from sklearn.preprocessing import StandardScaler\n",
        "from sklearn.linear_model import LogisticRegression\n",
        "from sklearn.model_selection import train_test_split # Import for data splitting\n",
        "import pandas as pd # Import pandas for DataFrame creation (if needed)\n",
        "# ... (your existing code) ...\n",
        "\n",
        "# Sample data (Replace with your actual data)\n",
        "# Assuming your data is in a pandas DataFrame called 'data'\n",
        "# with features in columns 'x1', 'x2' and target in column 'y'\n",
        "\n",
        "X = data[['x1', 'x2']] # Features\n",
        "y = data['y'] # Target\n",
        "\n",
        "# Split data into training and testing sets\n",
        "X_train, X_test, y_train, y_test = train_test_split(X, y, test_size=0.2, random_state=42) # Adjust test_size and random_state as needed\n",
        "\n",
        "# ... (rest of your existing pipeline code) ...\n",
        "\n",
        "# Fit pipeline\n",
        "pipeline.fit(X_train, y_train)\n",
        "\n",
        "# Evaluate pipeline\n",
        "accuracy = pipeline.score(X_test, y_test)\n",
        "print(f'Accuracy: {accuracy:.3f}')"
      ],
      "metadata": {
        "colab": {
          "base_uri": "https://localhost:8080/"
        },
        "id": "WTkcykm3WzVO",
        "outputId": "d97a4956-ee87-4735-ac51-6f6b81711c93"
      },
      "execution_count": null,
      "outputs": [
        {
          "output_type": "stream",
          "name": "stdout",
          "text": [
            "Accuracy: 0.000\n"
          ]
        }
      ]
    },
    {
      "cell_type": "markdown",
      "source": [
        "### **Q16. How is Adjusted R-squared calculated?**\n",
        "\n",
        "ANS-> Adjusted R-squared Calculation:\n",
        "\n",
        "Adjusted R-squared measures the goodness of fit for a regression model, adjusting for the number of predictors.\n",
        "\n",
        "Formula:\n",
        "\n",
        "Adjusted R-squared = 1 - (1 - R-squared) × (n - 1) / (n - k - 1)\n",
        "\n",
        "Where:\n",
        "\n",
        "1. R-squared: Proportion of variance explained by the model\n",
        "2. n: Sample size (number of observations)\n",
        "3. k: Number of predictors (independent variables)\n",
        "\n",
        "Steps:\n",
        "\n",
        "1. Calculate R-squared.\n",
        "2. Calculate the penalty term: (1 - R-squared) × (n - 1).\n",
        "3. Calculate Adjusted R-squared.\n",
        "\n",
        "Example:\n",
        "\n",
        "Suppose a regression model with:\n",
        "\n",
        "1. R-squared = 0.8\n",
        "2. n = 100\n",
        "3. k = 3\n",
        "\n",
        "Adjusted R-squared calculation:\n",
        "\n",
        "1. Penalty term = (1 - 0.8) × (100 - 1) = 0.2 × 99 = 19.8\n",
        "2. Adjusted R-squared = 1 - 19.8 / (100 - 3 - 1) = 1 - 19.8 / 96 ≈ 0.793\n",
        "\n",
        "Interpretation:\n",
        "\n",
        "Adjusted R-squared values:\n",
        "\n",
        "1. 0.9 ≤ Adjusted R-squared ≤ 1: Excellent fit\n",
        "2. 0.7 ≤ Adjusted R-squared < 0.9: Good fit\n",
        "3. 0.5 ≤ Adjusted R-squared < 0.7: Fair fit\n",
        "4. Adjusted R-squared < 0.5: Poor fit\n",
        "\n",
        "Code example (Python):"
      ],
      "metadata": {
        "id": "iVnh17mgWzdt"
      }
    },
    {
      "cell_type": "code",
      "source": [
        "# prompt: How is Adjusted R-squared calculated?\n",
        "\n",
        "import numpy as np\n",
        "\n",
        "def adjusted_r_squared(r_squared, n, k):\n",
        "  \"\"\"Calculates the adjusted R-squared value.\n",
        "\n",
        "  Args:\n",
        "    r_squared: The R-squared value.\n",
        "    n: The sample size.\n",
        "    k: The number of predictors.\n",
        "\n",
        "  Returns:\n",
        "    The adjusted R-squared value.\n",
        "  \"\"\"\n",
        "  adjusted_r2 = 1 - (1 - r_squared) * (n - 1) / (n - k - 1)\n",
        "  return adjusted_r2\n",
        "\n",
        "# Example usage\n",
        "r2 = 0.8\n",
        "n = 100\n",
        "k = 3\n",
        "adj_r2 = adjusted_r_squared(r2, n, k)\n",
        "print(f\"Adjusted R-squared: {adj_r2:.3f}\")"
      ],
      "metadata": {
        "colab": {
          "base_uri": "https://localhost:8080/"
        },
        "id": "PQ6znn0GWzqI",
        "outputId": "4aead1a2-24e6-4060-97d7-3b9f8aee437f"
      },
      "execution_count": null,
      "outputs": [
        {
          "output_type": "stream",
          "name": "stdout",
          "text": [
            "Adjusted R-squared: 0.794\n"
          ]
        }
      ]
    },
    {
      "cell_type": "markdown",
      "source": [
        "### **Q17. Why is MSE sensitive to outliers?**\n",
        "\n",
        "Mean Squared Error (MSE) Sensitivity to Outliers:\n",
        "\n",
        "MSE calculates the average squared difference between predicted and actual values.\n",
        "\n",
        "MSE = (1/n) ∑(y_true - y_pred)^2\n",
        "\n",
        "Outliers affect MSE in two ways:\n",
        "\n",
        "1. Squared term: Outliers have large errors, which become even larger when squared. This amplifies their impact on MSE.\n",
        "2. Average calculation: Outliers contribute disproportionately to the average, pulling the MSE value away from the true value.\n",
        "\n",
        "Consequences:\n",
        "\n",
        "1. Inflated MSE: Outliers increase MSE, making the model appear less accurate.\n",
        "2. Biased evaluation: MSE overemphasizes outlier errors, leading to incorrect conclusions.\n",
        "3. Suboptimal hyperparameter tuning: Outliers dominate the optimization process.\n",
        "\n",
        "Examples:\n",
        "\n",
        "1. Regression: An outlier with a large error (e.g., 100) contributes 10,000 to MSE, while an inlier with a small error (e.g., 1) contributes only 1.\n",
        "2. Time series forecasting: A single outlier can significantly impact MSE, masking the model's performance.\n",
        "\n",
        "Robust alternatives:\n",
        "\n",
        "1. Mean Absolute Error (MAE): Less sensitive to outliers, as errors are not squared.\n",
        "2. Mean Absolute Percentage Error (MAPE): Similar to MAE, but relative to actual values.\n",
        "3. Huber Loss: Combines MSE and MAE, reducing outlier impact.\n",
        "4. Robust regression techniques: Use methods like Least Absolute Deviation (LAD) or M-estimators.\n",
        "\n",
        "Code example (Python):"
      ],
      "metadata": {
        "id": "VFggqF_HWz0P"
      }
    },
    {
      "cell_type": "code",
      "source": [
        "import numpy as np\n",
        "\n",
        "# Sample data\n",
        "y_true = np.array([1, 2, 3, 4, 5])\n",
        "y_pred = np.array([1, 2, 3, 4, 100])  # outlier\n",
        "\n",
        "# MSE\n",
        "mse = np.mean((y_true - y_pred) ** 2)\n",
        "print(f'MSE: {mse:.2f}')\n",
        "\n",
        "# MAE\n",
        "mae = np.mean(np.abs(y_true - y_pred))\n",
        "print(f'MAE: {mae:.2f}')"
      ],
      "metadata": {
        "colab": {
          "base_uri": "https://localhost:8080/"
        },
        "id": "6pl7mAX0Wz_1",
        "outputId": "66fc1ff5-f6b4-4f48-d87f-3ff0d6db9172"
      },
      "execution_count": null,
      "outputs": [
        {
          "output_type": "stream",
          "name": "stdout",
          "text": [
            "MSE: 1805.00\n",
            "MAE: 19.00\n"
          ]
        }
      ]
    },
    {
      "cell_type": "markdown",
      "source": [
        "### **Q18. What is the role of homoscedasticity in linear regression?**\n",
        "\n",
        "ANS-> Homoscedasticity in Linear Regression:\n",
        "\n",
        "Homoscedasticity assumes that the variance of residuals (ε) is constant across all levels of the independent variable(s).\n",
        "\n",
        "Role:\n",
        "\n",
        "1. Constant variance: Ensures that residuals have equal spread throughout the data range.\n",
        "2. Equal error variance: Allows for accurate inference and hypothesis testing.\n",
        "3. Unbiased estimates: Ensures that coefficient estimates are unbiased.\n",
        "\n",
        "Consequences of heteroscedasticity (violating homoscedasticity):\n",
        "\n",
        "1. Inefficient estimates: Coefficient estimates remain unbiased but have inflated variance.\n",
        "2. Incorrect inference: t-tests, confidence intervals, and p-values are unreliable.\n",
        "3. Biased standard errors: Under/overestimation of standard errors.\n",
        "\n",
        "Types of heteroscedasticity:\n",
        "\n",
        "1. Increasing variance: Residual variance increases with independent variable.\n",
        "2. Decreasing variance: Residual variance decreases with independent variable.\n",
        "3. Non-monotonic variance: Residual variance changes unpredictably.\n",
        "\n",
        "Detection methods:\n",
        "\n",
        "1. Visual inspection: Plot residuals vs. independent variable.\n",
        "2. Breusch-Pagan test: Statistical test for heteroscedasticity.\n",
        "3. White test: Statistical test for heteroscedasticity.\n",
        "\n",
        "Remedies:\n",
        "\n",
        "1. Transform variables: Log, square, or inverse transformation.\n",
        "2. Weighted least squares: Assign different weights to observations.\n",
        "3. Robust regression: Use robust standard errors or sandwich estimators.\n",
        "4. Generalized linear models: Choose appropriate distribution (e.g., Poisson, logistic).\n",
        "\n",
        "Code example (Python):"
      ],
      "metadata": {
        "id": "6TKDh8VfW0Jt"
      }
    },
    {
      "cell_type": "code",
      "source": [
        "import pandas as pd\n",
        "import numpy as np\n",
        "import matplotlib.pyplot as plt\n",
        "\n",
        "# Sample data\n",
        "np.random.seed(0)\n",
        "x = np.linspace(1, 10, 100)\n",
        "y = 2 * x + np.random.normal(0, x)  # heteroscedasticity\n",
        "\n",
        "# Linear regression\n",
        "from sklearn.linear_model import LinearRegression\n",
        "model = LinearRegression()\n",
        "model.fit(x.reshape(-1, 1), y)\n",
        "\n",
        "# Residuals\n",
        "residuals = y - model.predict(x.reshape(-1, 1))\n",
        "\n",
        "# Plot residuals vs. x\n",
        "plt.scatter(x, residuals)\n",
        "plt.title('Residuals vs. x')\n",
        "plt.show()\n"
      ],
      "metadata": {
        "colab": {
          "base_uri": "https://localhost:8080/",
          "height": 452
        },
        "id": "2wdXkDYpW0Yf",
        "outputId": "8cf0a247-faf2-4431-f30c-4038d4b8e1dd"
      },
      "execution_count": null,
      "outputs": [
        {
          "output_type": "display_data",
          "data": {
            "text/plain": [
              "<Figure size 640x480 with 1 Axes>"
            ],
            "image/png": "[encoded data removed]"
          },
          "metadata": {}
        }
      ]
    },
    {
      "cell_type": "markdown",
      "source": [
        "### **Q19. What is Root Mean Squared Error (RMSE)?**\n",
        "\n",
        "ANS-> Root Mean Squared Error (RMSE):\n",
        "\n",
        "RMSE measures the square root of the average squared difference between predicted and actual values.\n",
        "\n",
        "Formula:\n",
        "\n",
        "RMSE = √[(1/n) ∑(y_true - y_pred)^2]\n",
        "\n",
        "Where:\n",
        "\n",
        "1. y_true: Actual values\n",
        "2. y_pred: Predicted values\n",
        "3. n: Sample size\n",
        "\n",
        "Interpretation:\n",
        "\n",
        "1. Lower RMSE: Better model performance\n",
        "2. RMSE = 0: Perfect predictions\n",
        "3. High RMSE: Large errors\n",
        "\n",
        "Advantages:\n",
        "\n",
        "1. Easy to interpret\n",
        "2. Sensitive to outliers\n",
        "3. Comparable across models\n",
        "\n",
        "Disadvantages:\n",
        "\n",
        "1. Squares errors, amplifying large mistakes\n",
        "2. Not robust to outliers\n",
        "\n",
        "Applications:\n",
        "\n",
        "1. Regression evaluation\n",
        "2. Time series forecasting\n",
        "3. Image and signal processing\n",
        "\n",
        "Comparison to Mean Absolute Error (MAE):\n",
        "\n",
        "1. RMSE penalizes large errors more severely\n",
        "2. MAE more robust to outliers\n",
        "\n",
        "Code example (Python):"
      ],
      "metadata": {
        "id": "lNFGF9_nbAV-"
      }
    },
    {
      "cell_type": "code",
      "source": [
        "import numpy as np\n",
        "\n",
        "# Actual values\n",
        "y_true = np.array([1, 2, 3, 4, 5])\n",
        "\n",
        "# Predicted values\n",
        "y_pred = np.array([1.1, 2.1, 3.2, 4.3, 5.4])\n",
        "\n",
        "# RMSE calculation\n",
        "rmse = np.sqrt(np.mean((y_true - y_pred) ** 2))\n",
        "print(f'RMSE: {rmse:.2f}')"
      ],
      "metadata": {
        "colab": {
          "base_uri": "https://localhost:8080/"
        },
        "id": "_VMloVJ1bAet",
        "outputId": "82968ce1-dc57-4832-8e0f-850afe9c8812"
      },
      "execution_count": null,
      "outputs": [
        {
          "output_type": "stream",
          "name": "stdout",
          "text": [
            "RMSE: 0.25\n"
          ]
        }
      ]
    },
    {
      "cell_type": "markdown",
      "source": [
        "### **Q20. Why is pickling considered risky?**\n",
        "\n",
        "ANS-> Pickling Risks:\n",
        "\n",
        "Pickling, Python's object serialization process, poses security risks due to:\n",
        "\n",
        "1. Arbitrary Code Execution: Pickled objects can contain malicious code, executed upon unpickling.\n",
        "2. Deserialization Vulnerabilities: Pickling can lead to deserialization attacks, exploiting vulnerabilities in dependent libraries.\n",
        "3. Data Tampering: Pickled data can be modified or corrupted during transmission/storage.\n",
        "4. Dependence on Specific Python Version: Pickled objects may not be compatible across Python versions.\n",
        "5. Potential for Denial-of-Service (DoS) Attacks: Malicious pickled objects can cause crashes or resource exhaustion.\n",
        "\n",
        "Best Practices to Mitigate Risks:\n",
        "\n",
        "1. Only unpickle trusted data: Verify source and authenticity.\n",
        "2. Use secure protocols: Encrypt and authenticate pickled data.\n",
        "3. Validate pickled data: Check structure and content.\n",
        "4. Use latest Python versions: Ensure bug fixes and security patches.\n",
        "5. Consider alternative serialization: JSON, YAML, or MessagePack.\n",
        "\n",
        "Safe Unpickling Strategies:\n",
        "\n",
        "1. Use pickle.load() with caution: Only with trusted data.\n",
        "2. Implement custom unpickling: Validate and sanitize data.\n",
        "3. Use pickle.loads() with restrictions: Limit allowed object types.\n",
        "4. Utilize third-party libraries: dill, cloudpickle, or joblib.\n",
        "\n",
        "Example (Safe Unpickling):\n"
      ],
      "metadata": {
        "id": "vRYzkQx4bAre"
      }
    },
    {
      "cell_type": "code",
      "source": [
        "import pickle\n",
        "\n",
        "# Only unpickle trusted data\n",
        "def safe_unpickle(data):\n",
        "    try:\n",
        "        return pickle.loads(data)\n",
        "    except pickle.UnpicklingError as e:\n",
        "        print(f\"Unpickling error: {e}\")\n",
        "        return None\n",
        "\n",
        "# Test with trusted pickled data\n",
        "pickled_data = pickle.dumps({\"name\": \"John\"})\n",
        "unpickled_data = safe_unpickle(pickled_data)\n",
        "print(unpickled_data)  # Output: {'name': 'John'}"
      ],
      "metadata": {
        "colab": {
          "base_uri": "https://localhost:8080/"
        },
        "id": "Q-PBd5-QbA0m",
        "outputId": "180c3963-1214-4da0-9f78-7e849d0d720a"
      },
      "execution_count": null,
      "outputs": [
        {
          "output_type": "stream",
          "name": "stdout",
          "text": [
            "{'name': 'John'}\n"
          ]
        }
      ]
    },
    {
      "cell_type": "markdown",
      "source": [
        "### **Q21. What alternatives exist to pickling for saving ML models?**\n",
        "ANS-> Alternatives to Pickling for Saving ML Models:\n",
        "\n",
        "1. Joblib: Efficient serialization for Python objects, suitable for ML models.\n",
        "2. Dill: Similar to Pickle, but supports more object types.\n",
        "3. CloudPickle: Fast, secure serialization for distributed computing.\n",
        "4. HDF5: Binary format for storing numerical data, suitable for ML models.\n",
        "5. TensorFlow SavedModel: Native TensorFlow model serialization.\n",
        "6. PyTorch Serialization: Native PyTorch model serialization.\n",
        "7. ONNX (Open Neural Network Exchange): Platform-agnostic model serialization.\n",
        "8. PMML (Predictive Model Markup Language): Standard for deploying ML models.\n",
        "9. Scikit-learn's built-in serialization: Supports various formats (e.g., CSV, JSON).\n",
        "10. Model-specific serialization: Some libraries (e.g., LightGBM, XGBoost) provide custom serialization.\n",
        "\n",
        "Comparison:\n",
        "\n",
        "| Alternative | Advantages | Disadvantages |\n",
        "| --- | --- | --- |\n",
        "| Joblib | Fast, efficient | Limited platform support |\n",
        "| Dill | Flexible, supports multiple object types | Security concerns |\n",
        "| CloudPickle | Secure, fast | Limited compatibility |\n",
        "| HDF5 | Efficient storage, supports large data | Complex API |\n",
        "| TensorFlow SavedModel | Native support, efficient | TensorFlow-specific |\n",
        "| PyTorch Serialization | Native support, efficient | PyTorch-specific |\n",
        "| ONNX | Platform-agnostic, flexible | Limited library support |\n",
        "| PMML | Standardized, widely supported | Complex implementation |\n",
        "\n",
        "Example (Joblib):"
      ],
      "metadata": {
        "id": "YG6K37ZhbA9t"
      }
    },
    {
      "cell_type": "code",
      "source": [
        "from sklearn.ensemble import RandomForestClassifier\n",
        "from sklearn.datasets import load_iris\n",
        "import joblib\n",
        "\n",
        "# Train model\n",
        "iris = load_iris()\n",
        "model = RandomForestClassifier(n_estimators=100)\n",
        "model.fit(iris.data, iris.target)\n",
        "\n",
        "# Save model\n",
        "joblib.dump(model, 'model.joblib')\n",
        "\n",
        "# Load model\n",
        "loaded_model = joblib.load('model.joblib')\n"
      ],
      "metadata": {
        "id": "LjqRM9VabBK6"
      },
      "execution_count": null,
      "outputs": []
    },
    {
      "cell_type": "markdown",
      "source": [
        "### **Q22. What is heteroscedasticity, and why is it a problem?**\n",
        "\n",
        "ANS-> Heteroscedasticity:\n",
        "\n",
        "Heteroscedasticity occurs when the variance of residuals (errors) in a regression model changes across different levels of the independent variable(s). This means the spread of residuals is not constant.\n",
        "\n",
        "Types:\n",
        "\n",
        "1. Increasing variance: Residual variance increases as the independent variable increases.\n",
        "2. Decreasing variance: Residual variance decreases as the independent variable increases.\n",
        "3. Non-monotonic variance: Residual variance changes unpredictably.\n",
        "\n",
        "Consequences:\n",
        "\n",
        "1. Inefficient estimates: Coefficient estimates remain unbiased but have inflated variance.\n",
        "2. Incorrect inference: t-tests, confidence intervals, and p-values are unreliable.\n",
        "3. Biased standard errors: Under/overestimation of standard errors.\n",
        "\n",
        "Problems:\n",
        "\n",
        "1. Distorted hypothesis testing\n",
        "2. Inaccurate confidence intervals\n",
        "3. Biased prediction intervals\n",
        "4. Model misspecification\n",
        "5. Reduced model accuracy\n",
        "\n",
        "Detection methods:\n",
        "\n",
        "1. Visual inspection: Plot residuals vs. independent variable.\n",
        "2. Breusch-Pagan test\n",
        "3. White test\n",
        "4. Goldfeld-Quandt test\n",
        "\n",
        "Remedies:\n",
        "\n",
        "1. Transform variables: Log, square, or inverse transformation.\n",
        "2. Weighted least squares (WLS)\n",
        "3. Robust regression: Use robust standard errors or sandwich estimators.\n",
        "4. Generalized linear models (GLM): Choose appropriate distribution.\n",
        "5. Model re-specification\n",
        "\n",
        "Code example (Python):\n"
      ],
      "metadata": {
        "id": "2ikqbe-YbBT0"
      }
    },
    {
      "cell_type": "code",
      "source": [
        "import pandas as pd\n",
        "import numpy as np\n",
        "import matplotlib.pyplot as plt\n",
        "\n",
        "# Sample data\n",
        "np.random.seed(0)\n",
        "x = np.linspace(1, 10, 100)\n",
        "y = 2 * x + np.random.normal(0, x)  # heteroscedasticity\n",
        "\n",
        "# Linear regression\n",
        "from sklearn.linear_model import LinearRegression\n",
        "model = LinearRegression()\n",
        "model.fit(x.reshape(-1, 1), y)\n",
        "\n",
        "# Residuals\n",
        "residuals = y - model.predict(x.reshape(-1, 1))\n",
        "\n",
        "# Plot residuals vs. x\n",
        "plt.scatter(x, residuals)\n",
        "plt.title('Residuals vs. x')\n",
        "plt.show()"
      ],
      "metadata": {
        "colab": {
          "base_uri": "https://localhost:8080/",
          "height": 452
        },
        "id": "FlYdOvdPbBce",
        "outputId": "c60b0f03-7bc2-4faa-9725-9c9ed0c8284f"
      },
      "execution_count": null,
      "outputs": [
        {
          "output_type": "display_data",
          "data": {
            "text/plain": [
              "<Figure size 640x480 with 1 Axes>"
            ],
            "image/png": "[encoded data removed]"
          },
          "metadata": {}
        }
      ]
    },
    {
      "cell_type": "markdown",
      "source": [
        "### **Q23. How does adding irrelevant predictors affect R-squared and Adjusted R-squared?**\n",
        "\n",
        "ANS-> Adding Irrelevant Predictors:\n",
        "\n",
        "Effects on R-squared and Adjusted R-squared:\n",
        "\n",
        "R-squared:\n",
        "\n",
        "1. Increases or remains constant: Irrelevant predictors can artificially inflate R-squared.\n",
        "2. May overestimate model fit.\n",
        "\n",
        "Adjusted R-squared:\n",
        "\n",
        "1. Decreases or remains constant: Penalizes additional predictors.\n",
        "2. Provides more accurate assessment of model fit.\n",
        "\n",
        "Why Adjusted R-squared decreases:\n",
        "\n",
        "1. Penalty term: (n-1)/(n-k-1) increases as k (number of predictors) grows.\n",
        "2. Irrelevant predictors add noise, reducing model efficiency.\n",
        "\n",
        "Consequences:\n",
        "\n",
        "1. Overfitting: Model becomes overly complex.\n",
        "2. Decreased generalization performance.\n",
        "3. Increased risk of false discoveries.\n",
        "\n",
        "Best practices:\n",
        "\n",
        "1. Regularization techniques (L1, L2).\n",
        "2. Feature selection methods (Forward, Backward, Stepwise).\n",
        "3. Cross-validation.\n",
        "4. Information criteria (AIC, BIC).\n",
        "\n",
        "Code example (Python):"
      ],
      "metadata": {
        "id": "ViEVSpY1cKzf"
      }
    },
    {
      "cell_type": "code",
      "source": [
        "import pandas as pd\n",
        "from sklearn.linear_model import LinearRegression\n",
        "import numpy as np\n",
        "\n",
        "# Sample data\n",
        "np.random.seed(0)\n",
        "x1 = np.random.normal(0, 1, 100)\n",
        "x2 = np.random.normal(0, 1, 100)  # irrelevant predictor\n",
        "y = 2 * x1 + np.random.normal(0, 1, 100)\n",
        "\n",
        "# Data frame\n",
        "df = pd.DataFrame({'x1': x1, 'x2': x2, 'y': y})\n",
        "\n",
        "# Linear regression\n",
        "model1 = LinearRegression()\n",
        "model1.fit(df[['x1']], df['y']) # x1 is reshaped to a 2D array using double brackets\n",
        "\n",
        "model2 = LinearRegression()\n",
        "model2.fit(df[['x1', 'x2']], df['y']) # x1 and x2 are reshaped to a 2D array using double brackets\n",
        "\n",
        "\n",
        "print(\"R-squared (relevant predictor only):\", model1.score(df[['x1']], df['y'])) # x1 is reshaped to a 2D array using double brackets\n",
        "print(\"R-squared (with irrelevant predictor):\", model2.score(df[['x1', 'x2']], df['y'])) # x1 and x2 are reshaped to a 2D array using double brackets\n",
        "\n",
        "#Adjusted R^2 Calculations need to be performed on the whole dataframe and not just y\n",
        "print(\"Adjusted R-squared (relevant predictor only):\", 1 - (len(df) - 1) / (len(df) - 2) * (1 - model1.score(df[['x1']], df['y']))) # x1 is reshaped to a 2D array using double brackets\n",
        "print(\"Adjusted R-squared (with irrelevant predictor):\", 1 - (len(df) - 1) / (len(df) - 3) * (1 - model2.score(df[['x1', 'x2']], df['y']))) # x1 and x2 are reshaped to a 2D array using double brackets"
      ],
      "metadata": {
        "colab": {
          "base_uri": "https://localhost:8080/"
        },
        "id": "flSK7L_GcjDD",
        "outputId": "c3272c6c-17a9-4f98-d335-2b5e32448bed"
      },
      "execution_count": null,
      "outputs": [
        {
          "output_type": "stream",
          "name": "stdout",
          "text": [
            "R-squared (relevant predictor only): 0.8287531565195481\n",
            "R-squared (with irrelevant predictor): 0.8291472009979431\n",
            "Adjusted R-squared (relevant predictor only): 0.8270057397493393\n",
            "Adjusted R-squared (with irrelevant predictor): 0.8256244628741894\n"
          ]
        }
      ]
    },
    {
      "cell_type": "markdown",
      "source": [
        "# **Practical**\n",
        "---"
      ],
      "metadata": {
        "id": "UZ5en_V5dFKx"
      }
    },
    {
      "cell_type": "markdown",
      "source": [
        "### **Q1. Write a Python script that calculates the Mean Squared Error (MSE) and Mean Absolute Error (MAE) for a multiple linear regression model using Seaborn's \"diamonds\" dataset.**"
      ],
      "metadata": {
        "id": "awFt33cMdI70"
      }
    },
    {
      "cell_type": "code",
      "source": [
        "# Import necessary libraries\n",
        "import seaborn as sns\n",
        "import pandas as pd\n",
        "from sklearn.model_selection import train_test_split\n",
        "from sklearn.linear_model import LinearRegression\n",
        "from sklearn.metrics import mean_squared_error, mean_absolute_error\n",
        "\n",
        "# Load Seaborn's diamonds dataset\n",
        "diamonds = sns.load_dataset(\"diamonds\")\n",
        "\n",
        "# Preprocess data\n",
        "X = diamonds[['carat', 'cut', 'color', 'clarity']]\n",
        "y = diamonds['price']\n",
        "\n",
        "# Convert categorical variables to numerical variables\n",
        "X = pd.get_dummies(X)\n",
        "\n",
        "# Split data into training and testing sets\n",
        "X_train, X_test, y_train, y_test = train_test_split(X, y, test_size=0.2, random_state=42)\n",
        "\n",
        "# Create and train a multiple linear regression model\n",
        "model = LinearRegression()\n",
        "model.fit(X_train, y_train)\n",
        "\n",
        "# Make predictions on the test set\n",
        "y_pred = model.predict(X_test)\n",
        "\n",
        "# Calculate Mean Squared Error (MSE)\n",
        "mse = mean_squared_error(y_test, y_pred)\n",
        "print(f\"Mean Squared Error (MSE): {mse:.2f}\")\n",
        "\n",
        "# Calculate Mean Absolute Error (MAE)\n",
        "mae = mean_absolute_error(y_test, y_pred)\n",
        "print(f\"Mean Absolute Error (MAE): {mae:.2f}\")"
      ],
      "metadata": {
        "colab": {
          "base_uri": "https://localhost:8080/"
        },
        "id": "ZyD2OeK6m1GI",
        "outputId": "981096f9-a2d3-4e92-cd4d-61a42b638f1e"
      },
      "execution_count": null,
      "outputs": [
        {
          "output_type": "stream",
          "name": "stdout",
          "text": [
            "Mean Squared Error (MSE): 1346335.59\n",
            "Mean Absolute Error (MAE): 802.12\n"
          ]
        }
      ]
    },
    {
      "cell_type": "markdown",
      "source": [
        "### **Q2. Write a Python script to calculate and print Mean Squared Error (MSE), Mean Absolute Error (MAE), and Root Mean Squared Error (RMSE) for a linear regression model.**"
      ],
      "metadata": {
        "id": "YSkxN7x5m4KR"
      }
    },
    {
      "cell_type": "code",
      "source": [
        "# Import necessary libraries\n",
        "import numpy as np\n",
        "from sklearn.linear_model import LinearRegression\n",
        "from sklearn.model_selection import train_test_split\n",
        "from sklearn.metrics import mean_squared_error, mean_absolute_error\n",
        "from sklearn.datasets import fetch_california_housing # Import fetch_california_housing\n",
        "\n",
        "# Load California Housing dataset instead of Boston Housing\n",
        "california = fetch_california_housing() # Use fetch_california_housing\n",
        "X = california.data\n",
        "y = california.target\n",
        "\n",
        "# Split data into training and testing sets\n",
        "X_train, X_test, y_train, y_test = train_test_split(X, y, test_size=0.2, random_state=42)\n",
        "\n",
        "# Create and train a linear regression model\n",
        "model = LinearRegression()\n",
        "model.fit(X_train, y_train)\n",
        "\n",
        "# Make predictions on the test set\n",
        "y_pred = model.predict(X_test)\n",
        "\n",
        "# Calculate Mean Squared Error (MSE)\n",
        "mse = mean_squared_error(y_test, y_pred)\n",
        "print(f\"Mean Squared Error (MSE): {mse:.2f}\")\n",
        "\n",
        "# Calculate Mean Absolute Error (MAE)\n",
        "mae = mean_absolute_error(y_test, y_pred)\n",
        "print(f\"Mean Absolute Error (MAE): {mae:.2f}\")\n",
        "\n",
        "# Calculate Root Mean Squared Error (RMSE)\n",
        "rmse = np.sqrt(mse)\n",
        "print(f\"Root Mean Squared Error (RMSE): {rmse:.2f}\")"
      ],
      "metadata": {
        "colab": {
          "base_uri": "https://localhost:8080/"
        },
        "id": "BOfM87Vrm4XA",
        "outputId": "bdc67d38-088e-4c8a-d18c-99358f4ae331"
      },
      "execution_count": null,
      "outputs": [
        {
          "output_type": "stream",
          "name": "stdout",
          "text": [
            "Mean Squared Error (MSE): 0.56\n",
            "Mean Absolute Error (MAE): 0.53\n",
            "Root Mean Squared Error (RMSE): 0.75\n"
          ]
        }
      ]
    },
    {
      "cell_type": "markdown",
      "source": [
        "### **Q3. Write a Python script to check if the assumptions of linear regression are met. Use a scatter plot to check linearity, residuals plot for homoscedasticity, and correlation matrix for multicollinearity.**"
      ],
      "metadata": {
        "id": "tDpHaCYTm4hH"
      }
    },
    {
      "cell_type": "code",
      "source": [
        "# Import necessary libraries\n",
        "import pandas as pd\n",
        "import numpy as np\n",
        "import matplotlib.pyplot as plt\n",
        "import seaborn as sns\n",
        "from sklearn.linear_model import LinearRegression\n",
        "from sklearn.model_selection import train_test_split\n",
        "from statsmodels.stats.outliers_influence import variance_inflation_factor\n",
        "\n",
        "# Instead of load_boston, fetch the dataset from the original source:\n",
        "data_url = \"http://lib.stat.cmu.edu/datasets/boston\"\n",
        "raw_df = pd.read_csv(data_url, sep=\"\\s+\", skiprows=22, header=None)\n",
        "data = np.hstack([raw_df.values[::2, :], raw_df.values[1::2, :2]])\n",
        "target = raw_df.values[1::2, 2]\n",
        "\n",
        "# Create DataFrame\n",
        "df = pd.DataFrame(data, columns=['CRIM', 'ZN', 'INDUS', 'CHAS', 'NOX', 'RM', 'AGE', 'DIS', 'RAD', 'TAX', 'PTRATIO', 'B', 'LSTAT'])\n",
        "df['PRICE'] = target # Add target as 'PRICE' column\n",
        "\n",
        "\n",
        "# Split data into training and testing sets\n",
        "X = df.drop('PRICE', axis=1)\n",
        "y = df['PRICE']\n",
        "X_train, X_test, y_train, y_test = train_test_split(X, y, test_size=0.2, random_state=42)\n",
        "\n",
        "# Create and train a linear regression model\n",
        "model = LinearRegression()\n",
        "model.fit(X_train, y_train)\n",
        "\n",
        "# Check linearity assumption\n",
        "# Plot scatter plot of predicted values vs. actual values\n",
        "y_pred = model.predict(X_train)\n",
        "plt.scatter(y_pred, y_train)\n",
        "plt.plot([y_train.min(), y_train.max()], [y_train.min(), y_train.max()], 'r--')\n",
        "plt.xlabel('Predicted values')\n",
        "plt.ylabel('Actual values')\n",
        "plt.title('Linearity Check')\n",
        "plt.show()\n",
        "\n",
        "# Check homoscedasticity assumption\n",
        "# Plot residuals vs. predicted values\n",
        "residuals = y_train - y_pred\n",
        "plt.scatter(y_pred, residuals)\n",
        "plt.plot([y_pred.min(), y_pred.max()], [0, 0], 'r--')\n",
        "plt.xlabel('Predicted values')\n",
        "plt.ylabel('Residuals')\n",
        "plt.title('Homoscedasticity Check')\n",
        "plt.show()\n",
        "\n",
        "# Check multicollinearity assumption\n",
        "# Calculate Variance Inflation Factor (VIF)\n",
        "vif = pd.DataFrame()\n",
        "vif['Features'] = X.columns\n",
        "vif['VIF'] = [variance_inflation_factor(X.values, i) for i in range(X.shape[1])]\n",
        "print(vif)\n",
        "\n",
        "# Check correlation between features\n",
        "# Plot correlation matrix\n",
        "corr_matrix = X.corr()\n",
        "plt.figure(figsize=(10, 8))\n",
        "sns.heatmap(corr_matrix, annot=True, cmap='coolwarm', square=True)\n",
        "plt.title('Correlation Matrix')\n",
        "plt.show()"
      ],
      "metadata": {
        "colab": {
          "base_uri": "https://localhost:8080/",
          "height": 1000
        },
        "id": "UpYuwnMCm4rL",
        "outputId": "c3b48d43-d314-4e70-c20f-57febe99216c"
      },
      "execution_count": null,
      "outputs": [
        {
          "output_type": "display_data",
          "data": {
            "text/plain": [
              "<Figure size 640x480 with 1 Axes>"
            ],
            "image/png": "[encoded data removed]"
          },
          "metadata": {}
        },
        {
          "output_type": "display_data",
          "data": {
            "text/plain": [
              "<Figure size 640x480 with 1 Axes>"
            ],
            "image/png": "[encoded data removed]"
          },
          "metadata": {}
        },
        {
          "output_type": "stream",
          "name": "stdout",
          "text": [
            "   Features        VIF\n",
            "0      CRIM   2.100373\n",
            "1        ZN   2.844013\n",
            "2     INDUS  14.485758\n",
            "3      CHAS   1.152952\n",
            "4       NOX  73.894947\n",
            "5        RM  77.948283\n",
            "6       AGE  21.386850\n",
            "7       DIS  14.699652\n",
            "8       RAD  15.167725\n",
            "9       TAX  61.227274\n",
            "10  PTRATIO  85.029547\n",
            "11        B  20.104943\n",
            "12    LSTAT  11.102025\n"
          ]
        },
        {
          "output_type": "display_data",
          "data": {
            "text/plain": [
              "<Figure size 1000x800 with 2 Axes>"
            ],
            "image/png": "[encoded data removed]"
          },
          "metadata": {}
        }
      ]
    },
    {
      "cell_type": "markdown",
      "source": [
        "### **Q4. Write a Python script that creates a machine learning pipeline with feature scaling and evaluates the performance of different regression models **"
      ],
      "metadata": {
        "id": "NDHraAnjm46I"
      }
    },
    {
      "cell_type": "code",
      "source": [
        "# Import necessary libraries\n",
        "import numpy as np\n",
        "import pandas as pd\n",
        "from sklearn.model_selection import train_test_split, cross_val_score\n",
        "from sklearn.preprocessing import StandardScaler\n",
        "from sklearn.linear_model import LinearRegression, Ridge, Lasso\n",
        "from sklearn.svm import SVR\n",
        "from sklearn.tree import DecisionTreeRegressor\n",
        "from sklearn.ensemble import RandomForestRegressor\n",
        "from sklearn.pipeline import Pipeline\n",
        "from sklearn.metrics import mean_squared_error\n",
        "from sklearn.datasets import make_regression\n",
        "\n",
        "# Step 1: Create a synthetic regression dataset\n",
        "X, y = make_regression(n_samples=100, n_features=5, noise=0.1, random_state=42)\n",
        "\n",
        "# Step 2: Split the dataset into training and testing sets\n",
        "X_train, X_test, y_train, y_test = train_test_split(X, y, test_size=0.2, random_state=42)\n",
        "\n",
        "# Step 3: Create a list of regression models\n",
        "models = {\n",
        "    'Linear Regression': LinearRegression(),\n",
        "    'Ridge Regression': Ridge(),\n",
        "    'Lasso Regression': Lasso(),\n",
        "    'Support Vector Regression (SVR)': SVR(),\n",
        "    'Decision Tree Regressor': DecisionTreeRegressor(),\n",
        "    'Random Forest Regressor': RandomForestRegressor()\n",
        "}\n",
        "\n",
        "# Step 4: Initialize a StandardScaler for feature scaling\n",
        "scaler = StandardScaler()\n",
        "\n",
        "# Step 5: Iterate through each model and evaluate performance\n",
        "results = {}\n",
        "\n",
        "for model_name, model in models.items():\n",
        "    # Create a pipeline with scaling and the model\n",
        "    pipeline = Pipeline([\n",
        "        ('scaler', scaler),  # Feature scaling\n",
        "        ('model', model)     # Regression model\n",
        "    ])\n",
        "\n",
        "    # Perform cross-validation to evaluate the model\n",
        "    cv_scores = cross_val_score(pipeline, X_train, y_train, cv=5, scoring='neg_mean_squared_error')\n",
        "\n",
        "    # Store the results\n",
        "    results[model_name] = {\n",
        "        'Mean CV Score': np.mean(cv_scores),\n",
        "        'Standard Deviation': np.std(cv_scores)\n",
        "    }\n",
        "\n",
        "# Step 6: Print out the results\n",
        "print(\"Model Performance (Negative Mean Squared Error):\")\n",
        "for model_name, result in results.items():\n",
        "    print(f\"{model_name} - Mean CV Score: {result['Mean CV Score']:.4f}, Standard Deviation: {result['Standard Deviation']:.4f}\")\n",
        "\n",
        "# Step 7: Choose the best performing model based on cross-validation results\n",
        "best_model_name = min(results, key=lambda x: results[x]['Mean CV Score'])\n",
        "print(f\"\\nBest performing model: {best_model_name}\")\n",
        "\n",
        "# Step 8: Evaluate the best model on the test set\n",
        "best_model = models[best_model_name]\n",
        "pipeline = Pipeline([\n",
        "    ('scaler', scaler),\n",
        "    ('model', best_model)\n",
        "])\n",
        "pipeline.fit(X_train, y_train)\n",
        "y_pred = pipeline.predict(X_test)\n",
        "\n",
        "# Calculate the test set performance\n",
        "mse_test = mean_squared_error(y_test, y_pred)\n",
        "print(f\"Test Set Mean Squared Error (MSE) for {best_model_name}: {mse_test:.4f}\")\n"
      ],
      "metadata": {
        "colab": {
          "base_uri": "https://localhost:8080/"
        },
        "id": "g4jL2Z7um5Fb",
        "outputId": "48b1e213-af1c-4050-c2af-c26c38c9cd56"
      },
      "execution_count": 2,
      "outputs": [
        {
          "output_type": "stream",
          "name": "stdout",
          "text": [
            "Model Performance (Negative Mean Squared Error):\n",
            "Linear Regression - Mean CV Score: -0.0093, Standard Deviation: 0.0034\n",
            "Ridge Regression - Mean CV Score: -5.8129, Standard Deviation: 2.5260\n",
            "Lasso Regression - Mean CV Score: -5.9443, Standard Deviation: 2.8884\n",
            "Support Vector Regression (SVR) - Mean CV Score: -19355.0219, Standard Deviation: 5495.7695\n",
            "Decision Tree Regressor - Mean CV Score: -10701.2067, Standard Deviation: 2630.4722\n",
            "Random Forest Regressor - Mean CV Score: -5461.8371, Standard Deviation: 2836.7201\n",
            "\n",
            "Best performing model: Support Vector Regression (SVR)\n",
            "Test Set Mean Squared Error (MSE) for Support Vector Regression (SVR): 19311.5387\n"
          ]
        }
      ]
    },
    {
      "cell_type": "markdown",
      "source": [
        "### **Q5. Implement a simple linear regression model on a dataset and print the model's coefficients, intercept, and R-squared score.**"
      ],
      "metadata": {
        "id": "5QoQYCuqm5Rg"
      }
    },
    {
      "cell_type": "code",
      "source": [
        "# Import necessary libraries\n",
        "from sklearn.linear_model import LinearRegression\n",
        "# Instead of load_boston, fetch the dataset from the original source:\n",
        "import pandas as pd\n",
        "import numpy as np\n",
        "from sklearn.model_selection import train_test_split\n",
        "from sklearn.metrics import r2_score\n",
        "\n",
        "# Fetch the dataset from the original source:\n",
        "data_url = \"http://lib.stat.cmu.edu/datasets/boston\"\n",
        "raw_df = pd.read_csv(data_url, sep=\"\\s+\", skiprows=22, header=None)\n",
        "data = np.hstack([raw_df.values[::2, :], raw_df.values[1::2, :2]])\n",
        "target = raw_df.values[1::2, 2]\n",
        "\n",
        "# Create DataFrame\n",
        "df = pd.DataFrame(data, columns=['CRIM', 'ZN', 'INDUS', 'CHAS', 'NOX', 'RM', 'AGE', 'DIS', 'RAD', 'TAX', 'PTRATIO', 'B', 'LSTAT'])\n",
        "df['PRICE'] = target # Add target as 'PRICE' column\n",
        "\n",
        "# Split data into training and testing sets\n",
        "X = df.drop('PRICE', axis=1)\n",
        "y = df['PRICE']\n",
        "X_train, X_test, y_train, y_test = train_test_split(X, y, test_size=0.2, random_state=42)\n",
        "\n",
        "# Create and fit linear regression model\n",
        "model = LinearRegression()\n",
        "model.fit(X_train, y_train)\n",
        "\n",
        "# Print model coefficients\n",
        "print(\"Coefficients:\")\n",
        "for i, coefficient in enumerate(model.coef_):\n",
        "    print(f\"Feature {i}: {coefficient:.2f}\")\n",
        "\n",
        "# Print model intercept\n",
        "print(f\"\\nIntercept: {model.intercept_:.2f}\")\n",
        "\n",
        "# Make predictions on testing data\n",
        "y_pred = model.predict(X_test)\n",
        "\n",
        "# Print R-squared score\n",
        "r2 = r2_score(y_test, y_pred)\n",
        "print(f\"\\nR-squared score: {r2:.2f}\")"
      ],
      "metadata": {
        "colab": {
          "base_uri": "https://localhost:8080/"
        },
        "id": "xVRtTH6Xm5dx",
        "outputId": "1b567548-9c69-4f9b-adb7-8b482c8b6e9e"
      },
      "execution_count": null,
      "outputs": [
        {
          "output_type": "stream",
          "name": "stdout",
          "text": [
            "Coefficients:\n",
            "Feature 0: -0.11\n",
            "Feature 1: 0.03\n",
            "Feature 2: 0.04\n",
            "Feature 3: 2.78\n",
            "Feature 4: -17.20\n",
            "Feature 5: 4.44\n",
            "Feature 6: -0.01\n",
            "Feature 7: -1.45\n",
            "Feature 8: 0.26\n",
            "Feature 9: -0.01\n",
            "Feature 10: -0.92\n",
            "Feature 11: 0.01\n",
            "Feature 12: -0.51\n",
            "\n",
            "Intercept: 30.25\n",
            "\n",
            "R-squared score: 0.67\n"
          ]
        }
      ]
    },
    {
      "cell_type": "markdown",
      "source": [
        "### **Q6. Write a Python script that analyzes the relationship between total bill and tip in the 'tips' dataset using simple linear regression and visualizes the results.**"
      ],
      "metadata": {
        "id": "tByNBN8em5ot"
      }
    },
    {
      "cell_type": "code",
      "source": [
        "# Import necessary libraries\n",
        "import seaborn as sns\n",
        "import matplotlib.pyplot as plt\n",
        "import numpy as np\n",
        "from sklearn.linear_model import LinearRegression\n",
        "from sklearn.model_selection import train_test_split\n",
        "from sklearn.metrics import mean_squared_error, r2_score\n",
        "\n",
        "# Step 1: Load the tips dataset\n",
        "tips = sns.load_dataset('tips')\n",
        "\n",
        "# Step 2: Inspect the dataset\n",
        "print(tips.head())\n",
        "\n",
        "# Step 3: Prepare the data for regression (total bill and tip)\n",
        "X = tips[['total_bill']]  # Independent variable (total bill)\n",
        "y = tips['tip']           # Dependent variable (tip)\n",
        "\n",
        "# Step 4: Split the dataset into training and testing sets\n",
        "X_train, X_test, y_train, y_test = train_test_split(X, y, test_size=0.2, random_state=42)\n",
        "\n",
        "# Step 5: Initialize and train the Linear Regression model\n",
        "model = LinearRegression()\n",
        "model.fit(X_train, y_train)\n",
        "\n",
        "# Step 6: Make predictions on the test set\n",
        "y_pred = model.predict(X_test)\n",
        "\n",
        "# Step 7: Evaluate the model's performance\n",
        "mse = mean_squared_error(y_test, y_pred)\n",
        "r2 = r2_score(y_test, y_pred)\n",
        "print(f\"Mean Squared Error: {mse:.4f}\")\n",
        "print(f\"R-squared: {r2:.4f}\")\n",
        "\n",
        "# Step 8: Visualize the regression line along with the data points\n",
        "plt.figure(figsize=(10, 6))\n",
        "\n",
        "# Scatter plot of the data\n",
        "plt.scatter(X_test, y_test, color='blue', label='Actual Tips', alpha=0.6)\n",
        "\n",
        "# Plot the regression line (predicted values)\n",
        "plt.plot(X_test, y_pred, color='red', label='Regression Line')\n",
        "\n",
        "plt.title('Total Bill vs Tip (Linear Regression)')\n",
        "plt.xlabel('Total Bill')\n",
        "plt.ylabel('Tip')\n",
        "plt.legend()\n",
        "plt.grid(True)\n",
        "\n",
        "# Show the plot\n",
        "plt.show()\n"
      ],
      "metadata": {
        "colab": {
          "base_uri": "https://localhost:8080/",
          "height": 703
        },
        "id": "e07wV3Gam5yT",
        "outputId": "59f4c329-35e0-4836-9626-e378cb54c45b"
      },
      "execution_count": 3,
      "outputs": [
        {
          "output_type": "stream",
          "name": "stdout",
          "text": [
            "   total_bill   tip     sex smoker  day    time  size\n",
            "0       16.99  1.01  Female     No  Sun  Dinner     2\n",
            "1       10.34  1.66    Male     No  Sun  Dinner     3\n",
            "2       21.01  3.50    Male     No  Sun  Dinner     3\n",
            "3       23.68  3.31    Male     No  Sun  Dinner     2\n",
            "4       24.59  3.61  Female     No  Sun  Dinner     4\n",
            "Mean Squared Error: 0.5688\n",
            "R-squared: 0.5449\n"
          ]
        },
        {
          "output_type": "display_data",
          "data": {
            "text/plain": [
              "<Figure size 1000x600 with 1 Axes>"
            ],
            "image/png": "[encoded data removed]"
          },
          "metadata": {}
        }
      ]
    },
    {
      "cell_type": "markdown",
      "source": [
        "### **Q7. Write a Python script that fits a linear regression model to a synthetic dataset with one feature. Use the model to predict new values and plot the data points along with the regression line.**"
      ],
      "metadata": {
        "id": "vtLq7ibPpe03"
      }
    },
    {
      "cell_type": "code",
      "source": [
        "# Import necessary libraries\n",
        "import numpy as np\n",
        "import matplotlib.pyplot as plt\n",
        "from sklearn.linear_model import LinearRegression\n",
        "\n",
        "# Generate synthetic dataset\n",
        "np.random.seed(0)\n",
        "X = np.random.rand(100, 1)\n",
        "y = 3 + 2 * X + np.random.randn(100, 1)\n",
        "\n",
        "# Fit linear regression model\n",
        "model = LinearRegression()\n",
        "model.fit(X, y)\n",
        "\n",
        "# Predict new values\n",
        "X_new = np.linspace(0, 1, 100).reshape(-1, 1)\n",
        "y_new = model.predict(X_new)\n",
        "\n",
        "# Plot data points and regression line\n",
        "plt.scatter(X, y, label='Data points')\n",
        "plt.plot(X_new, y_new, label='Regression line', color='red')\n",
        "plt.xlabel('Feature')\n",
        "plt.ylabel('Target')\n",
        "plt.title('Linear Regression')\n",
        "plt.legend()\n",
        "plt.show()\n",
        "\n",
        "# Print coefficients\n",
        "print('Intercept:', model.intercept_)\n",
        "print('Slope:', model.coef_)"
      ],
      "metadata": {
        "colab": {
          "base_uri": "https://localhost:8080/",
          "height": 509
        },
        "id": "3x7PT6YZpfAo",
        "outputId": "d45b391c-15d9-4afc-b3cb-107621c9f07d"
      },
      "execution_count": null,
      "outputs": [
        {
          "output_type": "display_data",
          "data": {
            "text/plain": [
              "<Figure size 640x480 with 1 Axes>"
            ],
            "image/png": "[encoded data removed]"
          },
          "metadata": {}
        },
        {
          "output_type": "stream",
          "name": "stdout",
          "text": [
            "Intercept: [3.22215108]\n",
            "Slope: [[1.93693502]]\n"
          ]
        }
      ]
    },
    {
      "cell_type": "markdown",
      "source": [
        "### **Q8. Write a Python script that pickles a trained linear regression model and saves it to a file.**"
      ],
      "metadata": {
        "id": "HxhOLECzpfOl"
      }
    },
    {
      "cell_type": "code",
      "source": [
        "# Import necessary libraries\n",
        "import pickle\n",
        "from sklearn.linear_model import LinearRegression\n",
        "from sklearn.datasets import fetch_california_housing  # Changed import\n",
        "from sklearn.model_selection import train_test_split\n",
        "\n",
        "# Load California Housing dataset\n",
        "housing = fetch_california_housing()  # Changed to fetch_california_housing\n",
        "X = housing.data\n",
        "y = housing.target\n",
        "\n",
        "# Split data into training and testing sets\n",
        "X_train, X_test, y_train, y_test = train_test_split(X, y, test_size=0.2, random_state=42)\n",
        "\n",
        "# Create and train linear regression model\n",
        "model = LinearRegression()\n",
        "model.fit(X_train, y_train)\n",
        "\n",
        "# Pickle the trained model\n",
        "with open('linear_regression_model.pkl', 'wb') as file:\n",
        "    pickle.dump(model, file)\n",
        "\n",
        "print(\"Model saved to linear_regression_model.pkl\")"
      ],
      "metadata": {
        "colab": {
          "base_uri": "https://localhost:8080/"
        },
        "id": "pd1iH7KMpfYF",
        "outputId": "f5ca2c57-04b9-4b62-dddc-76937c25f6f0"
      },
      "execution_count": null,
      "outputs": [
        {
          "output_type": "stream",
          "name": "stdout",
          "text": [
            "Model saved to linear_regression_model.pkl\n"
          ]
        }
      ]
    },
    {
      "cell_type": "markdown",
      "source": [
        "### **Q9. Write a Python script that fits a polynomial regression model (degree 2) to a dataset and plots the regression curve.**"
      ],
      "metadata": {
        "id": "6aVRNOWPpfif"
      }
    },
    {
      "cell_type": "code",
      "source": [
        "# Import necessary libraries\n",
        "import numpy as np\n",
        "import matplotlib.pyplot as plt\n",
        "from sklearn.preprocessing import PolynomialFeatures\n",
        "from sklearn.linear_model import LinearRegression\n",
        "from sklearn.pipeline import make_pipeline\n",
        "\n",
        "# Generate sample dataset\n",
        "np.random.seed(0)\n",
        "X = np.random.rand(100, 1)\n",
        "y = 3 + 2 * X + 0.5 * X**2 + np.random.randn(100, 1)\n",
        "\n",
        "# Create polynomial regression model (degree 2)\n",
        "model = make_pipeline(PolynomialFeatures(degree=2), LinearRegression())\n",
        "\n",
        "# Fit model to data\n",
        "model.fit(X, y)\n",
        "\n",
        "# Predict values for plotting\n",
        "X_plot = np.linspace(0, 1, 1000).reshape(-1, 1)\n",
        "y_plot = model.predict(X_plot)\n",
        "\n",
        "# Plot data points and regression curve\n",
        "plt.scatter(X, y, label='Data points')\n",
        "plt.plot(X_plot, y_plot, label='Regression curve', color='red')\n",
        "plt.xlabel('Feature')\n",
        "plt.ylabel('Target')\n",
        "plt.title('Polynomial Regression (Degree 2)')\n",
        "plt.legend()\n",
        "plt.show()\n",
        "\n",
        "# Print coefficients\n",
        "print('Intercept:', model.named_steps['linearregression'].intercept_)\n",
        "print('Coefficients:', model.named_steps['linearregression'].coef_)"
      ],
      "metadata": {
        "colab": {
          "base_uri": "https://localhost:8080/",
          "height": 509
        },
        "id": "R7U2P3f5pfrc",
        "outputId": "b6564e71-f9ce-4001-890f-a75292efa729"
      },
      "execution_count": null,
      "outputs": [
        {
          "output_type": "display_data",
          "data": {
            "text/plain": [
              "<Figure size 640x480 with 1 Axes>"
            ],
            "image/png": "[encoded data removed]"
          },
          "metadata": {}
        },
        {
          "output_type": "stream",
          "name": "stdout",
          "text": [
            "Intercept: [2.95139826]\n",
            "Coefficients: [[ 0.          3.68201685 -1.30762372]]\n"
          ]
        }
      ]
    },
    {
      "cell_type": "markdown",
      "source": [
        "### **Q10. Generate synthetic data for simple linear regression (use random values for X and y) and fit a linear regression model to the data. Print the model's coefficient and intercept.**"
      ],
      "metadata": {
        "id": "yLGYO-sJpf7d"
      }
    },
    {
      "cell_type": "code",
      "source": [
        "# Import necessary libraries\n",
        "import numpy as np\n",
        "from sklearn.linear_model import LinearRegression\n",
        "\n",
        "# Generate synthetic data\n",
        "np.random.seed(0)\n",
        "X = np.random.rand(100, 1)  # Random X values\n",
        "y = 3 + 2 * X + np.random.randn(100, 1)  # y = 3 + 2X + ε\n",
        "\n",
        "# Fit linear regression model\n",
        "model = LinearRegression()\n",
        "model.fit(X, y)\n",
        "\n",
        "# Print model coefficients\n",
        "print(\"Coefficient:\", model.coef_)\n",
        "print(\"Intercept:\", model.intercept_)\n",
        "\n",
        "# Print model summary\n",
        "print(\"Model Equation: y = {:.2f} + {:.2f}X\".format(model.intercept_[0], model.coef_[0][0]))"
      ],
      "metadata": {
        "colab": {
          "base_uri": "https://localhost:8080/"
        },
        "id": "jF8T1hzJpgGI",
        "outputId": "922cf88a-2812-4e2f-8bae-eb7eca9040c7"
      },
      "execution_count": null,
      "outputs": [
        {
          "output_type": "stream",
          "name": "stdout",
          "text": [
            "Coefficient: [[1.93693502]]\n",
            "Intercept: [3.22215108]\n",
            "Model Equation: y = 3.22 + 1.94X\n"
          ]
        }
      ]
    },
    {
      "cell_type": "markdown",
      "source": [
        "### **Q11. Write a Python script that fits a polynomial regression model (degree 3) to a synthetic non-linear dataset and plots the curve.**"
      ],
      "metadata": {
        "id": "UuXvXRYcpgQN"
      }
    },
    {
      "cell_type": "code",
      "source": [
        "# Import necessary libraries\n",
        "import numpy as np\n",
        "import matplotlib.pyplot as plt\n",
        "from sklearn.preprocessing import PolynomialFeatures\n",
        "from sklearn.linear_model import LinearRegression\n",
        "from sklearn.pipeline import make_pipeline\n",
        "\n",
        "# Generate synthetic non-linear dataset\n",
        "np.random.seed(0)\n",
        "X = np.random.rand(100, 1)  # Random X values\n",
        "y = 3 + 2 * X**2 - X**3 + np.random.randn(100, 1)  # y = 3 + 2X^2 - X^3 + ε\n",
        "\n",
        "# Create polynomial regression model (degree 3)\n",
        "model = make_pipeline(PolynomialFeatures(degree=3), LinearRegression())\n",
        "\n",
        "# Fit model to data\n",
        "model.fit(X, y)\n",
        "\n",
        "# Predict values for plotting\n",
        "X_plot = np.linspace(0, 1, 1000).reshape(-1, 1)\n",
        "y_plot = model.predict(X_plot)\n",
        "\n",
        "# Plot data points and regression curve\n",
        "plt.scatter(X, y, label='Data points')\n",
        "plt.plot(X_plot, y_plot, label='Regression curve', color='red')\n",
        "plt.xlabel('Feature')\n",
        "plt.ylabel('Target')\n",
        "plt.title('Polynomial Regression (Degree 3)')\n",
        "plt.legend()\n",
        "plt.show()\n",
        "\n",
        "# Print coefficients\n",
        "print('Intercept:', model.named_steps['linearregression'].intercept_)\n",
        "print('Coefficients:', model.named_steps['linearregression'].coef_)"
      ],
      "metadata": {
        "colab": {
          "base_uri": "https://localhost:8080/",
          "height": 509
        },
        "id": "iN1ZhZ3qpgZW",
        "outputId": "c0af34b7-e938-41c6-dae6-3bcb60e9bdc9"
      },
      "execution_count": null,
      "outputs": [
        {
          "output_type": "display_data",
          "data": {
            "text/plain": [
              "<Figure size 640x480 with 1 Axes>"
            ],
            "image/png": "[encoded data removed]"
          },
          "metadata": {}
        },
        {
          "output_type": "stream",
          "name": "stdout",
          "text": [
            "Intercept: [2.8231149]\n",
            "Coefficients: [[ 0.          3.27279611 -3.76276629  1.61526969]]\n"
          ]
        }
      ]
    },
    {
      "cell_type": "markdown",
      "source": [
        "### **Q12. Write a Python script that fits a simple linear regression model with two features and prints the model's coefficients, intercept, and R-squared score.**"
      ],
      "metadata": {
        "id": "2A-9XWNgpghf"
      }
    },
    {
      "cell_type": "code",
      "source": [
        "# Import necessary libraries\n",
        "import numpy as np\n",
        "from sklearn.linear_model import LinearRegression\n",
        "from sklearn.metrics import r2_score\n",
        "\n",
        "# Generate synthetic dataset\n",
        "np.random.seed(0)\n",
        "X1 = np.random.rand(100)  # Random feature 1\n",
        "X2 = np.random.rand(100)  # Random feature 2\n",
        "y = 3 + 2 * X1 + 4 * X2 + np.random.randn(100)  # y = 3 + 2X1 + 4X2 + ε\n",
        "\n",
        "# Create and fit linear regression model\n",
        "X = np.column_stack((X1, X2))  # Combine features\n",
        "model = LinearRegression()\n",
        "model.fit(X, y)\n",
        "\n",
        "# Print model coefficients\n",
        "print(\"Coefficients:\", model.coef_)\n",
        "print(\"Intercept:\", model.intercept_)\n",
        "\n",
        "# Predict values for R-squared calculation\n",
        "y_pred = model.predict(X)\n",
        "\n",
        "# Calculate and print R-squared score\n",
        "r2 = r2_score(y, y_pred)\n",
        "print(\"R-squared score:\", r2)\n",
        "\n",
        "# Print model equation\n",
        "print(\"Model Equation: y = {:.2f} + {:.2f}X1 + {:.2f}X2\".format(model.intercept_, model.coef_[0], model.coef_[1]))\n"
      ],
      "metadata": {
        "colab": {
          "base_uri": "https://localhost:8080/"
        },
        "id": "7N8nmUpzpgrY",
        "outputId": "9134c7d7-7df5-4a19-dc80-e5a9ddcffb54"
      },
      "execution_count": null,
      "outputs": [
        {
          "output_type": "stream",
          "name": "stdout",
          "text": [
            "Coefficients: [1.44835445 3.74115323]\n",
            "Intercept: 3.3073053067971516\n",
            "R-squared score: 0.5884074831061643\n",
            "Model Equation: y = 3.31 + 1.45X1 + 3.74X2\n"
          ]
        }
      ]
    },
    {
      "cell_type": "markdown",
      "source": [
        "### **Q13. Write a Python script that generates synthetic data, fits a linear regression model, and visualizes the regression line along with the data points.**"
      ],
      "metadata": {
        "id": "nxixh2nFrYE0"
      }
    },
    {
      "cell_type": "code",
      "source": [
        "# Import necessary libraries\n",
        "import numpy as np\n",
        "import matplotlib.pyplot as plt\n",
        "from sklearn.linear_model import LinearRegression\n",
        "\n",
        "# Step 1: Generate synthetic data\n",
        "# Let's create a simple linear relationship: y = 3x + noise\n",
        "np.random.seed(42)  # For reproducibility\n",
        "\n",
        "# Generate 100 random data points for X\n",
        "X = 2 * np.random.rand(100, 1)  # Random values between 0 and 2\n",
        "y = 3 * X + np.random.randn(100, 1)  # Linear relation with noise\n",
        "\n",
        "# Step 2: Initialize and train the Linear Regression model\n",
        "model = LinearRegression()\n",
        "model.fit(X, y)\n",
        "\n",
        "# Step 3: Get the slope (coefficient) and intercept from the trained model\n",
        "slope = model.coef_[0][0]\n",
        "intercept = model.intercept_[0]\n",
        "print(f\"Linear Regression Model: y = {slope:.2f}x + {intercept:.2f}\")\n",
        "\n",
        "# Step 4: Predict the values based on the trained model\n",
        "y_pred = model.predict(X)\n",
        "\n",
        "# Step 5: Visualize the data points and the regression line\n",
        "plt.figure(figsize=(10, 6))\n",
        "\n",
        "# Scatter plot of the data points\n",
        "plt.scatter(X, y, color='blue', label='Data Points', alpha=0.6)\n",
        "\n",
        "# Plot the regression line\n",
        "plt.plot(X, y_pred, color='red', label=f'Regression Line: y = {slope:.2f}x + {intercept:.2f}')\n",
        "\n",
        "# Adding labels and title\n",
        "plt.title('Linear Regression: Fitting the Data')\n",
        "plt.xlabel('X')\n",
        "plt.ylabel('y')\n",
        "\n",
        "# Show legend\n",
        "plt.legend()\n",
        "\n",
        "# Show the plot\n",
        "plt.grid(True)\n",
        "plt.show()\n"
      ],
      "metadata": {
        "colab": {
          "base_uri": "https://localhost:8080/",
          "height": 581
        },
        "id": "2G-7djqPrYNG",
        "outputId": "3fa1d09a-9508-4735-a752-059ee9e458f2"
      },
      "execution_count": 4,
      "outputs": [
        {
          "output_type": "stream",
          "name": "stdout",
          "text": [
            "Linear Regression Model: y = 2.77x + 0.22\n"
          ]
        },
        {
          "output_type": "display_data",
          "data": {
            "text/plain": [
              "<Figure size 1000x600 with 1 Axes>"
            ],
            "image/png": "[encoded data removed]"
          },
          "metadata": {}
        }
      ]
    },
    {
      "cell_type": "markdown",
      "source": [
        "### **Q14. Write a Python script that uses the Variance Inflation Factor (VIF) to check for multicollinearity in a dataset with multiple features.**"
      ],
      "metadata": {
        "id": "stbPnG3qrYdI"
      }
    },
    {
      "cell_type": "code",
      "source": [
        "import pandas as pd\n",
        "from statsmodels.stats.outliers_influence import variance_inflation_factor\n",
        "\n",
        "def calculate_vif(X):\n",
        "    \"\"\"Calculates the Variance Inflation Factor (VIF) for each feature in a dataset.\n",
        "\n",
        "    Args:\n",
        "        X: A pandas DataFrame containing the features.\n",
        "\n",
        "    Returns:\n",
        "        A pandas DataFrame with the VIF for each feature.\n",
        "    \"\"\"\n",
        "    vif_data = pd.DataFrame()\n",
        "    vif_data[\"feature\"] = X.columns\n",
        "    vif_data[\"VIF\"] = [variance_inflation_factor(X.values, i) for i in range(len(X.columns))]\n",
        "    return vif_data\n",
        "\n",
        "\n",
        "# Example usage (using the provided DataFrame 'df'):\n",
        "# Create a DataFrame with 'x1' and 'x2' columns from the existing arrays\n",
        "new_df = pd.DataFrame({'x1': x1, 'x2': x2})\n",
        "vif_values = calculate_vif(new_df[['x1', 'x2']]) # Calculate VIF for the new DataFrame\n",
        "vif_values"
      ],
      "metadata": {
        "colab": {
          "base_uri": "https://localhost:8080/",
          "height": 125
        },
        "id": "SU8TRr87rYoK",
        "outputId": "5ee2f7cd-29b9-4a3f-f1b1-9d101df2ab31"
      },
      "execution_count": null,
      "outputs": [
        {
          "output_type": "execute_result",
          "data": {
            "text/plain": [
              "  feature       VIF\n",
              "0      x1  1.013607\n",
              "1      x2  1.013607"
            ],
            "text/html": [
              "\n",
              "  <div id=\"df-e3aafaa1-6e44-48e3-8e65-3a71222882a9\" class=\"colab-df-container\">\n",
              "    <div>\n",
              "<style scoped>\n",
              "    .dataframe tbody tr th:only-of-type {\n",
              "        vertical-align: middle;\n",
              "    }\n",
              "\n",
              "    .dataframe tbody tr th {\n",
              "        vertical-align: top;\n",
              "    }\n",
              "\n",
              "    .dataframe thead th {\n",
              "        text-align: right;\n",
              "    }\n",
              "</style>\n",
              "<table border=\"1\" class=\"dataframe\">\n",
              "  <thead>\n",
              "    <tr style=\"text-align: right;\">\n",
              "      <th></th>\n",
              "      <th>feature</th>\n",
              "      <th>VIF</th>\n",
              "    </tr>\n",
              "  </thead>\n",
              "  <tbody>\n",
              "    <tr>\n",
              "      <th>0</th>\n",
              "      <td>x1</td>\n",
              "      <td>1.013607</td>\n",
              "    </tr>\n",
              "    <tr>\n",
              "      <th>1</th>\n",
              "      <td>x2</td>\n",
              "      <td>1.013607</td>\n",
              "    </tr>\n",
              "  </tbody>\n",
              "</table>\n",
              "</div>\n",
              "    <div class=\"colab-df-buttons\">\n",
              "\n",
              "  <div class=\"colab-df-container\">\n",
              "    <button class=\"colab-df-convert\" onclick=\"convertToInteractive('df-e3aafaa1-6e44-48e3-8e65-3a71222882a9')\"\n",
              "            title=\"Convert this dataframe to an interactive table.\"\n",
              "            style=\"display:none;\">\n",
              "\n",
              "  <svg xmlns=\"http://www.w3.org/2000/svg\" height=\"24px\" viewBox=\"0 -960 960 960\">\n",
              "    <path d=\"M120-120v-720h720v720H120Zm60-500h600v-160H180v160Zm220 220h160v-160H400v160Zm0 220h160v-160H400v160ZM180-400h160v-160H180v160Zm440 0h160v-160H620v160ZM180-180h160v-160H180v160Zm440 0h160v-160H620v160Z\"/>\n",
              "  </svg>\n",
              "    </button>\n",
              "\n",
              "  <style>\n",
              "    .colab-df-container {\n",
              "      display:flex;\n",
              "      gap: 12px;\n",
              "    }\n",
              "\n",
              "    .colab-df-convert {\n",
              "      background-color: #E8F0FE;\n",
              "      border: none;\n",
              "      border-radius: 50%;\n",
              "      cursor: pointer;\n",
              "      display: none;\n",
              "      fill: #1967D2;\n",
              "      height: 32px;\n",
              "      padding: 0 0 0 0;\n",
              "      width: 32px;\n",
              "    }\n",
              "\n",
              "    .colab-df-convert:hover {\n",
              "      background-color: #E2EBFA;\n",
              "      box-shadow: 0px 1px 2px rgba(60, 64, 67, 0.3), 0px 1px 3px 1px rgba(60, 64, 67, 0.15);\n",
              "      fill: #174EA6;\n",
              "    }\n",
              "\n",
              "    .colab-df-buttons div {\n",
              "      margin-bottom: 4px;\n",
              "    }\n",
              "\n",
              "    [theme=dark] .colab-df-convert {\n",
              "      background-color: #3B4455;\n",
              "      fill: #D2E3FC;\n",
              "    }\n",
              "\n",
              "    [theme=dark] .colab-df-convert:hover {\n",
              "      background-color: #434B5C;\n",
              "      box-shadow: 0px 1px 3px 1px rgba(0, 0, 0, 0.15);\n",
              "      filter: drop-shadow(0px 1px 2px rgba(0, 0, 0, 0.3));\n",
              "      fill: #FFFFFF;\n",
              "    }\n",
              "  </style>\n",
              "\n",
              "    <script>\n",
              "      const buttonEl =\n",
              "        document.querySelector('#df-e3aafaa1-6e44-48e3-8e65-3a71222882a9 button.colab-df-convert');\n",
              "      buttonEl.style.display =\n",
              "        google.colab.kernel.accessAllowed ? 'block' : 'none';\n",
              "\n",
              "      async function convertToInteractive(key) {\n",
              "        const element = document.querySelector('#df-e3aafaa1-6e44-48e3-8e65-3a71222882a9');\n",
              "        const dataTable =\n",
              "          await google.colab.kernel.invokeFunction('convertToInteractive',\n",
              "                                                    [key], {});\n",
              "        if (!dataTable) return;\n",
              "\n",
              "        const docLinkHtml = 'Like what you see? Visit the ' +\n",
              "          '<a target=\"_blank\" href=https://colab.research.google.com/notebooks/data_table.ipynb>data table notebook</a>'\n",
              "          + ' to learn more about interactive tables.';\n",
              "        element.innerHTML = '';\n",
              "        dataTable['output_type'] = 'display_data';\n",
              "        await google.colab.output.renderOutput(dataTable, element);\n",
              "        const docLink = document.createElement('div');\n",
              "        docLink.innerHTML = docLinkHtml;\n",
              "        element.appendChild(docLink);\n",
              "      }\n",
              "    </script>\n",
              "  </div>\n",
              "\n",
              "\n",
              "<div id=\"df-66b34b3a-b9d3-4626-a146-2595d0cabbf0\">\n",
              "  <button class=\"colab-df-quickchart\" onclick=\"quickchart('df-66b34b3a-b9d3-4626-a146-2595d0cabbf0')\"\n",
              "            title=\"Suggest charts\"\n",
              "            style=\"display:none;\">\n",
              "\n",
              "<svg xmlns=\"http://www.w3.org/2000/svg\" height=\"24px\"viewBox=\"0 0 24 24\"\n",
              "     width=\"24px\">\n",
              "    <g>\n",
              "        <path d=\"M19 3H5c-1.1 0-2 .9-2 2v14c0 1.1.9 2 2 2h14c1.1 0 2-.9 2-2V5c0-1.1-.9-2-2-2zM9 17H7v-7h2v7zm4 0h-2V7h2v10zm4 0h-2v-4h2v4z\"/>\n",
              "    </g>\n",
              "</svg>\n",
              "  </button>\n",
              "\n",
              "<style>\n",
              "  .colab-df-quickchart {\n",
              "      --bg-color: #E8F0FE;\n",
              "      --fill-color: #1967D2;\n",
              "      --hover-bg-color: #E2EBFA;\n",
              "      --hover-fill-color: #174EA6;\n",
              "      --disabled-fill-color: #AAA;\n",
              "      --disabled-bg-color: #DDD;\n",
              "  }\n",
              "\n",
              "  [theme=dark] .colab-df-quickchart {\n",
              "      --bg-color: #3B4455;\n",
              "      --fill-color: #D2E3FC;\n",
              "      --hover-bg-color: #434B5C;\n",
              "      --hover-fill-color: #FFFFFF;\n",
              "      --disabled-bg-color: #3B4455;\n",
              "      --disabled-fill-color: #666;\n",
              "  }\n",
              "\n",
              "  .colab-df-quickchart {\n",
              "    background-color: var(--bg-color);\n",
              "    border: none;\n",
              "    border-radius: 50%;\n",
              "    cursor: pointer;\n",
              "    display: none;\n",
              "    fill: var(--fill-color);\n",
              "    height: 32px;\n",
              "    padding: 0;\n",
              "    width: 32px;\n",
              "  }\n",
              "\n",
              "  .colab-df-quickchart:hover {\n",
              "    background-color: var(--hover-bg-color);\n",
              "    box-shadow: 0 1px 2px rgba(60, 64, 67, 0.3), 0 1px 3px 1px rgba(60, 64, 67, 0.15);\n",
              "    fill: var(--button-hover-fill-color);\n",
              "  }\n",
              "\n",
              "  .colab-df-quickchart-complete:disabled,\n",
              "  .colab-df-quickchart-complete:disabled:hover {\n",
              "    background-color: var(--disabled-bg-color);\n",
              "    fill: var(--disabled-fill-color);\n",
              "    box-shadow: none;\n",
              "  }\n",
              "\n",
              "  .colab-df-spinner {\n",
              "    border: 2px solid var(--fill-color);\n",
              "    border-color: transparent;\n",
              "    border-bottom-color: var(--fill-color);\n",
              "    animation:\n",
              "      spin 1s steps(1) infinite;\n",
              "  }\n",
              "\n",
              "  @keyframes spin {\n",
              "    0% {\n",
              "      border-color: transparent;\n",
              "      border-bottom-color: var(--fill-color);\n",
              "      border-left-color: var(--fill-color);\n",
              "    }\n",
              "    20% {\n",
              "      border-color: transparent;\n",
              "      border-left-color: var(--fill-color);\n",
              "      border-top-color: var(--fill-color);\n",
              "    }\n",
              "    30% {\n",
              "      border-color: transparent;\n",
              "      border-left-color: var(--fill-color);\n",
              "      border-top-color: var(--fill-color);\n",
              "      border-right-color: var(--fill-color);\n",
              "    }\n",
              "    40% {\n",
              "      border-color: transparent;\n",
              "      border-right-color: var(--fill-color);\n",
              "      border-top-color: var(--fill-color);\n",
              "    }\n",
              "    60% {\n",
              "      border-color: transparent;\n",
              "      border-right-color: var(--fill-color);\n",
              "    }\n",
              "    80% {\n",
              "      border-color: transparent;\n",
              "      border-right-color: var(--fill-color);\n",
              "      border-bottom-color: var(--fill-color);\n",
              "    }\n",
              "    90% {\n",
              "      border-color: transparent;\n",
              "      border-bottom-color: var(--fill-color);\n",
              "    }\n",
              "  }\n",
              "</style>\n",
              "\n",
              "  <script>\n",
              "    async function quickchart(key) {\n",
              "      const quickchartButtonEl =\n",
              "        document.querySelector('#' + key + ' button');\n",
              "      quickchartButtonEl.disabled = true;  // To prevent multiple clicks.\n",
              "      quickchartButtonEl.classList.add('colab-df-spinner');\n",
              "      try {\n",
              "        const charts = await google.colab.kernel.invokeFunction(\n",
              "            'suggestCharts', [key], {});\n",
              "      } catch (error) {\n",
              "        console.error('Error during call to suggestCharts:', error);\n",
              "      }\n",
              "      quickchartButtonEl.classList.remove('colab-df-spinner');\n",
              "      quickchartButtonEl.classList.add('colab-df-quickchart-complete');\n",
              "    }\n",
              "    (() => {\n",
              "      let quickchartButtonEl =\n",
              "        document.querySelector('#df-66b34b3a-b9d3-4626-a146-2595d0cabbf0 button');\n",
              "      quickchartButtonEl.style.display =\n",
              "        google.colab.kernel.accessAllowed ? 'block' : 'none';\n",
              "    })();\n",
              "  </script>\n",
              "</div>\n",
              "\n",
              "  <div id=\"id_41e33aba-f21b-4701-9304-fb9fa3f2bf13\">\n",
              "    <style>\n",
              "      .colab-df-generate {\n",
              "        background-color: #E8F0FE;\n",
              "        border: none;\n",
              "        border-radius: 50%;\n",
              "        cursor: pointer;\n",
              "        display: none;\n",
              "        fill: #1967D2;\n",
              "        height: 32px;\n",
              "        padding: 0 0 0 0;\n",
              "        width: 32px;\n",
              "      }\n",
              "\n",
              "      .colab-df-generate:hover {\n",
              "        background-color: #E2EBFA;\n",
              "        box-shadow: 0px 1px 2px rgba(60, 64, 67, 0.3), 0px 1px 3px 1px rgba(60, 64, 67, 0.15);\n",
              "        fill: #174EA6;\n",
              "      }\n",
              "\n",
              "      [theme=dark] .colab-df-generate {\n",
              "        background-color: #3B4455;\n",
              "        fill: #D2E3FC;\n",
              "      }\n",
              "\n",
              "      [theme=dark] .colab-df-generate:hover {\n",
              "        background-color: #434B5C;\n",
              "        box-shadow: 0px 1px 3px 1px rgba(0, 0, 0, 0.15);\n",
              "        filter: drop-shadow(0px 1px 2px rgba(0, 0, 0, 0.3));\n",
              "        fill: #FFFFFF;\n",
              "      }\n",
              "    </style>\n",
              "    <button class=\"colab-df-generate\" onclick=\"generateWithVariable('vif_values')\"\n",
              "            title=\"Generate code using this dataframe.\"\n",
              "            style=\"display:none;\">\n",
              "\n",
              "  <svg xmlns=\"http://www.w3.org/2000/svg\" height=\"24px\"viewBox=\"0 0 24 24\"\n",
              "       width=\"24px\">\n",
              "    <path d=\"M7,19H8.4L18.45,9,17,7.55,7,17.6ZM5,21V16.75L18.45,3.32a2,2,0,0,1,2.83,0l1.4,1.43a1.91,1.91,0,0,1,.58,1.4,1.91,1.91,0,0,1-.58,1.4L9.25,21ZM18.45,9,17,7.55Zm-12,3A5.31,5.31,0,0,0,4.9,8.1,5.31,5.31,0,0,0,1,6.5,5.31,5.31,0,0,0,4.9,4.9,5.31,5.31,0,0,0,6.5,1,5.31,5.31,0,0,0,8.1,4.9,5.31,5.31,0,0,0,12,6.5,5.46,5.46,0,0,0,6.5,12Z\"/>\n",
              "  </svg>\n",
              "    </button>\n",
              "    <script>\n",
              "      (() => {\n",
              "      const buttonEl =\n",
              "        document.querySelector('#id_41e33aba-f21b-4701-9304-fb9fa3f2bf13 button.colab-df-generate');\n",
              "      buttonEl.style.display =\n",
              "        google.colab.kernel.accessAllowed ? 'block' : 'none';\n",
              "\n",
              "      buttonEl.onclick = () => {\n",
              "        google.colab.notebook.generateWithVariable('vif_values');\n",
              "      }\n",
              "      })();\n",
              "    </script>\n",
              "  </div>\n",
              "\n",
              "    </div>\n",
              "  </div>\n"
            ],
            "application/vnd.google.colaboratory.intrinsic+json": {
              "type": "dataframe",
              "variable_name": "vif_values",
              "summary": "{\n  \"name\": \"vif_values\",\n  \"rows\": 2,\n  \"fields\": [\n    {\n      \"column\": \"feature\",\n      \"properties\": {\n        \"dtype\": \"string\",\n        \"num_unique_values\": 2,\n        \"samples\": [\n          \"x2\",\n          \"x1\"\n        ],\n        \"semantic_type\": \"\",\n        \"description\": \"\"\n      }\n    },\n    {\n      \"column\": \"VIF\",\n      \"properties\": {\n        \"dtype\": \"number\",\n        \"std\": 0.0,\n        \"min\": 1.0136073584567216,\n        \"max\": 1.0136073584567216,\n        \"num_unique_values\": 1,\n        \"samples\": [\n          1.0136073584567216\n        ],\n        \"semantic_type\": \"\",\n        \"description\": \"\"\n      }\n    }\n  ]\n}"
            }
          },
          "metadata": {},
          "execution_count": 57
        }
      ]
    },
    {
      "cell_type": "markdown",
      "source": [
        "### **Q15. Write a Python script that generates synthetic data for a polynomial relationship (degree 4), fits a polynomial regression model, and plots the regression curve.**"
      ],
      "metadata": {
        "id": "EIKgRy4orYxf"
      }
    },
    {
      "cell_type": "code",
      "source": [
        "# Import necessary libraries\n",
        "import numpy as np\n",
        "import matplotlib.pyplot as plt\n",
        "from sklearn.preprocessing import PolynomialFeatures\n",
        "from sklearn.linear_model import LinearRegression\n",
        "from sklearn.pipeline import make_pipeline\n",
        "\n",
        "# Generate synthetic data for polynomial relationship (degree 4)\n",
        "np.random.seed(0)\n",
        "X = np.random.rand(100, 1)  # Random feature\n",
        "y = 3 + 2 * X + 4 * X**2 - 5 * X**3 + 6 * X**4 + np.random.randn(100, 1)  # y = 3 + 2X + 4X^2 - 5X^3 + 6X^4 + ε\n",
        "\n",
        "# Create polynomial regression model (degree 4)\n",
        "model = make_pipeline(PolynomialFeatures(degree=4), LinearRegression())\n",
        "\n",
        "# Fit model to data\n",
        "model.fit(X, y)\n",
        "\n",
        "# Predict values for plotting\n",
        "X_plot = np.linspace(0, 1, 1000).reshape(-1, 1)\n",
        "y_plot = model.predict(X_plot)\n",
        "\n",
        "# Plot data points and regression curve\n",
        "plt.scatter(X, y, label='Data points')\n",
        "plt.plot(X_plot, y_plot, label='Regression curve', color='red')\n",
        "plt.xlabel('Feature')\n",
        "plt.ylabel('Target')\n",
        "plt.title('Polynomial Regression (Degree 4)')\n",
        "plt.legend()\n",
        "plt.show()\n",
        "\n",
        "# Print coefficients\n",
        "print('Intercept:', model.named_steps['linearregression'].intercept_)\n",
        "print('Coefficients:', model.named_steps['linearregression'].coef_)\n",
        "\n",
        "# Print model equation\n",
        "coeffs = model.named_steps['linearregression'].coef_[0].tolist() + [model.named_steps['linearregression'].intercept_[0]]\n",
        "print(\"Model Equation: y = {:.2f} + {:.2f}X + {:.2f}X^2 + {:.2f}X^3 + {:.2f}X^4\".format(coeffs[1], coeffs[2], coeffs[3], coeffs[4], coeffs[5]))"
      ],
      "metadata": {
        "colab": {
          "base_uri": "https://localhost:8080/",
          "height": 527
        },
        "id": "42Gly8_drY74",
        "outputId": "13344037-8b5a-44d8-b711-28aba583115a"
      },
      "execution_count": null,
      "outputs": [
        {
          "output_type": "display_data",
          "data": {
            "text/plain": [
              "<Figure size 640x480 with 1 Axes>"
            ],
            "image/png": "[encoded data removed]"
          },
          "metadata": {}
        },
        {
          "output_type": "stream",
          "name": "stdout",
          "text": [
            "Intercept: [2.88354598]\n",
            "Coefficients: [[  0.           4.08235371   3.63415939 -10.85740966  10.26268063]]\n",
            "Model Equation: y = 4.08 + 3.63X + -10.86X^2 + 10.26X^3 + 2.88X^4\n"
          ]
        }
      ]
    },
    {
      "cell_type": "markdown",
      "source": [
        "### **Q16. Write a Python script that creates a machine learning pipeline with data standardization and a multiple linear regression model, and prints the R-squared score.**"
      ],
      "metadata": {
        "id": "F7hjHvuarZKK"
      }
    },
    {
      "cell_type": "code",
      "source": [
        "# Import necessary libraries\n",
        "import numpy as np\n",
        "from sklearn.pipeline import Pipeline\n",
        "from sklearn.preprocessing import StandardScaler\n",
        "from sklearn.linear_model import LinearRegression\n",
        "#from sklearn.datasets import load_boston # Removed the problematic import\n",
        "from sklearn.model_selection import train_test_split\n",
        "from sklearn.metrics import r2_score\n",
        "from sklearn.datasets import fetch_california_housing # Import for California housing dataset\n",
        "\n",
        "# Load California Housing dataset instead of Boston Housing\n",
        "housing = fetch_california_housing()\n",
        "X = housing.data\n",
        "y = housing.target\n",
        "\n",
        "# Split data into training and testing sets\n",
        "X_train, X_test, y_train, y_test = train_test_split(X, y, test_size=0.2, random_state=42)\n",
        "\n",
        "# Create machine learning pipeline\n",
        "pipe = Pipeline([\n",
        "    ('std', StandardScaler()),  # Data standardization\n",
        "    ('mlr', LinearRegression())  # Multiple linear regression\n",
        "])\n",
        "\n",
        "# Fit pipeline to training data\n",
        "pipe.fit(X_train, y_train)\n",
        "\n",
        "# Make predictions on testing data\n",
        "y_pred = pipe.predict(X_test)\n",
        "\n",
        "# Calculate and print R-squared score\n",
        "r2 = r2_score(y_test, y_pred)\n",
        "print(\"R-squared score:\", r2)\n",
        "\n",
        "# Print coefficients and intercept\n",
        "print(\"Coefficients:\", pipe.named_steps['mlr'].coef_)\n",
        "print(\"Intercept:\", pipe.named_steps['mlr'].intercept_)"
      ],
      "metadata": {
        "colab": {
          "base_uri": "https://localhost:8080/"
        },
        "id": "MCUjf_OfrZU6",
        "outputId": "2aed3269-7409-455d-f9c6-23cb065e8b2e"
      },
      "execution_count": null,
      "outputs": [
        {
          "output_type": "stream",
          "name": "stdout",
          "text": [
            "R-squared score: 0.575787706032451\n",
            "Coefficients: [ 0.85438303  0.12254624 -0.29441013  0.33925949 -0.00230772 -0.0408291\n",
            " -0.89692888 -0.86984178]\n",
            "Intercept: 2.071946937378619\n"
          ]
        }
      ]
    },
    {
      "cell_type": "markdown",
      "source": [
        "### **Q17. Write a Python script that performs polynomial regression (degree 3) on a synthetic dataset and plots the regression curve.**"
      ],
      "metadata": {
        "id": "hOxCshOqraeb"
      }
    },
    {
      "cell_type": "code",
      "source": [
        "# Import necessary libraries\n",
        "import numpy as np\n",
        "import matplotlib.pyplot as plt\n",
        "from sklearn.preprocessing import PolynomialFeatures\n",
        "from sklearn.linear_model import LinearRegression\n",
        "from sklearn.pipeline import make_pipeline\n",
        "\n",
        "# Generate synthetic dataset\n",
        "np.random.seed(0)\n",
        "X = np.random.rand(100, 1)  # Random feature\n",
        "y = 3 + 2 * X + 4 * X**2 - 5 * X**3 + np.random.randn(100, 1)  # y = 3 + 2X + 4X^2 - 5X^3 + ε\n",
        "\n",
        "# Create polynomial regression model (degree 3)\n",
        "model = make_pipeline(PolynomialFeatures(degree=3), LinearRegression())\n",
        "\n",
        "# Fit model to data\n",
        "model.fit(X, y)\n",
        "\n",
        "# Predict values for plotting\n",
        "X_plot = np.linspace(0, 1, 1000).reshape(-1, 1)\n",
        "y_plot = model.predict(X_plot)\n",
        "\n",
        "# Plot data points and regression curve\n",
        "plt.scatter(X, y, label='Data points')\n",
        "plt.plot(X_plot, y_plot, label='Regression curve', color='red')\n",
        "plt.xlabel('Feature')\n",
        "plt.ylabel('Target')\n",
        "plt.title('Polynomial Regression (Degree 3)')\n",
        "plt.legend()\n",
        "plt.show()\n",
        "\n",
        "# Print coefficients and intercept\n",
        "print('Coefficients:', model.named_steps['linearregression'].coef_)\n",
        "print('Intercept:', model.named_steps['linearregression'].intercept_)\n",
        "\n",
        "# Print model equation\n",
        "coeffs = model.named_steps['linearregression'].coef_[0].tolist() + [model.named_steps['linearregression'].intercept_[0]]\n",
        "print(\"Model Equation: y = {:.2f} + {:.2f}X + {:.2f}X^2 + {:.2f}X^3\".format(coeffs[1], coeffs[2], coeffs[3], coeffs[4]))"
      ],
      "metadata": {
        "colab": {
          "base_uri": "https://localhost:8080/",
          "height": 527
        },
        "id": "WEPiBt0OraqA",
        "outputId": "cee45828-7336-4720-a310-0c26786e29a8"
      },
      "execution_count": null,
      "outputs": [
        {
          "output_type": "display_data",
          "data": {
            "text/plain": [
              "<Figure size 640x480 with 1 Axes>"
            ],
            "image/png": "[encoded data removed]"
          },
          "metadata": {}
        },
        {
          "output_type": "stream",
          "name": "stdout",
          "text": [
            "Coefficients: [[ 0.          5.27279611 -1.76276629 -2.38473031]]\n",
            "Intercept: [2.8231149]\n",
            "Model Equation: y = 5.27 + -1.76X + -2.38X^2 + 2.82X^3\n"
          ]
        }
      ]
    },
    {
      "cell_type": "markdown",
      "source": [
        "### **Q18. Write a Python script that performs multiple linear regression on a synthetic dataset with 5 features. Print the R-squared score and model coefficients.**"
      ],
      "metadata": {
        "id": "OvTRWQjVtV1P"
      }
    },
    {
      "cell_type": "code",
      "source": [
        "# Import necessary libraries\n",
        "import numpy as np\n",
        "from sklearn.linear_model import LinearRegression\n",
        "from sklearn.metrics import r2_score\n",
        "\n",
        "# Generate synthetic dataset with 5 features\n",
        "np.random.seed(0)\n",
        "X = np.random.rand(100, 5)  # Random features\n",
        "y = 3 + 2 * X[:, 0] + 4 * X[:, 1] - 5 * X[:, 2] + 6 * X[:, 3] + 7 * X[:, 4] + np.random.randn(100)  # Target variable\n",
        "\n",
        "# Create multiple linear regression model\n",
        "model = LinearRegression()\n",
        "\n",
        "# Fit model to data\n",
        "model.fit(X, y)\n",
        "\n",
        "# Make predictions\n",
        "y_pred = model.predict(X)\n",
        "\n",
        "# Calculate and print R-squared score\n",
        "r2 = r2_score(y, y_pred)\n",
        "print(\"R-squared score:\", r2)\n",
        "\n",
        "# Print model coefficients\n",
        "print(\"Coefficients:\")\n",
        "for i, coef in enumerate(model.coef_):\n",
        "    print(f\"Feature {i+1}: {coef}\")\n",
        "\n",
        "# Print intercept\n",
        "print(\"Intercept:\", model.intercept_)\n",
        "\n",
        "# Print model equation\n",
        "print(\"Model Equation: y = {:.2f} + {:.2f}X1 + {:.2f}X2 + {:.2f}X3 + {:.2f}X4 + {:.2f}X5\".format(model.intercept_, *model.coef_))"
      ],
      "metadata": {
        "colab": {
          "base_uri": "https://localhost:8080/"
        },
        "id": "uO33GbwXtWBF",
        "outputId": "2c6a002e-99cf-4582-8621-5407ceeb7ccf"
      },
      "execution_count": null,
      "outputs": [
        {
          "output_type": "stream",
          "name": "stdout",
          "text": [
            "R-squared score: 0.908962154971889\n",
            "Coefficients:\n",
            "Feature 1: 1.9943207321521481\n",
            "Feature 2: 3.7407280031396652\n",
            "Feature 3: -4.490654564313616\n",
            "Feature 4: 5.998135069617114\n",
            "Feature 5: 6.645639013405458\n",
            "Intercept: 3.0362959820570854\n",
            "Model Equation: y = 3.04 + 1.99X1 + 3.74X2 + -4.49X3 + 6.00X4 + 6.65X5\n"
          ]
        }
      ]
    },
    {
      "cell_type": "markdown",
      "source": [
        "### **Q19. Write a Python script that generates synthetic data for linear regression, fits a model, and visualizes the data points along with the regression line.**"
      ],
      "metadata": {
        "id": "WDPEK6ZDtWLo"
      }
    },
    {
      "cell_type": "code",
      "source": [
        "# Import necessary libraries\n",
        "import numpy as np\n",
        "import matplotlib.pyplot as plt\n",
        "from sklearn.linear_model import LinearRegression\n",
        "\n",
        "# Generate synthetic data for linear regression\n",
        "np.random.seed(0)\n",
        "X = np.random.rand(100, 1)  # Random feature\n",
        "y = 3 + 2 * X + np.random.randn(100, 1)  # y = 3 + 2X + ε\n",
        "\n",
        "# Create and fit linear regression model\n",
        "model = LinearRegression()\n",
        "model.fit(X, y)\n",
        "\n",
        "# Predict values for plotting\n",
        "X_plot = np.linspace(0, 1, 1000).reshape(-1, 1)\n",
        "y_plot = model.predict(X_plot)\n",
        "\n",
        "# Plot data points and regression line\n",
        "plt.scatter(X, y, label='Data points', color='blue', alpha=0.5)\n",
        "plt.plot(X_plot, y_plot, label='Regression line', color='red', linewidth=2)\n",
        "plt.xlabel('Feature')\n",
        "plt.ylabel('Target')\n",
        "plt.title('Linear Regression')\n",
        "plt.legend()\n",
        "plt.show()\n",
        "\n",
        "# Print coefficients and intercept\n",
        "print('Coefficient:', model.coef_)\n",
        "print('Intercept:', model.intercept_)\n",
        "\n",
        "# Print model equation\n",
        "print(\"Model Equation: y = {:.2f} + {:.2f}X\".format(model.intercept_[0], model.coef_[0][0]))"
      ],
      "metadata": {
        "colab": {
          "base_uri": "https://localhost:8080/",
          "height": 527
        },
        "id": "wi0V2P7HtWVy",
        "outputId": "32ba25dc-26cb-414f-feb7-a551be1d091a"
      },
      "execution_count": null,
      "outputs": [
        {
          "output_type": "display_data",
          "data": {
            "text/plain": [
              "<Figure size 640x480 with 1 Axes>"
            ],
            "image/png": "[encoded data removed]"
          },
          "metadata": {}
        },
        {
          "output_type": "stream",
          "name": "stdout",
          "text": [
            "Coefficient: [[1.93693502]]\n",
            "Intercept: [3.22215108]\n",
            "Model Equation: y = 3.22 + 1.94X\n"
          ]
        }
      ]
    },
    {
      "cell_type": "markdown",
      "source": [
        "### **Q20. Create a synthetic dataset with 3 features and perform multiple linear regression. Print the model's R-squared score and coefficients.**"
      ],
      "metadata": {
        "id": "reCkfE49tWkY"
      }
    },
    {
      "cell_type": "code",
      "source": [
        "# Import necessary libraries\n",
        "import numpy as np\n",
        "from sklearn.linear_model import LinearRegression\n",
        "from sklearn.metrics import r2_score\n",
        "\n",
        "# Create synthetic dataset with 3 features\n",
        "np.random.seed(0)\n",
        "X = np.random.rand(100, 3)  # Random features\n",
        "y = 3 + 2 * X[:, 0] + 4 * X[:, 1] - 5 * X[:, 2] + np.random.randn(100)  # Target variable\n",
        "\n",
        "# Create and fit multiple linear regression model\n",
        "model = LinearRegression()\n",
        "model.fit(X, y)\n",
        "\n",
        "# Make predictions\n",
        "y_pred = model.predict(X)\n",
        "\n",
        "# Calculate and print R-squared score\n",
        "r2 = r2_score(y, y_pred)\n",
        "print(\"R-squared score:\", r2)\n",
        "\n",
        "# Print coefficients\n",
        "print(\"Coefficients:\")\n",
        "for i, coef in enumerate(model.coef_):\n",
        "    print(f\"Feature {i+1}: {coef}\")\n",
        "\n",
        "# Print intercept\n",
        "print(\"Intercept:\", model.intercept_)\n",
        "\n",
        "# Print model equation\n",
        "print(\"Model Equation: y = {:.2f} + {:.2f}X1 + {:.2f}X2 + {:.2f}X3\".format(model.intercept_, *model.coef_))"
      ],
      "metadata": {
        "colab": {
          "base_uri": "https://localhost:8080/"
        },
        "id": "niN5rpfetWv9",
        "outputId": "50fb16f3-ed38-4420-b0b7-6d23fc0a115f"
      },
      "execution_count": null,
      "outputs": [
        {
          "output_type": "stream",
          "name": "stdout",
          "text": [
            "R-squared score: 0.799116523612738\n",
            "Coefficients:\n",
            "Feature 1: 1.591324773900694\n",
            "Feature 2: 3.9799566326961555\n",
            "Feature 3: -4.7467690143819645\n",
            "Intercept: 2.9502139024683545\n",
            "Model Equation: y = 2.95 + 1.59X1 + 3.98X2 + -4.75X3\n"
          ]
        }
      ]
    },
    {
      "cell_type": "markdown",
      "source": [
        "### **Q21.  Write a Python script that demonstrates how to serialize and deserialize machine learning models using joblib instead of pickling.**"
      ],
      "metadata": {
        "id": "W5ml3NWouK72"
      }
    },
    {
      "cell_type": "code",
      "source": [
        "# Import necessary libraries\n",
        "import joblib\n",
        "import numpy as np\n",
        "from sklearn.linear_model import LinearRegression\n",
        "from sklearn.model_selection import train_test_split\n",
        "from sklearn.datasets import make_regression\n",
        "\n",
        "# Step 1: Generate synthetic data\n",
        "X, y = make_regression(n_samples=100, n_features=1, noise=10, random_state=42)\n",
        "\n",
        "# Step 2: Split the dataset into training and testing sets\n",
        "X_train, X_test, y_train, y_test = train_test_split(X, y, test_size=0.2, random_state=42)\n",
        "\n",
        "# Step 3: Train a Linear Regression model\n",
        "model = LinearRegression()\n",
        "model.fit(X_train, y_train)\n",
        "\n",
        "# Step 4: Save the trained model to a file using joblib\n",
        "model_filename = 'linear_regression_model.joblib'\n",
        "joblib.dump(model, model_filename)\n",
        "print(f\"Model saved to {model_filename}\")\n",
        "\n",
        "# Step 5: Load the model from the file\n",
        "loaded_model = joblib.load(model_filename)\n",
        "print(f\"Model loaded from {model_filename}\")\n",
        "\n",
        "# Step 6: Use the loaded model to make predictions\n",
        "y_pred = loaded_model.predict(X_test)\n",
        "\n",
        "# Step 7: Evaluate the model\n",
        "from sklearn.metrics import mean_squared_error, r2_score\n",
        "mse = mean_squared_error(y_test, y_pred)\n",
        "r2 = r2_score(y_test, y_pred)\n",
        "\n",
        "print(f\"Mean Squared Error: {mse:.4f}\")\n",
        "print(f\"R-squared: {r2:.4f}\")\n"
      ],
      "metadata": {
        "colab": {
          "base_uri": "https://localhost:8080/"
        },
        "id": "Sce0iQtxuLNN",
        "outputId": "d7b79cb9-d2a6-48d3-de3b-6f3c8ba35441"
      },
      "execution_count": 5,
      "outputs": [
        {
          "output_type": "stream",
          "name": "stdout",
          "text": [
            "Model saved to linear_regression_model.joblib\n",
            "Model loaded from linear_regression_model.joblib\n",
            "Mean Squared Error: 104.2022\n",
            "R-squared: 0.9374\n"
          ]
        }
      ]
    },
    {
      "cell_type": "markdown",
      "source": [
        "### **Q22. Write a Python script to perform linear regression with categorical features using one-hot encoding. Use the Seaborn 'tips' dataset.**"
      ],
      "metadata": {
        "id": "qPaN3j1CuLc1"
      }
    },
    {
      "cell_type": "code",
      "source": [
        "# Import necessary libraries\n",
        "import pandas as pd\n",
        "import numpy as np\n",
        "import seaborn as sns\n",
        "from sklearn.preprocessing import OneHotEncoder\n",
        "from sklearn.linear_model import LinearRegression\n",
        "from sklearn.model_selection import train_test_split\n",
        "from sklearn.metrics import r2_score\n",
        "\n",
        "# Load Seaborn 'tips' dataset\n",
        "tips = sns.load_dataset('tips')\n",
        "print(tips.head())\n",
        "\n",
        "# Preprocess data\n",
        "X = tips[['total_bill', 'sex', 'smoker', 'day', 'time', 'size']]\n",
        "y = tips['tip']\n",
        "\n",
        "# One-hot encode categorical features\n",
        "encoder = OneHotEncoder(sparse_output=False)\n",
        "encoded_sex = encoder.fit_transform(tips[['sex']])\n",
        "encoded_smoker = encoder.fit_transform(tips[['smoker']])\n",
        "encoded_day = encoder.fit_transform(tips[['day']])\n",
        "encoded_time = encoder.fit_transform(tips[['time']])\n",
        "\n",
        "# Create new features\n",
        "X = pd.DataFrame(np.concatenate((X[['total_bill', 'size']], encoded_sex, encoded_smoker, encoded_day, encoded_time), axis=1))\n",
        "\n",
        "# Split data into training and testing sets\n",
        "X_train, X_test, y_train, y_test = train_test_split(X, y, test_size=0.2, random_state=42)\n",
        "\n",
        "# Create and train linear regression model\n",
        "model = LinearRegression()\n",
        "model.fit(X_train, y_train)\n",
        "\n",
        "# Make predictions\n",
        "y_pred = model.predict(X_test)\n",
        "\n",
        "# Print R-squared score\n",
        "print(\"R-squared score:\", r2_score(y_test, y_pred))\n",
        "\n",
        "# Print coefficients\n",
        "print(\"Coefficients:\")\n",
        "print(model.coef_)\n",
        "\n",
        "# Print intercept\n",
        "print(\"Intercept:\", model.intercept_)"
      ],
      "metadata": {
        "colab": {
          "base_uri": "https://localhost:8080/"
        },
        "id": "uS9FAbYmuLpO",
        "outputId": "fd45fde2-825b-4cb1-a11c-a518f2ad2fde"
      },
      "execution_count": null,
      "outputs": [
        {
          "output_type": "stream",
          "name": "stdout",
          "text": [
            "   total_bill   tip     sex smoker  day    time  size\n",
            "0       16.99  1.01  Female     No  Sun  Dinner     2\n",
            "1       10.34  1.66    Male     No  Sun  Dinner     3\n",
            "2       21.01  3.50    Male     No  Sun  Dinner     3\n",
            "3       23.68  3.31    Male     No  Sun  Dinner     2\n",
            "4       24.59  3.61  Female     No  Sun  Dinner     4\n",
            "R-squared score: 0.43730181943482493\n",
            "Coefficients:\n",
            "[ 0.09469974  0.23348393 -0.01440964  0.01440964  0.09617663 -0.09617663\n",
            "  0.10407492 -0.08171038  0.05328153 -0.07564606 -0.04747858  0.04747858]\n",
            "Intercept: 0.5890523762058075\n"
          ]
        }
      ]
    },
    {
      "cell_type": "markdown",
      "source": [
        "### **Q23. Compare Ridge Regression with Linear Regression on a synthetic dataset and print the coefficients and R-squared score.**"
      ],
      "metadata": {
        "id": "1YZkkKHjuL33"
      }
    },
    {
      "cell_type": "code",
      "source": [
        "# Import necessary libraries\n",
        "from sklearn.datasets import make_regression\n",
        "from sklearn.model_selection import train_test_split\n",
        "from sklearn.linear_model import LinearRegression, Ridge\n",
        "from sklearn.metrics import r2_score\n",
        "import numpy as np\n",
        "\n",
        "# Generate synthetic dataset\n",
        "X, y = make_regression(n_samples=100, n_features=5, noise=0.5, random_state=42)\n",
        "X_train, X_test, y_train, y_test = train_test_split(X, y, test_size=0.2, random_state=42)\n",
        "\n",
        "# Linear Regression\n",
        "lr_model = LinearRegression()\n",
        "lr_model.fit(X_train, y_train)\n",
        "lr_y_pred = lr_model.predict(X_test)\n",
        "lr_r2 = r2_score(y_test, lr_y_pred)\n",
        "\n",
        "print(\"Linear Regression:\")\n",
        "print(\"Coefficients:\", lr_model.coef_)\n",
        "print(\"R-squared:\", lr_r2)\n",
        "\n",
        "# Ridge Regression\n",
        "ridge_model = Ridge(alpha=1.0)  # You can adjust the regularization strength (alpha)\n",
        "ridge_model.fit(X_train, y_train)\n",
        "ridge_y_pred = ridge_model.predict(X_test)\n",
        "ridge_r2 = r2_score(y_test, ridge_y_pred)\n",
        "\n",
        "print(\"\\nRidge Regression:\")\n",
        "print(\"Coefficients:\", ridge_model.coef_)\n",
        "print(\"R-squared:\", ridge_r2)"
      ],
      "metadata": {
        "colab": {
          "base_uri": "https://localhost:8080/"
        },
        "id": "kdFmBL2JuMFG",
        "outputId": "1d9e52e8-ba68-4ce0-e865-b621670cd75d"
      },
      "execution_count": 6,
      "outputs": [
        {
          "output_type": "stream",
          "name": "stdout",
          "text": [
            "Linear Regression:\n",
            "Coefficients: [60.62471229 98.64257547 64.41712289 57.00101398 35.62789458]\n",
            "R-squared: 0.9999858799929303\n",
            "\n",
            "Ridge Regression:\n",
            "Coefficients: [59.91699371 97.14386411 63.10656395 56.25962617 35.36017241]\n",
            "R-squared: 0.9997735249437104\n"
          ]
        }
      ]
    },
    {
      "cell_type": "markdown",
      "source": [
        "### **Q24. Write a Python script that uses cross-validation to evaluate a Linear Regression model on a synthetic dataset.**"
      ],
      "metadata": {
        "id": "MBNfrNnSu_pK"
      }
    },
    {
      "cell_type": "code",
      "source": [
        "import numpy as np\n",
        "from sklearn.linear_model import LinearRegression\n",
        "from sklearn.model_selection import cross_val_score\n",
        "from sklearn.datasets import make_regression\n",
        "\n",
        "# Generate synthetic data\n",
        "X, y = make_regression(n_samples=100, n_features=5, noise=0.5, random_state=42)\n",
        "\n",
        "# Create linear regression model\n",
        "model = LinearRegression()\n",
        "\n",
        "# Perform 5-fold cross-validation\n",
        "cv_scores = cross_val_score(model, X, y, cv=5, scoring='r2')\n",
        "\n",
        "# Print the cross-validation scores\n",
        "print(\"Cross-validation R-squared scores:\", cv_scores)\n",
        "print(\"Mean R-squared score:\", np.mean(cv_scores))"
      ],
      "metadata": {
        "colab": {
          "base_uri": "https://localhost:8080/"
        },
        "id": "xi5pvZ1Bu_zb",
        "outputId": "cd56aca2-bf2e-4aea-dfa6-34bb13432029"
      },
      "execution_count": 7,
      "outputs": [
        {
          "output_type": "stream",
          "name": "stdout",
          "text": [
            "Cross-validation R-squared scores: [0.99998268 0.99997517 0.99999428 0.99997931 0.99998349]\n",
            "Mean R-squared score: 0.9999829848440452\n"
          ]
        }
      ]
    },
    {
      "cell_type": "markdown",
      "source": [
        "### **Q25. Write a Python script that compares polynomial regression models of different degrees and prints the R-squared score for each.**"
      ],
      "metadata": {
        "id": "lT8TOilJvXja"
      }
    },
    {
      "cell_type": "code",
      "source": [
        "import numpy as np\n",
        "import matplotlib.pyplot as plt\n",
        "from sklearn.linear_model import LinearRegression\n",
        "from sklearn.preprocessing import PolynomialFeatures\n",
        "from sklearn.metrics import r2_score\n",
        "from sklearn.pipeline import make_pipeline\n",
        "\n",
        "# Generate synthetic data\n",
        "np.random.seed(0)\n",
        "X = np.random.rand(100, 1)\n",
        "y = 3 + 2 * X + 4 * X**2 - 5 * X**3 + 6 * X**4 + np.random.randn(100, 1)\n",
        "\n",
        "# Degrees of polynomial regression to compare\n",
        "degrees = [1, 2, 3, 4, 5]\n",
        "\n",
        "for degree in degrees:\n",
        "    # Create and train the polynomial regression model\n",
        "    model = make_pipeline(PolynomialFeatures(degree), LinearRegression())\n",
        "    model.fit(X, y)\n",
        "\n",
        "    # Make predictions\n",
        "    y_pred = model.predict(X)\n",
        "\n",
        "    # Calculate and print the R-squared score\n",
        "    r2 = r2_score(y, y_pred)\n",
        "    print(f\"Polynomial Regression (Degree {degree}): R-squared = {r2}\")"
      ],
      "metadata": {
        "colab": {
          "base_uri": "https://localhost:8080/"
        },
        "id": "aqQqt7I9vXu0",
        "outputId": "89e60978-ce1c-43f8-9f58-12c6dd4270fb"
      },
      "execution_count": 8,
      "outputs": [
        {
          "output_type": "stream",
          "name": "stdout",
          "text": [
            "Polynomial Regression (Degree 1): R-squared = 0.724358100867321\n",
            "Polynomial Regression (Degree 2): R-squared = 0.7598464569130117\n",
            "Polynomial Regression (Degree 3): R-squared = 0.7675141339733483\n",
            "Polynomial Regression (Degree 4): R-squared = 0.7680632811930611\n",
            "Polynomial Regression (Degree 5): R-squared = 0.7680747374812164\n"
          ]
        }
      ]
    }
  ]
}