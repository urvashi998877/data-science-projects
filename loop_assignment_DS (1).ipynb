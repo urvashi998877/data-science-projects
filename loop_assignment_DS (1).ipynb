{
  "nbformat": 4,
  "nbformat_minor": 0,
  "metadata": {
    "colab": {
      "provenance": []
    },
    "kernelspec": {
      "name": "python3",
      "display_name": "Python 3"
    },
    "language_info": {
      "name": "python"
    }
  },
  "cells": [
    {
      "cell_type": "markdown",
      "source": [
        "### **Python Assignment**"
      ],
      "metadata": {
        "id": "4vIzZKaw07In"
      }
    },
    {
      "cell_type": "markdown",
      "source": [
        "###Q1. Explain with an example each when to use a for loop and a while loop.\n",
        "\n",
        "\n",
        "Ans...A for loop is used when the number of iterations is predetermined or when you're iterating over a sequence (e.g., list, string, range).Example:Suppose you want to print all numbers from 1 to 5.\n",
        "we use a for loop when we know the range of iteration in advance or are working with sequences like lists, tuples, or strings.\n",
        "\n",
        "A while loop is used when the number of iterations is not known beforehand and depends on a condition.Example:Suppose you want to keep doubling a number until it exceeds 100.\n",
        "We use a while loop when the iteration should continue as long as a certain condition is true, especially if the stopping condition cannot be determined upfront.\n",
        "\n",
        "\n",
        "\n"
      ],
      "metadata": {
        "id": "dWnJJZHbvEs5"
      }
    },
    {
      "cell_type": "code",
      "execution_count": null,
      "metadata": {
        "colab": {
          "base_uri": "https://localhost:8080/"
        },
        "id": "m0Wj8ZMAgUYj",
        "outputId": "119deab6-aeee-4272-946b-a3ab6acb6855"
      },
      "outputs": [
        {
          "output_type": "stream",
          "name": "stdout",
          "text": [
            "1\n",
            "2\n",
            "3\n",
            "4\n",
            "5\n"
          ]
        }
      ],
      "source": [
        "# Using a for loop\n",
        "for i in range(1, 6):  # range(start, stop) generates numbers from start to stop-1\n",
        "    print(i)\n"
      ]
    },
    {
      "cell_type": "code",
      "source": [
        "# Using a while loop\n",
        "number = 1\n",
        "while number <= 100:\n",
        "    print(number)\n",
        "    number *= 2  # Double the number\n"
      ],
      "metadata": {
        "colab": {
          "base_uri": "https://localhost:8080/"
        },
        "id": "6Jr9NDn-wjoY",
        "outputId": "edb9e11c-3952-464c-b6da-073ba3ecb909"
      },
      "execution_count": null,
      "outputs": [
        {
          "output_type": "stream",
          "name": "stdout",
          "text": [
            "1\n",
            "2\n",
            "4\n",
            "8\n",
            "16\n",
            "32\n",
            "64\n"
          ]
        }
      ]
    },
    {
      "cell_type": "markdown",
      "source": [
        "### Q2. Write a python program to print the sum and product of the first 10 natural numbers using for and while loop.\n"
      ],
      "metadata": {
        "id": "evLgwOGIvC4Z"
      }
    },
    {
      "cell_type": "code",
      "source": [
        "# Using a for loop\n",
        "sum_for = 0\n",
        "product_for = 1\n",
        "\n",
        "for i in range(1, 11):  # Iterating through numbers 1 to 10\n",
        "    sum_for += i\n",
        "    product_for *= i\n",
        "\n",
        "print(\"Using for loop:\")\n",
        "print(f\"Sum of first 10 natural numbers: {sum_for}\")\n",
        "print(f\"Product of first 10 natural numbers: {product_for}\")\n"
      ],
      "metadata": {
        "colab": {
          "base_uri": "https://localhost:8080/"
        },
        "id": "oYgCV3yEyr7w",
        "outputId": "acb6a9fa-f1c9-46b7-a8dc-1f228915670e"
      },
      "execution_count": null,
      "outputs": [
        {
          "output_type": "stream",
          "name": "stdout",
          "text": [
            "Using for loop:\n",
            "Sum of first 10 natural numbers: 55\n",
            "Product of first 10 natural numbers: 3628800\n"
          ]
        }
      ]
    },
    {
      "cell_type": "code",
      "source": [
        "# Using a while loop\n",
        "sum_while = 0\n",
        "product_while = 1\n",
        "i = 1  # Initialize the counter\n",
        "\n",
        "while i <= 10:  # Looping through numbers 1 to 10\n",
        "    sum_while += i\n",
        "    product_while *= i\n",
        "    i += 1  # Increment the counter\n",
        "\n",
        "print(\"\\nUsing while loop:\")\n",
        "print(f\"Sum of first 10 natural numbers: {sum_while}\")\n",
        "print(f\"Product of first 10 natural numbers: {product_while}\")\n"
      ],
      "metadata": {
        "colab": {
          "base_uri": "https://localhost:8080/"
        },
        "id": "QzUUzZ06KqrY",
        "outputId": "49000209-e481-4837-f886-4cbdfff7b823"
      },
      "execution_count": null,
      "outputs": [
        {
          "output_type": "stream",
          "name": "stdout",
          "text": [
            "\n",
            "Using while loop:\n",
            "Sum of first 10 natural numbers: 55\n",
            "Product of first 10 natural numbers: 3628800\n"
          ]
        }
      ]
    },
    {
      "cell_type": "markdown",
      "source": [
        "### Q3. Create a python program to compute the electricity bill for a household.The per-unit charges in rupees are as follows: For the first 100 units, the user will be charged Rs. 4.5 per unit, for the next 100 units, the user will be charged Rs. 6 per unit, and for the next 100 units, the user willbe charged Rs. 10 per unit, After 300 units and above the user will be charged Rs. 20 per unit.You are required to take the units of electricity consumed in a month from the user as input.Your program must pass this test case: when the unit of electricity consumed by the user in a month is 310, the total electricity bill should be 2250."
      ],
      "metadata": {
        "id": "eUyWdrbmvDjX"
      }
    },
    {
      "cell_type": "code",
      "source": [
        "def calculate_electricity_bill(units):\n",
        "    if units <= 100:\n",
        "        bill = units * 4.5\n",
        "    elif units <= 200:\n",
        "        bill = (100 * 4.5) + ((units - 100) * 6)\n",
        "    elif units <= 300:\n",
        "        bill = (100 * 4.5) + (100 * 6) + ((units - 200) * 10)\n",
        "    else:\n",
        "        bill = (100 * 4.5) + (100 * 6) + (100 * 10) + ((units - 300) * 20)\n",
        "    return bill\n",
        "\n",
        "units_consumed = int(input(\"Enter the number of units consumed: \"))\n",
        "bill_amount = calculate_electricity_bill(units_consumed)\n",
        "print(f\"Your electricity bill is Rs. {bill_amount:.2f}\")\n"
      ],
      "metadata": {
        "colab": {
          "base_uri": "https://localhost:8080/"
        },
        "id": "_z13yfGGUpqX",
        "outputId": "60170058-4b17-47f8-a970-e3fb5bbeb9bb"
      },
      "execution_count": null,
      "outputs": [
        {
          "output_type": "stream",
          "name": "stdout",
          "text": [
            "Enter the number of units consumed: 140\n",
            "Your electricity bill is Rs. 690.00\n"
          ]
        }
      ]
    },
    {
      "cell_type": "markdown",
      "source": [
        "###Q4. Create a list of numbers from 1 to 100. Use for loop and while loop to calculate the cube of each number and if the cube of that number is divisible by 4 or 5 then append that number in a list and print that list."
      ],
      "metadata": {
        "id": "uACHVcnCVDJg"
      }
    },
    {
      "cell_type": "code",
      "source": [
        "numbers = list(range(1, 101))\n",
        "filtered_numbers = []\n",
        "\n",
        "for number in numbers:\n",
        "    cube = number ** 3\n",
        "    if cube % 4 == 0 or cube % 5 == 0:\n",
        "        filtered_numbers.append(number)\n",
        "\n",
        "print(\"Numbers whose cubes are divisible by 4 or 5 (for loop):\", filtered_numbers)\n"
      ],
      "metadata": {
        "colab": {
          "base_uri": "https://localhost:8080/"
        },
        "id": "RP12HTOIUwJ9",
        "outputId": "8e22daf7-e7f4-4c81-ecd6-237d9fc0aaea"
      },
      "execution_count": null,
      "outputs": [
        {
          "output_type": "stream",
          "name": "stdout",
          "text": [
            "Numbers whose cubes are divisible by 4 or 5 (for loop): [2, 4, 5, 6, 8, 10, 12, 14, 15, 16, 18, 20, 22, 24, 25, 26, 28, 30, 32, 34, 35, 36, 38, 40, 42, 44, 45, 46, 48, 50, 52, 54, 55, 56, 58, 60, 62, 64, 65, 66, 68, 70, 72, 74, 75, 76, 78, 80, 82, 84, 85, 86, 88, 90, 92, 94, 95, 96, 98, 100]\n"
          ]
        }
      ]
    },
    {
      "cell_type": "markdown",
      "source": [
        "### Q5. Write a program to filter count vowels in the below-given string.string = \"I want to become a data scientist\""
      ],
      "metadata": {
        "id": "JHol2KAQYjao"
      }
    },
    {
      "cell_type": "code",
      "source": [
        "# Input string\n",
        "string = \"I want to become a data scientist\"\n",
        "\n",
        "# List of vowels\n",
        "vowels = \"aeiouAEIOU\"\n",
        "\n",
        "# Filter vowels\n",
        "filtered_vowels = [char for char in string if char in vowels]\n",
        "\n",
        "# Count vowels\n",
        "vowel_count = len(filtered_vowels)\n",
        "\n",
        "# Print results\n",
        "print(\"Filtered vowels:\", filtered_vowels)\n",
        "print(\"Total number of vowels:\", vowel_count)\n"
      ],
      "metadata": {
        "colab": {
          "base_uri": "https://localhost:8080/"
        },
        "id": "_feO9yvJYv81",
        "outputId": "7a5d9f8e-5a15-442b-a404-b929bd76af5e"
      },
      "execution_count": null,
      "outputs": [
        {
          "output_type": "stream",
          "name": "stdout",
          "text": [
            "Filtered vowels: ['I', 'a', 'o', 'e', 'o', 'e', 'a', 'a', 'a', 'i', 'e', 'i']\n",
            "Total number of vowels: 12\n"
          ]
        }
      ]
    }
  ]
}